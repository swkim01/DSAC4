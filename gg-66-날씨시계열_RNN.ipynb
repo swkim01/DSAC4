{
 "cells": [
  {
   "cell_type": "markdown",
   "metadata": {
    "colab_type": "text",
    "id": "snxLLdjAiHpP"
   },
   "source": [
    "# 시계열 분석\n",
    "- 온도, 습도, 기압, 풍향 등 14개 데이터 사용, 10분마다 기록\n",
    "- 며칠간의 데이터를 입력하고 24시간 이후의 기온 예측\n",
    "\n",
    "## 드롭아웃, 스태킹, 양방향 순환신경망 사용\n",
    "- 순환 드롭아웃: 과대적합을 방지\n",
    "- 스태킹 순환 층: 네트워크의 표현능력을 향상(계산량은 늘어난다)\n",
    "- 양방향 순환 층: 서로 다른 방향으로 데이터를 입력하여 정확도를 높이고 기억을 오랫동안 유지  \n",
    "\n",
    "## 데이터\n",
    "- 독일 Jena시 막스 프랑크 생물지구화학연구소에서 지상 관측소에서 측정한 데이터 \n",
    "- 2009~2016년 데이터 사용\n",
    "\n",
    "<table class=\"tfo-notebook-buttons\" align=\"left\">\n",
    "  <td>\n",
    "    <a target=\"_blank\" href=\"https://colab.research.google.com/github/swkim01/DSAC4/blob/main/gg-66-날씨시계열_RNN.ipynb\"><img src=\"https://github.com/swkim01/DSAC4/raw/main/colab_logo_32px.png\" />구글 코랩에서 실행</a>\n",
    "  </td>\n",
    "  <td>\n",
    "    <a target=\"_blank\" href=\"https://github.com/swkim01/DSAC4/blob/main/gg-66-날씨시계열_RNN.ipynb\"><img src=\"https://github.com/swkim01/DSAC4/raw/main/GitHub-Mark-32px.png\" />깃헙에서 소스 보기</a>\n",
    "  </td>\n",
    "</table>"
   ]
  },
  {
   "cell_type": "code",
   "execution_count": 1,
   "metadata": {
    "colab": {},
    "colab_type": "code",
    "id": "l83oJpPakC43"
   },
   "outputs": [
    {
     "name": "stderr",
     "output_type": "stream",
     "text": [
      "Duplicate key in file PosixPath('/usr/local/lib/python3.8/dist-packages/matplotlib/mpl-data/matplotlibrc'), line 250 ('font.family:  UnDotum')\n",
      "Duplicate key in file PosixPath('/usr/local/lib/python3.8/dist-packages/matplotlib/mpl-data/matplotlibrc'), line 251 ('font.family:  NanumGothic')\n",
      "Duplicate key in file PosixPath('/usr/local/lib/python3.8/dist-packages/matplotlib/mpl-data/matplotlibrc'), line 403 ('axes.unicode_minus: True  # use Unicode for the minus symbol rather than hyphen.  See')\n"
     ]
    }
   ],
   "source": [
    "import numpy as np\n",
    "import pandas as pd\n",
    "import os, os.path, shutil\n",
    "import matplotlib.pyplot as plt\n",
    "%matplotlib inline"
   ]
  },
  {
   "cell_type": "code",
   "execution_count": 2,
   "metadata": {
    "colab": {
     "base_uri": "https://localhost:8080/",
     "height": 222
    },
    "colab_type": "code",
    "executionInfo": {
     "elapsed": 4925,
     "status": "ok",
     "timestamp": 1559464136992,
     "user": {
      "displayName": "김화종",
      "photoUrl": "https://lh4.googleusercontent.com/-sR-MVK_KsAg/AAAAAAAAAAI/AAAAAAAALbE/3e3Eq9nrGuw/s64/photo.jpg",
      "userId": "17353049580175403985"
     },
     "user_tz": -540
    },
    "id": "0l-hSHFgkImi",
    "outputId": "4bfd4903-cb9d-49ca-a332-4f0b4f89a3d0"
   },
   "outputs": [
    {
     "name": "stdout",
     "output_type": "stream",
     "text": [
      "--2021-05-13 10:42:41--  https://s3.amazonaws.com/keras-datasets/jena_climate_2009_2016.csv.zip\n",
      "s3.amazonaws.com (s3.amazonaws.com)을(를) 해석하는 중... 52.217.163.48\n",
      "접속 s3.amazonaws.com (s3.amazonaws.com)|52.217.163.48|:443... 접속됨.\n",
      "HTTP 요청을 전송했습니다. 응답을 기다리는 중입니다... 200 OK\n",
      "길이: 13565642 (13M) [application/zip]\n",
      "다음 위치에 저장: `jena_climate.zip'\n",
      "\n",
      "jena_climate.zip      6%[>                   ] 808.64K  9.12KB/s    남은 시간 23m 25s^C\n"
     ]
    }
   ],
   "source": [
    "!wget --no-check-certificate \\\n",
    "    https://s3.amazonaws.com/keras-datasets/jena_climate_2009_2016.csv.zip \\\n",
    "    -O jena_climate.zip"
   ]
  },
  {
   "cell_type": "code",
   "execution_count": 3,
   "metadata": {
    "colab": {
     "base_uri": "https://localhost:8080/",
     "height": 67
    },
    "colab_type": "code",
    "executionInfo": {
     "elapsed": 21442,
     "status": "ok",
     "timestamp": 1559464163795,
     "user": {
      "displayName": "김화종",
      "photoUrl": "https://lh4.googleusercontent.com/-sR-MVK_KsAg/AAAAAAAAAAI/AAAAAAAALbE/3e3Eq9nrGuw/s64/photo.jpg",
      "userId": "17353049580175403985"
     },
     "user_tz": -540
    },
    "id": "TjdOdrH_TJTT",
    "outputId": "8c56a6df-9952-4a7a-f99d-27371280ead5"
   },
   "outputs": [
    {
     "name": "stdout",
     "output_type": "stream",
     "text": [
      "Archive:  jena_climate.zip\n",
      "  inflating: jena_climate_2009_2016.csv  \n",
      "  inflating: __MACOSX/._jena_climate_2009_2016.csv  \n"
     ]
    }
   ],
   "source": [
    "!unzip jena_climate.zip"
   ]
  },
  {
   "cell_type": "code",
   "execution_count": null,
   "metadata": {},
   "outputs": [],
   "source": [
    "!ls"
   ]
  },
  {
   "cell_type": "code",
   "execution_count": 11,
   "metadata": {
    "colab": {
     "base_uri": "https://localhost:8080/",
     "height": 240
    },
    "colab_type": "code",
    "executionInfo": {
     "elapsed": 3240,
     "status": "ok",
     "timestamp": 1559464970319,
     "user": {
      "displayName": "김화종",
      "photoUrl": "https://lh4.googleusercontent.com/-sR-MVK_KsAg/AAAAAAAAAAI/AAAAAAAALbE/3e3Eq9nrGuw/s64/photo.jpg",
      "userId": "17353049580175403985"
     },
     "user_tz": -540
    },
    "id": "V86WWhHQWS58",
    "outputId": "0a81efd7-92b8-4026-db28-3a3d857cfe92"
   },
   "outputs": [
    {
     "data": {
      "text/html": [
       "<div>\n",
       "<style scoped>\n",
       "    .dataframe tbody tr th:only-of-type {\n",
       "        vertical-align: middle;\n",
       "    }\n",
       "\n",
       "    .dataframe tbody tr th {\n",
       "        vertical-align: top;\n",
       "    }\n",
       "\n",
       "    .dataframe thead th {\n",
       "        text-align: right;\n",
       "    }\n",
       "</style>\n",
       "<table border=\"1\" class=\"dataframe\">\n",
       "  <thead>\n",
       "    <tr style=\"text-align: right;\">\n",
       "      <th></th>\n",
       "      <th>Date Time</th>\n",
       "      <th>p (mbar)</th>\n",
       "      <th>T (degC)</th>\n",
       "      <th>Tpot (K)</th>\n",
       "      <th>Tdew (degC)</th>\n",
       "      <th>rh (%)</th>\n",
       "      <th>VPmax (mbar)</th>\n",
       "      <th>VPact (mbar)</th>\n",
       "      <th>VPdef (mbar)</th>\n",
       "      <th>sh (g/kg)</th>\n",
       "      <th>H2OC (mmol/mol)</th>\n",
       "      <th>rho (g/m**3)</th>\n",
       "      <th>wv (m/s)</th>\n",
       "      <th>max. wv (m/s)</th>\n",
       "      <th>wd (deg)</th>\n",
       "    </tr>\n",
       "  </thead>\n",
       "  <tbody>\n",
       "    <tr>\n",
       "      <th>0</th>\n",
       "      <td>01.01.2009 00:10:00</td>\n",
       "      <td>996.52</td>\n",
       "      <td>-8.02</td>\n",
       "      <td>265.40</td>\n",
       "      <td>-8.90</td>\n",
       "      <td>93.3</td>\n",
       "      <td>3.33</td>\n",
       "      <td>3.11</td>\n",
       "      <td>0.22</td>\n",
       "      <td>1.94</td>\n",
       "      <td>3.12</td>\n",
       "      <td>1307.75</td>\n",
       "      <td>1.03</td>\n",
       "      <td>1.75</td>\n",
       "      <td>152.3</td>\n",
       "    </tr>\n",
       "    <tr>\n",
       "      <th>1</th>\n",
       "      <td>01.01.2009 00:20:00</td>\n",
       "      <td>996.57</td>\n",
       "      <td>-8.41</td>\n",
       "      <td>265.01</td>\n",
       "      <td>-9.28</td>\n",
       "      <td>93.4</td>\n",
       "      <td>3.23</td>\n",
       "      <td>3.02</td>\n",
       "      <td>0.21</td>\n",
       "      <td>1.89</td>\n",
       "      <td>3.03</td>\n",
       "      <td>1309.80</td>\n",
       "      <td>0.72</td>\n",
       "      <td>1.50</td>\n",
       "      <td>136.1</td>\n",
       "    </tr>\n",
       "    <tr>\n",
       "      <th>2</th>\n",
       "      <td>01.01.2009 00:30:00</td>\n",
       "      <td>996.53</td>\n",
       "      <td>-8.51</td>\n",
       "      <td>264.91</td>\n",
       "      <td>-9.31</td>\n",
       "      <td>93.9</td>\n",
       "      <td>3.21</td>\n",
       "      <td>3.01</td>\n",
       "      <td>0.20</td>\n",
       "      <td>1.88</td>\n",
       "      <td>3.02</td>\n",
       "      <td>1310.24</td>\n",
       "      <td>0.19</td>\n",
       "      <td>0.63</td>\n",
       "      <td>171.6</td>\n",
       "    </tr>\n",
       "  </tbody>\n",
       "</table>\n",
       "</div>"
      ],
      "text/plain": [
       "             Date Time  p (mbar)  T (degC)  Tpot (K)  Tdew (degC)  rh (%)  \\\n",
       "0  01.01.2009 00:10:00    996.52     -8.02    265.40        -8.90    93.3   \n",
       "1  01.01.2009 00:20:00    996.57     -8.41    265.01        -9.28    93.4   \n",
       "2  01.01.2009 00:30:00    996.53     -8.51    264.91        -9.31    93.9   \n",
       "\n",
       "   VPmax (mbar)  VPact (mbar)  VPdef (mbar)  sh (g/kg)  H2OC (mmol/mol)  \\\n",
       "0          3.33          3.11          0.22       1.94             3.12   \n",
       "1          3.23          3.02          0.21       1.89             3.03   \n",
       "2          3.21          3.01          0.20       1.88             3.02   \n",
       "\n",
       "   rho (g/m**3)  wv (m/s)  max. wv (m/s)  wd (deg)  \n",
       "0       1307.75      1.03           1.75     152.3  \n",
       "1       1309.80      0.72           1.50     136.1  \n",
       "2       1310.24      0.19           0.63     171.6  "
      ]
     },
     "execution_count": 11,
     "metadata": {},
     "output_type": "execute_result"
    }
   ],
   "source": [
    "# 데이터프레임으로 읽는 경우\n",
    "df = pd.read_csv('jena_climate_2009_2016.csv')\n",
    "df[:3]"
   ]
  },
  {
   "cell_type": "code",
   "execution_count": 12,
   "metadata": {
    "colab": {
     "base_uri": "https://localhost:8080/",
     "height": 218
    },
    "colab_type": "code",
    "executionInfo": {
     "elapsed": 1158,
     "status": "ok",
     "timestamp": 1559465303636,
     "user": {
      "displayName": "김화종",
      "photoUrl": "https://lh4.googleusercontent.com/-sR-MVK_KsAg/AAAAAAAAAAI/AAAAAAAALbE/3e3Eq9nrGuw/s64/photo.jpg",
      "userId": "17353049580175403985"
     },
     "user_tz": -540
    },
    "id": "5SPoUtVbXvpq",
    "outputId": "5d90056a-8b93-4db9-f6ec-b04010a71199"
   },
   "outputs": [
    {
     "data": {
      "text/plain": [
       "array([[ 9.96520e+02, -8.02000e+00,  2.65400e+02, -8.90000e+00,\n",
       "         9.33000e+01,  3.33000e+00,  3.11000e+00,  2.20000e-01,\n",
       "         1.94000e+00,  3.12000e+00,  1.30775e+03,  1.03000e+00,\n",
       "         1.75000e+00,  1.52300e+02],\n",
       "       [ 9.96570e+02, -8.41000e+00,  2.65010e+02, -9.28000e+00,\n",
       "         9.34000e+01,  3.23000e+00,  3.02000e+00,  2.10000e-01,\n",
       "         1.89000e+00,  3.03000e+00,  1.30980e+03,  7.20000e-01,\n",
       "         1.50000e+00,  1.36100e+02],\n",
       "       [ 9.96530e+02, -8.51000e+00,  2.64910e+02, -9.31000e+00,\n",
       "         9.39000e+01,  3.21000e+00,  3.01000e+00,  2.00000e-01,\n",
       "         1.88000e+00,  3.02000e+00,  1.31024e+03,  1.90000e-01,\n",
       "         6.30000e-01,  1.71600e+02]])"
      ]
     },
     "execution_count": 12,
     "metadata": {},
     "output_type": "execute_result"
    }
   ],
   "source": [
    "x = df.drop('Date Time', axis=1).values\n",
    "x[:3]"
   ]
  },
  {
   "cell_type": "code",
   "execution_count": 13,
   "metadata": {},
   "outputs": [
    {
     "data": {
      "image/png": "[encoded data removed]",
      "text/plain": [
       "<Figure size 432x288 with 3 Axes>"
      ]
     },
     "metadata": {
      "needs_background": "light"
     },
     "output_type": "display_data"
    },
    {
     "data": {
      "image/png": "[encoded data removed]",
      "text/plain": [
       "<Figure size 432x288 with 3 Axes>"
      ]
     },
     "metadata": {
      "needs_background": "light"
     },
     "output_type": "display_data"
    }
   ],
   "source": [
    "# 5번 데이터부터 매 6번째 데이터를 추출 - 매 시간 데이터로 변환(slice[start:stop:step])\n",
    "df = df[5::6]\n",
    "date_time = pd.to_datetime(df.pop('Date Time'), format='%d.%m.%Y %H:%M:%S')\n",
    "\n",
    "plot_cols = ['T (degC)', 'p (mbar)', 'rho (g/m**3)']\n",
    "plot_features = df[plot_cols]\n",
    "plot_features.index = date_time\n",
    "_ = plot_features.plot(subplots=True)\n",
    "\n",
    "plot_features = df[plot_cols][:480]\n",
    "plot_features.index = date_time[:480]\n",
    "_ = plot_features.plot(subplots=True)"
   ]
  },
  {
   "cell_type": "code",
   "execution_count": 4,
   "metadata": {
    "colab": {
     "base_uri": "https://localhost:8080/",
     "height": 70
    },
    "colab_type": "code",
    "executionInfo": {
     "elapsed": 1074,
     "status": "ok",
     "timestamp": 1559464332748,
     "user": {
      "displayName": "김화종",
      "photoUrl": "https://lh4.googleusercontent.com/-sR-MVK_KsAg/AAAAAAAAAAI/AAAAAAAALbE/3e3Eq9nrGuw/s64/photo.jpg",
      "userId": "17353049580175403985"
     },
     "user_tz": -540
    },
    "id": "mq_Hbg4MiHpS",
    "outputId": "6cf8f1b6-aa88-4d9d-f194-a5925b472cae"
   },
   "outputs": [
    {
     "name": "stdout",
     "output_type": "stream",
     "text": [
      "['\"Date Time\"', '\"p (mbar)\"', '\"T (degC)\"', '\"Tpot (K)\"', '\"Tdew (degC)\"', '\"rh (%)\"', '\"VPmax (mbar)\"', '\"VPact (mbar)\"', '\"VPdef (mbar)\"', '\"sh (g/kg)\"', '\"H2OC (mmol/mol)\"', '\"rho (g/m**3)\"', '\"wv (m/s)\"', '\"max. wv (m/s)\"', '\"wd (deg)\"']\n",
      "데이터 사이즈:  420451\n"
     ]
    }
   ],
   "source": [
    "# data_dir = './data'\n",
    "# fname = os.path.join(data_dir, 'jena_climate_2009_2016.csv')\n",
    "\n",
    "# csv 파일을 직접 다루는 경우\n",
    "f = open('jena_climate_2009_2016.csv')\n",
    "data = f.read()\n",
    "f.close()\n",
    "\n",
    "lines = data.split('\\n')\n",
    "header = lines[0].split(',')\n",
    "lines = lines[1:]\n",
    "\n",
    "print(header)\n",
    "print(\"데이터 사이즈: \",len(lines))"
   ]
  },
  {
   "cell_type": "code",
   "execution_count": 5,
   "metadata": {
    "colab": {
     "base_uri": "https://localhost:8080/",
     "height": 54
    },
    "colab_type": "code",
    "executionInfo": {
     "elapsed": 1305,
     "status": "ok",
     "timestamp": 1559464581683,
     "user": {
      "displayName": "김화종",
      "photoUrl": "https://lh4.googleusercontent.com/-sR-MVK_KsAg/AAAAAAAAAAI/AAAAAAAALbE/3e3Eq9nrGuw/s64/photo.jpg",
      "userId": "17353049580175403985"
     },
     "user_tz": -540
    },
    "id": "vPfdoM8IlHVy",
    "outputId": "21addfb3-f238-45c5-f193-8f008ae30ecc"
   },
   "outputs": [
    {
     "data": {
      "text/plain": [
       "'01.01.2009 00:10:00,996.52,-8.02,265.40,-8.90,93.30,3.33,3.11,0.22,1.94,3.12,1307.75,1.03,1.75,152.30'"
      ]
     },
     "execution_count": 5,
     "metadata": {},
     "output_type": "execute_result"
    }
   ],
   "source": [
    "lines[0]"
   ]
  },
  {
   "cell_type": "code",
   "execution_count": 6,
   "metadata": {
    "colab": {},
    "colab_type": "code",
    "id": "Zd_KYTw7iHpX"
   },
   "outputs": [],
   "source": [
    "x = np.zeros((len(lines), len(header) - 1))\n",
    "for i, line in enumerate(lines):\n",
    "    values = [float(x) for x in line.split(',')[1:]]\n",
    "    x[i, :] = values"
   ]
  },
  {
   "cell_type": "code",
   "execution_count": 7,
   "metadata": {
    "colab": {
     "base_uri": "https://localhost:8080/",
     "height": 218
    },
    "colab_type": "code",
    "executionInfo": {
     "elapsed": 1292,
     "status": "ok",
     "timestamp": 1559465291755,
     "user": {
      "displayName": "김화종",
      "photoUrl": "https://lh4.googleusercontent.com/-sR-MVK_KsAg/AAAAAAAAAAI/AAAAAAAALbE/3e3Eq9nrGuw/s64/photo.jpg",
      "userId": "17353049580175403985"
     },
     "user_tz": -540
    },
    "id": "1tisf02qo8-T",
    "outputId": "7f78594c-06f8-4bef-8ad5-f7650baad429"
   },
   "outputs": [
    {
     "data": {
      "text/plain": [
       "array([[ 9.96520e+02, -8.02000e+00,  2.65400e+02, -8.90000e+00,\n",
       "         9.33000e+01,  3.33000e+00,  3.11000e+00,  2.20000e-01,\n",
       "         1.94000e+00,  3.12000e+00,  1.30775e+03,  1.03000e+00,\n",
       "         1.75000e+00,  1.52300e+02],\n",
       "       [ 9.96570e+02, -8.41000e+00,  2.65010e+02, -9.28000e+00,\n",
       "         9.34000e+01,  3.23000e+00,  3.02000e+00,  2.10000e-01,\n",
       "         1.89000e+00,  3.03000e+00,  1.30980e+03,  7.20000e-01,\n",
       "         1.50000e+00,  1.36100e+02],\n",
       "       [ 9.96530e+02, -8.51000e+00,  2.64910e+02, -9.31000e+00,\n",
       "         9.39000e+01,  3.21000e+00,  3.01000e+00,  2.00000e-01,\n",
       "         1.88000e+00,  3.02000e+00,  1.31024e+03,  1.90000e-01,\n",
       "         6.30000e-01,  1.71600e+02]])"
      ]
     },
     "execution_count": 7,
     "metadata": {},
     "output_type": "execute_result"
    }
   ],
   "source": [
    "x[:3]"
   ]
  },
  {
   "cell_type": "code",
   "execution_count": 9,
   "metadata": {
    "colab": {
     "base_uri": "https://localhost:8080/",
     "height": 269
    },
    "colab_type": "code",
    "executionInfo": {
     "elapsed": 1331,
     "status": "ok",
     "timestamp": 1559465393693,
     "user": {
      "displayName": "김화종",
      "photoUrl": "https://lh4.googleusercontent.com/-sR-MVK_KsAg/AAAAAAAAAAI/AAAAAAAALbE/3e3Eq9nrGuw/s64/photo.jpg",
      "userId": "17353049580175403985"
     },
     "user_tz": -540
    },
    "id": "yJ_seNumiHpb",
    "outputId": "a9735287-be18-4d1f-e4c4-0b1c62d686bd"
   },
   "outputs": [
    {
     "data": {
      "image/png": "[encoded data removed]",
      "text/plain": [
       "<Figure size 432x288 with 1 Axes>"
      ]
     },
     "metadata": {
      "needs_background": "light"
     },
     "output_type": "display_data"
    }
   ],
   "source": [
    "temp = x[:, 1]  # 기온만 그려본다\n",
    "plt.plot(range(len(temp)), temp)\n",
    "plt.show()"
   ]
  },
  {
   "cell_type": "markdown",
   "metadata": {
    "colab_type": "text",
    "id": "aX9k72EriHpf"
   },
   "source": [
    "### 10일간 데이터\n",
    "- 샘플은 10분마다 측정\n",
    "- 스케일링 필요 (데이터 속성이 다름)\n",
    "- 하루에 140번 측정"
   ]
  },
  {
   "cell_type": "code",
   "execution_count": 10,
   "metadata": {
    "colab": {
     "base_uri": "https://localhost:8080/",
     "height": 269
    },
    "colab_type": "code",
    "executionInfo": {
     "elapsed": 1217,
     "status": "ok",
     "timestamp": 1559465412792,
     "user": {
      "displayName": "김화종",
      "photoUrl": "https://lh4.googleusercontent.com/-sR-MVK_KsAg/AAAAAAAAAAI/AAAAAAAALbE/3e3Eq9nrGuw/s64/photo.jpg",
      "userId": "17353049580175403985"
     },
     "user_tz": -540
    },
    "id": "2HvEg4LqiHpg",
    "outputId": "fa2bb7d1-f810-454c-c5c4-7bd3f6c1ccea"
   },
   "outputs": [
    {
     "data": {
      "image/png": "[encoded data removed]",
      "text/plain": [
       "<Figure size 432x288 with 1 Axes>"
      ]
     },
     "metadata": {
      "needs_background": "light"
     },
     "output_type": "display_data"
    }
   ],
   "source": [
    "plt.plot(range(1440), temp[:1440])\n",
    "plt.show()"
   ]
  },
  {
   "cell_type": "markdown",
   "metadata": {
    "colab_type": "text",
    "id": "88g2u4ZniHpl"
   },
   "source": [
    "## 파라미터 준비\n",
    "\n",
    "\n",
    "* `lookback = 720`, 5일간 데이터를 관찰.\n",
    "* `steps = 6`, 1시간마다 한번 샘플링.\n",
    "* `delay = 144`, 24시간 후를 예측.\n",
    "\n",
    "### 준비할 사항\n",
    "\n",
    "- 데이터 변환 (스케일링): 20만개 훈련 샘플을 사용하여 평균과 표준편차를 계산한다.\n",
    "- 데이터가 수치형이므로 벡터화는 사용하지 않는다\n",
    "- 입력 데이터와 레이블을 공급하기 위한 제너레이터를 작성\n",
    "\n"
   ]
  },
  {
   "cell_type": "code",
   "execution_count": 11,
   "metadata": {
    "colab": {},
    "colab_type": "code",
    "id": "WNm4RFVziHpm"
   },
   "outputs": [],
   "source": [
    "mean = x[:200000].mean(axis=0)\n",
    "x -= mean\n",
    "std = x[:200000].std(axis=0)\n",
    "x /= std"
   ]
  },
  {
   "cell_type": "code",
   "execution_count": 12,
   "metadata": {
    "colab": {
     "base_uri": "https://localhost:8080/",
     "height": 134
    },
    "colab_type": "code",
    "executionInfo": {
     "elapsed": 2250,
     "status": "ok",
     "timestamp": 1559465871766,
     "user": {
      "displayName": "김화종",
      "photoUrl": "https://lh4.googleusercontent.com/-sR-MVK_KsAg/AAAAAAAAAAI/AAAAAAAALbE/3e3Eq9nrGuw/s64/photo.jpg",
      "userId": "17353049580175403985"
     },
     "user_tz": -540
    },
    "id": "8rZpgn-tZ_Rk",
    "outputId": "5102c4c5-22d0-4d54-ac6d-844e7918ff4c"
   },
   "outputs": [
    {
     "data": {
      "text/plain": [
       "(array([ 8.48043388,  8.85249908,  8.95324185,  7.16584991, 16.72731652,\n",
       "         7.68914559,  4.19808168,  4.84034436,  2.66564926,  4.25206364,\n",
       "        42.48884277,  1.53666449,  2.33067298, 86.61322998]),\n",
       " array([ 988.88635885,    9.07734895,  283.14631345,    4.44854725,\n",
       "          75.35405895,   13.3829553 ,    9.29695535,    4.08591725,\n",
       "           5.8752111 ,    9.40521005, 1217.51429655,    2.1510037 ,\n",
       "           3.56950915,  176.21703355]))"
      ]
     },
     "execution_count": 12,
     "metadata": {},
     "output_type": "execute_result"
    }
   ],
   "source": [
    "std, mean"
   ]
  },
  {
   "cell_type": "markdown",
   "metadata": {
    "colab_type": "text",
    "id": "kuwgbHiNiHpq"
   },
   "source": [
    "제너레이터는 (samples, targets) 형태의 값을 생성한다.  sample은 입력의 한 배치를 나타낸다.\n",
    "\n",
    "제너레이터를 사용하는 이유는 입력 데이터를 모두 한번에 메모리에 미리 로드하지 않기 위해서이다.\n",
    "\n",
    "아래는 제너레이터 함수의 인자이다:\n",
    "\n",
    "* `data`: 스케링된 입력 데이터\n",
    "* `lookback`: 과거의 몇개의 타임스텝을 사용할지 지정\n",
    "* `delay`: 미래 몇 타임스텝후를 예측할지\n",
    "* `min_index` and `max_index`: 검증 및 테스트 데이터를 구분하는 경계를 표시\n",
    "* `shuffle`: 샘플들은 랜덤하게 취할지를 지정\n",
    "* `batch_size`: 배치 크기\n",
    "* `step`: 샘플 데이터를 취할 타임스텝수 (여기서는 6)"
   ]
  },
  {
   "cell_type": "code",
   "execution_count": 13,
   "metadata": {
    "colab": {},
    "colab_type": "code",
    "id": "qHO6lmHhiHpr"
   },
   "outputs": [],
   "source": [
    "def generator(data, lookback, delay, min_index, max_index,\n",
    "              shuffle=False, batch_size=128, step=6):\n",
    "    if max_index is None:\n",
    "        max_index = len(data) - delay - 1\n",
    "    i = min_index + lookback\n",
    "    while 1:\n",
    "        if shuffle:\n",
    "            rows = np.random.randint(\n",
    "                min_index + lookback, max_index, size=batch_size)\n",
    "        else:\n",
    "            if i + batch_size >= max_index:\n",
    "                i = min_index + lookback\n",
    "            rows = np.arange(i, min(i + batch_size, max_index))\n",
    "            i += len(rows)\n",
    "\n",
    "        samples = np.zeros((len(rows),\n",
    "                           lookback // step,\n",
    "                           data.shape[-1]))\n",
    "        targets = np.zeros((len(rows),))\n",
    "        for j, row in enumerate(rows):\n",
    "            indices = range(rows[j] - lookback, rows[j], step)\n",
    "            samples[j] = data[indices]\n",
    "            targets[j] = data[rows[j] + delay][1]\n",
    "        yield samples, targets"
   ]
  },
  {
   "cell_type": "markdown",
   "metadata": {
    "colab_type": "text",
    "id": "W8XSvlCXiHpu"
   },
   "source": [
    "훈련 데이터는 처음 20만개, 검증 데이터는 다음 10만개, 나머지는 테스트 데이터로 사용한다.\n",
    "SGD를 사용하면 과적합을 피하고, 최적값을 찾아낸 확률이 높아진다."
   ]
  },
  {
   "cell_type": "code",
   "execution_count": 14,
   "metadata": {
    "colab": {},
    "colab_type": "code",
    "id": "EsRiVyuJiHpv"
   },
   "outputs": [],
   "source": [
    "lookback = 1440\n",
    "step = 6\n",
    "delay = 144\n",
    "batch_size = 128\n",
    "\n",
    "train_gen = generator(x,\n",
    "                      lookback=lookback,\n",
    "                      delay=delay,\n",
    "                      min_index=0,\n",
    "                      max_index=200000,\n",
    "                      shuffle=True,\n",
    "                      step=step, \n",
    "                      batch_size=batch_size)\n",
    "val_gen = generator(x,\n",
    "                    lookback=lookback,\n",
    "                    delay=delay,\n",
    "                    min_index=200001,\n",
    "                    max_index=300000,\n",
    "                    step=step,\n",
    "                    batch_size=batch_size)\n",
    "test_gen = generator(x,\n",
    "                     lookback=lookback,\n",
    "                     delay=delay,\n",
    "                     min_index=300001,\n",
    "                     max_index=None,\n",
    "                     step=step,\n",
    "                     batch_size=batch_size)\n",
    "\n",
    "val_steps = (300000 - 200001 - lookback) // batch_size\n",
    "test_steps = (len(x) - 300001 - lookback) // batch_size"
   ]
  },
  {
   "cell_type": "markdown",
   "metadata": {
    "colab_type": "text",
    "id": "9YbObfmLiHp0"
   },
   "source": [
    "## 기본 성능 모델\n",
    "\n",
    "평균치 예측 등, 가장 기본적인 성능을 내는, 최소 기준의 모델을 말한다. 기계학습을 사용하면 적어도 이보다는 성능이 좋아야 한다.\n",
    "  \n",
    "여기서는 내일의 날씨는 오늘과 같다고 단순히 예측하는 모델을 사용하겠다. 성능 평가로 절대값 오차를 사용(MAE). "
   ]
  },
  {
   "cell_type": "markdown",
   "metadata": {
    "colab_type": "text",
    "id": "sqriX86NiHp4"
   },
   "source": [
    "- 아래에 기본 성능 모델의 성능을 계산하였다."
   ]
  },
  {
   "cell_type": "code",
   "execution_count": 15,
   "metadata": {
    "colab": {
     "base_uri": "https://localhost:8080/",
     "height": 34
    },
    "colab_type": "code",
    "executionInfo": {
     "elapsed": 5637,
     "status": "ok",
     "timestamp": 1559465720612,
     "user": {
      "displayName": "김화종",
      "photoUrl": "https://lh4.googleusercontent.com/-sR-MVK_KsAg/AAAAAAAAAAI/AAAAAAAALbE/3e3Eq9nrGuw/s64/photo.jpg",
      "userId": "17353049580175403985"
     },
     "user_tz": -540
    },
    "id": "nJ14NY-ciHp6",
    "outputId": "a1f80a1a-61bc-474a-b0f8-6a912327f09a"
   },
   "outputs": [
    {
     "name": "stdout",
     "output_type": "stream",
     "text": [
      "0.2897359729905486\n"
     ]
    }
   ],
   "source": [
    "def evaluate_naive_method():\n",
    "    batch_maes = []\n",
    "    for step in range(val_steps):\n",
    "        samples, targets = next(val_gen)\n",
    "        preds = samples[:, -1, 1]\n",
    "        mae = np.mean(np.abs(preds - targets))\n",
    "        batch_maes.append(mae)\n",
    "    print(np.mean(batch_maes))\n",
    "    \n",
    "evaluate_naive_method()"
   ]
  },
  {
   "cell_type": "markdown",
   "metadata": {
    "colab_type": "text",
    "id": "R8v7_bkdiHp-"
   },
   "source": [
    "오차 값 0.29는 정규화 한 값이므로 표준 편차(8.8525)를 곱하여 온도의 오차를 구할 수 있다. 온도의 평균 오차는  \n",
    "2.57˚C이다. "
   ]
  },
  {
   "cell_type": "markdown",
   "metadata": {
    "colab_type": "text",
    "id": "cV2ubn4ZiHqA"
   },
   "source": [
    "## 간단한 신경망 모델\n",
    "\n",
    "- 여기서는 두개의 전결합망으로 구성된 MLP을 먼저 만들어보겠다. 성능평가는 MAE를 사용한다.회귀문제이므로 마지막 단은 활성화함수를 사용하지 않는다."
   ]
  },
  {
   "cell_type": "code",
   "execution_count": 16,
   "metadata": {
    "colab": {
     "base_uri": "https://localhost:8080/",
     "height": 761
    },
    "colab_type": "code",
    "executionInfo": {
     "elapsed": 100599,
     "status": "error",
     "timestamp": 1559480293136,
     "user": {
      "displayName": "김화종",
      "photoUrl": "https://lh4.googleusercontent.com/-sR-MVK_KsAg/AAAAAAAAAAI/AAAAAAAALbE/3e3Eq9nrGuw/s64/photo.jpg",
      "userId": "17353049580175403985"
     },
     "user_tz": -540
    },
    "id": "4Kyvqb1BiHqB",
    "outputId": "b38df133-3c39-4a33-a596-1515c3575ac9"
   },
   "outputs": [
    {
     "name": "stdout",
     "output_type": "stream",
     "text": [
      "WARNING:tensorflow:From <ipython-input-16-b64d4899766b>:11: Model.fit_generator (from tensorflow.python.keras.engine.training) is deprecated and will be removed in a future version.\n",
      "Instructions for updating:\n",
      "Please use Model.fit, which supports generators.\n",
      "Epoch 1/20\n",
      "500/500 [==============================] - 9s 18ms/step - loss: 1.2132 - val_loss: 0.6246\n",
      "Epoch 2/20\n",
      "500/500 [==============================] - 9s 18ms/step - loss: 0.3979 - val_loss: 0.3036\n",
      "Epoch 3/20\n",
      "500/500 [==============================] - 9s 18ms/step - loss: 0.2915 - val_loss: 0.3486\n",
      "Epoch 4/20\n",
      "500/500 [==============================] - 9s 18ms/step - loss: 0.2671 - val_loss: 0.3171\n",
      "Epoch 5/20\n",
      "500/500 [==============================] - 9s 18ms/step - loss: 0.2532 - val_loss: 0.3052\n",
      "Epoch 6/20\n",
      "500/500 [==============================] - 9s 18ms/step - loss: 0.2433 - val_loss: 0.3389\n",
      "Epoch 7/20\n",
      "500/500 [==============================] - 9s 18ms/step - loss: 0.2362 - val_loss: 0.3431\n",
      "Epoch 8/20\n",
      "500/500 [==============================] - 9s 18ms/step - loss: 0.2312 - val_loss: 0.3205\n",
      "Epoch 9/20\n",
      "500/500 [==============================] - 9s 18ms/step - loss: 0.2274 - val_loss: 0.3347\n",
      "Epoch 10/20\n",
      "500/500 [==============================] - 9s 18ms/step - loss: 0.2225 - val_loss: 0.3399\n",
      "Epoch 11/20\n",
      "500/500 [==============================] - 9s 18ms/step - loss: 0.2189 - val_loss: 0.3266\n",
      "Epoch 12/20\n",
      "500/500 [==============================] - 9s 18ms/step - loss: 0.2151 - val_loss: 0.3320\n",
      "Epoch 13/20\n",
      "500/500 [==============================] - 9s 18ms/step - loss: 0.2140 - val_loss: 0.3335\n",
      "Epoch 14/20\n",
      "500/500 [==============================] - 9s 18ms/step - loss: 0.2102 - val_loss: 0.3353\n",
      "Epoch 15/20\n",
      "500/500 [==============================] - 9s 18ms/step - loss: 0.2097 - val_loss: 0.3386\n",
      "Epoch 16/20\n",
      "500/500 [==============================] - 9s 18ms/step - loss: 0.2068 - val_loss: 0.3324\n",
      "Epoch 17/20\n",
      "500/500 [==============================] - 9s 18ms/step - loss: 0.2036 - val_loss: 0.3610\n",
      "Epoch 18/20\n",
      "500/500 [==============================] - 9s 18ms/step - loss: 0.2037 - val_loss: 0.3513\n",
      "Epoch 19/20\n",
      "500/500 [==============================] - 9s 18ms/step - loss: 0.2016 - val_loss: 0.3448\n",
      "Epoch 20/20\n",
      "500/500 [==============================] - 9s 18ms/step - loss: 0.1998 - val_loss: 0.3335\n"
     ]
    }
   ],
   "source": [
    "from keras.models import Sequential\n",
    "from keras import layers\n",
    "from keras.optimizers import RMSprop\n",
    "\n",
    "model = Sequential()\n",
    "model.add(layers.Flatten(input_shape=(lookback // step, x.shape[-1])))\n",
    "model.add(layers.Dense(32, activation='relu'))\n",
    "model.add(layers.Dense(1))\n",
    "\n",
    "model.compile(optimizer=RMSprop(), loss='mae')\n",
    "history = model.fit_generator(train_gen,\n",
    "                              steps_per_epoch=500,\n",
    "                              epochs=20,\n",
    "                              validation_data=val_gen,\n",
    "                              validation_steps=val_steps)"
   ]
  },
  {
   "cell_type": "markdown",
   "metadata": {
    "colab_type": "text",
    "id": "rrAbpjzkiHqI"
   },
   "source": [
    "훈련과 검증 데이터에 대해서 손실함수 그래프를 그려보겠다."
   ]
  },
  {
   "cell_type": "code",
   "execution_count": 0,
   "metadata": {
    "colab": {},
    "colab_type": "code",
    "id": "3vLXQh6diHqK",
    "outputId": "97e2dd35-c885-4465-fdd1-0543712594ae"
   },
   "outputs": [
    {
     "data": {
      "text/plain": [
       "<matplotlib.figure.Figure at 0x7f3317e5a2b0>"
      ]
     },
     "metadata": {
      "tags": []
     },
     "output_type": "display_data"
    },
    {
     "data": {
      "image/png": "[encoded data removed]",
      "text/plain": [
       "<matplotlib.figure.Figure at 0x7f3317ee2e80>"
      ]
     },
     "metadata": {
      "tags": []
     },
     "output_type": "display_data"
    }
   ],
   "source": [
    "import matplotlib.pyplot as plt\n",
    "\n",
    "loss = history.history['loss']\n",
    "val_loss = history.history['val_loss']\n",
    "\n",
    "epochs = range(len(loss))\n",
    "\n",
    "plt.figure()\n",
    "\n",
    "plt.plot(epochs, loss, 'bo', label='Training loss')\n",
    "plt.plot(epochs, val_loss, 'b', label='Validation loss')\n",
    "plt.title('Training and validation loss')\n",
    "plt.legend()\n",
    "\n",
    "plt.show()"
   ]
  },
  {
   "cell_type": "markdown",
   "metadata": {
    "colab_type": "text",
    "id": "qb7xgsFqiHqS"
   },
   "source": [
    "앞에서 구한 기본성능 0.29을 얻는 것도 쉽지 않다. 모델로 복잡한 구조를 사용했다고 해서 간단한, 상식적인 모델보다 우수한 성능을 내는 것은 아니다. 모델이 이러한 답을 바로 찾을 수 있다는 보장은 없다. (사람의 직관에 의한 기본 성능을 내는 것도 컴퓨터에게는 어려울 수 있다.)"
   ]
  },
  {
   "cell_type": "markdown",
   "metadata": {
    "colab_type": "text",
    "id": "EuBKIa80iHqU"
   },
   "source": [
    "## 간단한 RNN 모델\n",
    "\n",
    "앞의 MLP는 시간 정보를 활용하지 못하고 있다. 시퀀스 데이터를 그대로 사용하고 이를 반영하는 모델을 만들어야 한다. \n",
    "\n",
    "LSTM을 간략히 구현하는 방식인 GRU(gated recurrent unit)을 사용하겠다."
   ]
  },
  {
   "cell_type": "code",
   "execution_count": 0,
   "metadata": {
    "colab": {},
    "colab_type": "code",
    "id": "gJTSUXQKiHqW",
    "outputId": "b110c9d9-f3aa-44a7-f3fa-ee1628c6668a"
   },
   "outputs": [
    {
     "name": "stdout",
     "output_type": "stream",
     "text": [
      "Epoch 1/20\n",
      "500/500 [==============================] - 169s - loss: 0.3216 - val_loss: 0.2738\n",
      "Epoch 2/20\n",
      "500/500 [==============================] - 168s - loss: 0.2846 - val_loss: 0.2654\n",
      "Epoch 3/20\n",
      "500/500 [==============================] - 168s - loss: 0.2772 - val_loss: 0.2653\n",
      "Epoch 4/20\n",
      "500/500 [==============================] - 168s - loss: 0.2707 - val_loss: 0.2663\n",
      "Epoch 5/20\n",
      "500/500 [==============================] - 168s - loss: 0.2643 - val_loss: 0.2680\n",
      "Epoch 6/20\n",
      "500/500 [==============================] - 169s - loss: 0.2584 - val_loss: 0.2644\n",
      "Epoch 7/20\n",
      "500/500 [==============================] - 168s - loss: 0.2553 - val_loss: 0.2658\n",
      "Epoch 8/20\n",
      "500/500 [==============================] - 168s - loss: 0.2508 - val_loss: 0.2672\n",
      "Epoch 9/20\n",
      "500/500 [==============================] - 165s - loss: 0.2455 - val_loss: 0.2728\n",
      "Epoch 10/20\n",
      "500/500 [==============================] - 164s - loss: 0.2423 - val_loss: 0.2801\n",
      "Epoch 11/20\n",
      "500/500 [==============================] - 164s - loss: 0.2386 - val_loss: 0.2750\n",
      "Epoch 12/20\n",
      "500/500 [==============================] - 164s - loss: 0.2364 - val_loss: 0.2774\n",
      "Epoch 13/20\n",
      "500/500 [==============================] - 165s - loss: 0.2313 - val_loss: 0.2810\n",
      "Epoch 14/20\n",
      "500/500 [==============================] - 165s - loss: 0.2283 - val_loss: 0.2855\n",
      "Epoch 15/20\n",
      "500/500 [==============================] - 165s - loss: 0.2246 - val_loss: 0.2879\n",
      "Epoch 16/20\n",
      "500/500 [==============================] - 165s - loss: 0.2194 - val_loss: 0.2894\n",
      "Epoch 17/20\n",
      "500/500 [==============================] - 164s - loss: 0.2181 - val_loss: 0.2941\n",
      "Epoch 18/20\n",
      "500/500 [==============================] - 164s - loss: 0.2139 - val_loss: 0.2982\n",
      "Epoch 19/20\n",
      "500/500 [==============================] - 164s - loss: 0.2100 - val_loss: 0.2973\n",
      "Epoch 20/20\n",
      "500/500 [==============================] - 165s - loss: 0.2074 - val_loss: 0.3034\n"
     ]
    }
   ],
   "source": [
    "from keras.models import Sequential\n",
    "from keras import layers\n",
    "from keras.optimizers import RMSprop\n",
    "\n",
    "model = Sequential()\n",
    "model.add(layers.GRU(32, input_shape=(None, x.shape[-1])))\n",
    "model.add(layers.Dense(1))\n",
    "\n",
    "model.compile(optimizer=RMSprop(), loss='mae')\n",
    "history = model.fit_generator(train_gen,\n",
    "                              steps_per_epoch=500,\n",
    "                              epochs=20,\n",
    "                              validation_data=val_gen,\n",
    "                              validation_steps=val_steps)"
   ]
  },
  {
   "cell_type": "markdown",
   "metadata": {
    "colab_type": "text",
    "id": "FkB_k03QiHqa"
   },
   "source": [
    "[링크 텍스트](https://)아래 결과를 보면 성능이 나아졌다."
   ]
  },
  {
   "cell_type": "code",
   "execution_count": 0,
   "metadata": {
    "colab": {},
    "colab_type": "code",
    "id": "nK8xGJ2SiHqb",
    "outputId": "59b09734-14d8-4e38-f03a-4a159f6716e9"
   },
   "outputs": [
    {
     "data": {
      "text/plain": [
       "<matplotlib.figure.Figure at 0x7f3317e755f8>"
      ]
     },
     "metadata": {
      "tags": []
     },
     "output_type": "display_data"
    },
    {
     "data": {
      "image/png": "[encoded data removed]",
      "text/plain": [
       "<matplotlib.figure.Figure at 0x7f3316a8b358>"
      ]
     },
     "metadata": {
      "tags": []
     },
     "output_type": "display_data"
    }
   ],
   "source": [
    "loss = history.history['loss']\n",
    "val_loss = history.history['val_loss']\n",
    "\n",
    "epochs = range(len(loss))\n",
    "\n",
    "plt.figure()\n",
    "\n",
    "plt.plot(epochs, loss, 'bo', label='Training loss')\n",
    "plt.plot(epochs, val_loss, 'b', label='Validation loss')\n",
    "plt.title('Training and validation loss')\n",
    "plt.legend()\n",
    "\n",
    "plt.show()"
   ]
  },
  {
   "cell_type": "markdown",
   "metadata": {
    "colab_type": "text",
    "id": "tbcDyCEpiHqf"
   },
   "source": [
    "MAE 성능이 0.265 정도로 조금 개선되었다.(2.35˚C)  - 기본 모델의 성능이 2.57˚C 였다."
   ]
  },
  {
   "cell_type": "markdown",
   "metadata": {
    "colab_type": "text",
    "id": "6XMiUYegiHqf"
   },
   "source": [
    "## 과대적합 줄이기\n",
    "\n",
    "몇 번의 이포크 후에 성능이 바빠지므로 과대적합된 것을 알 수 있다. 오랫동안 순환층 이전에 드롭아웃을 사용하면 학습에 방해가 된다고 알려졌다. 타임 스텝마다 랜덤하게 드롭아웃 패턴을 바꾸지 않고, 동일한 패턴을 모든 타임 스텝에 적용해야 한다. 드롭아웃을 사용하면 학습시간이 오래걸린다.\n"
   ]
  },
  {
   "cell_type": "code",
   "execution_count": 0,
   "metadata": {
    "colab": {},
    "colab_type": "code",
    "id": "AntVPUN_iHqg",
    "outputId": "c548c64d-29fb-4ed3-e50a-96cd07e1909f"
   },
   "outputs": [
    {
     "name": "stdout",
     "output_type": "stream",
     "text": [
      "Epoch 1/40\n",
      "500/500 [==============================] - 171s - loss: 0.3526 - val_loss: 0.2740\n",
      "Epoch 2/40\n",
      "500/500 [==============================] - 170s - loss: 0.3138 - val_loss: 0.2742\n",
      "Epoch 3/40\n",
      "500/500 [==============================] - 170s - loss: 0.3065 - val_loss: 0.2692\n",
      "Epoch 4/40\n",
      "500/500 [==============================] - 170s - loss: 0.3033 - val_loss: 0.2694\n",
      "Epoch 5/40\n",
      "500/500 [==============================] - 170s - loss: 0.3006 - val_loss: 0.2695\n",
      "Epoch 6/40\n",
      "500/500 [==============================] - 170s - loss: 0.2990 - val_loss: 0.2709\n",
      "Epoch 7/40\n",
      "500/500 [==============================] - 170s - loss: 0.2955 - val_loss: 0.2667\n",
      "Epoch 8/40\n",
      "500/500 [==============================] - 170s - loss: 0.2942 - val_loss: 0.2671\n",
      "Epoch 9/40\n",
      "500/500 [==============================] - 171s - loss: 0.2940 - val_loss: 0.2649\n",
      "Epoch 10/40\n",
      "500/500 [==============================] - 170s - loss: 0.2923 - val_loss: 0.2673\n",
      "Epoch 11/40\n",
      "500/500 [==============================] - 170s - loss: 0.2894 - val_loss: 0.2695\n",
      "Epoch 12/40\n",
      "500/500 [==============================] - 170s - loss: 0.2899 - val_loss: 0.2648\n",
      "Epoch 13/40\n",
      "500/500 [==============================] - 170s - loss: 0.2879 - val_loss: 0.2634\n",
      "Epoch 14/40\n",
      "500/500 [==============================] - 170s - loss: 0.2884 - val_loss: 0.2666\n",
      "Epoch 15/40\n",
      "500/500 [==============================] - 170s - loss: 0.2863 - val_loss: 0.2695\n",
      "Epoch 16/40\n",
      "500/500 [==============================] - 170s - loss: 0.2852 - val_loss: 0.2705\n",
      "Epoch 17/40\n",
      "500/500 [==============================] - 170s - loss: 0.2843 - val_loss: 0.2739\n",
      "Epoch 18/40\n",
      "500/500 [==============================] - 170s - loss: 0.2844 - val_loss: 0.2646\n",
      "Epoch 19/40\n",
      "500/500 [==============================] - 170s - loss: 0.2827 - val_loss: 0.2661\n",
      "Epoch 20/40\n",
      "500/500 [==============================] - 170s - loss: 0.2813 - val_loss: 0.2637\n",
      "Epoch 21/40\n",
      "500/500 [==============================] - 170s - loss: 0.2805 - val_loss: 0.2663\n",
      "Epoch 22/40\n",
      "500/500 [==============================] - 170s - loss: 0.2786 - val_loss: 0.2662\n",
      "Epoch 23/40\n",
      "500/500 [==============================] - 170s - loss: 0.2795 - val_loss: 0.2637\n",
      "Epoch 24/40\n",
      "500/500 [==============================] - 170s - loss: 0.2801 - val_loss: 0.2649\n",
      "Epoch 25/40\n",
      "500/500 [==============================] - 170s - loss: 0.2774 - val_loss: 0.2723\n",
      "Epoch 26/40\n",
      "500/500 [==============================] - 170s - loss: 0.2788 - val_loss: 0.2682\n",
      "Epoch 27/40\n",
      "500/500 [==============================] - 171s - loss: 0.2780 - val_loss: 0.2655\n",
      "Epoch 28/40\n",
      "500/500 [==============================] - 170s - loss: 0.2782 - val_loss: 0.2645\n",
      "Epoch 29/40\n",
      "500/500 [==============================] - 170s - loss: 0.2770 - val_loss: 0.2647\n",
      "Epoch 30/40\n",
      "500/500 [==============================] - 170s - loss: 0.2756 - val_loss: 0.2746\n",
      "Epoch 31/40\n",
      "500/500 [==============================] - 171s - loss: 0.2763 - val_loss: 0.2641\n",
      "Epoch 32/40\n",
      "500/500 [==============================] - 170s - loss: 0.2752 - val_loss: 0.2733\n",
      "Epoch 33/40\n",
      "500/500 [==============================] - 170s - loss: 0.2742 - val_loss: 0.2619\n",
      "Epoch 34/40\n",
      "500/500 [==============================] - 170s - loss: 0.2753 - val_loss: 0.2711\n",
      "Epoch 35/40\n",
      "500/500 [==============================] - 170s - loss: 0.2727 - val_loss: 0.2658\n",
      "Epoch 36/40\n",
      "500/500 [==============================] - 170s - loss: 0.2724 - val_loss: 0.2664\n",
      "Epoch 37/40\n",
      "500/500 [==============================] - 170s - loss: 0.2725 - val_loss: 0.2661\n",
      "Epoch 38/40\n",
      "500/500 [==============================] - 171s - loss: 0.2725 - val_loss: 0.2633\n",
      "Epoch 39/40\n",
      "500/500 [==============================] - 170s - loss: 0.2726 - val_loss: 0.2695\n",
      "Epoch 40/40\n",
      "500/500 [==============================] - 170s - loss: 0.2727 - val_loss: 0.2719\n"
     ]
    }
   ],
   "source": [
    "from keras.models import Sequential\n",
    "from keras import layers\n",
    "from keras.optimizers import RMSprop\n",
    "\n",
    "model = Sequential()\n",
    "model.add(layers.GRU(32,\n",
    "                     dropout=0.2,\n",
    "                     recurrent_dropout=0.2,\n",
    "                     input_shape=(None, float_data.shape[-1])))\n",
    "model.add(layers.Dense(1))\n",
    "\n",
    "model.compile(optimizer=RMSprop(), loss='mae')\n",
    "history = model.fit_generator(train_gen,\n",
    "                              steps_per_epoch=500,\n",
    "                              epochs=40,\n",
    "                              validation_data=val_gen,\n",
    "                              validation_steps=val_steps)"
   ]
  },
  {
   "cell_type": "code",
   "execution_count": 0,
   "metadata": {
    "colab": {},
    "colab_type": "code",
    "id": "dLkEk4NJiHqn",
    "outputId": "0ccc6f95-8205-42d9-8873-2d538eecd18a"
   },
   "outputs": [
    {
     "data": {
      "text/plain": [
       "<matplotlib.figure.Figure at 0x7f3317e879e8>"
      ]
     },
     "metadata": {
      "tags": []
     },
     "output_type": "display_data"
    },
    {
     "data": {
      "image/png": "[encoded data removed]",
      "text/plain": [
       "<matplotlib.figure.Figure at 0x7f3315076e48>"
      ]
     },
     "metadata": {
      "tags": []
     },
     "output_type": "display_data"
    }
   ],
   "source": [
    "loss = history.history['loss']\n",
    "val_loss = history.history['val_loss']\n",
    "\n",
    "epochs = range(len(loss))\n",
    "\n",
    "plt.figure()\n",
    "\n",
    "plt.plot(epochs, loss, 'bo', label='Training loss')\n",
    "plt.plot(epochs, val_loss, 'b', label='Validation loss')\n",
    "plt.title('Training and validation loss')\n",
    "plt.legend()\n",
    "\n",
    "plt.show()"
   ]
  },
  {
   "cell_type": "markdown",
   "metadata": {
    "colab_type": "text",
    "id": "rhlv49kniHqs"
   },
   "source": [
    "과대적합이 발생하지 않았다. 성능은 별로 개선되지는 않았다."
   ]
  },
  {
   "cell_type": "markdown",
   "metadata": {
    "colab_type": "text",
    "id": "fhEII381iHqt"
   },
   "source": [
    "## 순환망 쌓기 (Stacking)\n",
    "\n",
    "이제 과대적합이 되기 전까지는 네트워크의 복잡도(용량)을 늘려서 성능을 개선할 수 있다. 스태킹을 하려면 중간 계층에서는 시퀀스 전체를 출력해야 한다. 이를 위해서 return_sequences=True 로 설정해야 한다."
   ]
  },
  {
   "cell_type": "code",
   "execution_count": 0,
   "metadata": {
    "colab": {},
    "colab_type": "code",
    "id": "Max-3YU0iHqv",
    "outputId": "28794cf0-94b4-4b1c-bc1c-cd624385e6a3"
   },
   "outputs": [
    {
     "name": "stdout",
     "output_type": "stream",
     "text": [
      "Epoch 1/40\n",
      "500/500 [==============================] - 346s - loss: 0.3341 - val_loss: 0.2780\n",
      "Epoch 2/40\n",
      "500/500 [==============================] - 344s - loss: 0.3125 - val_loss: 0.2754\n",
      "Epoch 3/40\n",
      "500/500 [==============================] - 344s - loss: 0.3045 - val_loss: 0.2696\n",
      "Epoch 4/40\n",
      "500/500 [==============================] - 344s - loss: 0.3018 - val_loss: 0.2747\n",
      "Epoch 5/40\n",
      "500/500 [==============================] - 344s - loss: 0.2957 - val_loss: 0.2690\n",
      "Epoch 6/40\n",
      "500/500 [==============================] - 344s - loss: 0.2923 - val_loss: 0.2692\n",
      "Epoch 7/40\n",
      "500/500 [==============================] - 344s - loss: 0.2907 - val_loss: 0.2673\n",
      "Epoch 8/40\n",
      "500/500 [==============================] - 343s - loss: 0.2879 - val_loss: 0.2690\n",
      "Epoch 9/40\n",
      "500/500 [==============================] - 343s - loss: 0.2866 - val_loss: 0.2743\n",
      "Epoch 10/40\n",
      "500/500 [==============================] - 344s - loss: 0.2833 - val_loss: 0.2669\n",
      "Epoch 11/40\n",
      "500/500 [==============================] - 344s - loss: 0.2825 - val_loss: 0.2669\n",
      "Epoch 12/40\n",
      "500/500 [==============================] - 344s - loss: 0.2822 - val_loss: 0.2700\n",
      "Epoch 13/40\n",
      "500/500 [==============================] - 345s - loss: 0.2785 - val_loss: 0.2698\n",
      "Epoch 14/40\n",
      "500/500 [==============================] - 345s - loss: 0.2775 - val_loss: 0.2634\n",
      "Epoch 15/40\n",
      "500/500 [==============================] - 344s - loss: 0.2778 - val_loss: 0.2653\n",
      "Epoch 16/40\n",
      "500/500 [==============================] - 344s - loss: 0.2740 - val_loss: 0.2633\n",
      "Epoch 17/40\n",
      "500/500 [==============================] - 344s - loss: 0.2746 - val_loss: 0.2680\n",
      "Epoch 18/40\n",
      "500/500 [==============================] - 344s - loss: 0.2731 - val_loss: 0.2649\n",
      "Epoch 19/40\n",
      "500/500 [==============================] - 345s - loss: 0.2709 - val_loss: 0.2699\n",
      "Epoch 20/40\n",
      "500/500 [==============================] - 344s - loss: 0.2693 - val_loss: 0.2655\n",
      "Epoch 21/40\n",
      "500/500 [==============================] - 345s - loss: 0.2679 - val_loss: 0.2654\n",
      "Epoch 22/40\n",
      "500/500 [==============================] - 344s - loss: 0.2677 - val_loss: 0.2731\n",
      "Epoch 23/40\n",
      "500/500 [==============================] - 345s - loss: 0.2672 - val_loss: 0.2680\n",
      "Epoch 24/40\n",
      "500/500 [==============================] - 345s - loss: 0.2648 - val_loss: 0.2669\n",
      "Epoch 25/40\n",
      "500/500 [==============================] - 345s - loss: 0.2645 - val_loss: 0.2655\n",
      "Epoch 26/40\n",
      "500/500 [==============================] - 344s - loss: 0.2648 - val_loss: 0.2673\n",
      "Epoch 27/40\n",
      "500/500 [==============================] - 344s - loss: 0.2624 - val_loss: 0.2694\n",
      "Epoch 28/40\n",
      "500/500 [==============================] - 344s - loss: 0.2624 - val_loss: 0.2698\n",
      "Epoch 29/40\n",
      "500/500 [==============================] - 344s - loss: 0.2602 - val_loss: 0.2765\n",
      "Epoch 30/40\n",
      "500/500 [==============================] - 344s - loss: 0.2596 - val_loss: 0.2795\n",
      "Epoch 31/40\n",
      "500/500 [==============================] - 344s - loss: 0.2598 - val_loss: 0.2688\n",
      "Epoch 32/40\n",
      "500/500 [==============================] - 344s - loss: 0.2590 - val_loss: 0.2724\n",
      "Epoch 33/40\n",
      "500/500 [==============================] - 344s - loss: 0.2581 - val_loss: 0.2754\n",
      "Epoch 34/40\n",
      "500/500 [==============================] - 344s - loss: 0.2570 - val_loss: 0.2688\n",
      "Epoch 35/40\n",
      "500/500 [==============================] - 344s - loss: 0.2559 - val_loss: 0.2753\n",
      "Epoch 36/40\n",
      "500/500 [==============================] - 345s - loss: 0.2552 - val_loss: 0.2719\n",
      "Epoch 37/40\n",
      "500/500 [==============================] - 344s - loss: 0.2552 - val_loss: 0.2745\n",
      "Epoch 38/40\n",
      "500/500 [==============================] - 344s - loss: 0.2537 - val_loss: 0.2761\n",
      "Epoch 39/40\n",
      "500/500 [==============================] - 344s - loss: 0.2546 - val_loss: 0.2793\n",
      "Epoch 40/40\n",
      "500/500 [==============================] - 345s - loss: 0.2532 - val_loss: 0.2782\n"
     ]
    }
   ],
   "source": [
    "from keras.models import Sequential\n",
    "from keras import layers\n",
    "from keras.optimizers import RMSprop\n",
    "\n",
    "model = Sequential()\n",
    "model.add(layers.GRU(32,\n",
    "                     dropout=0.1,\n",
    "                     recurrent_dropout=0.5,\n",
    "                     return_sequences=True,\n",
    "                     input_shape=(None, float_data.shape[-1])))\n",
    "model.add(layers.GRU(64, activation='relu',\n",
    "                     dropout=0.1, \n",
    "                     recurrent_dropout=0.5))\n",
    "model.add(layers.Dense(1))\n",
    "\n",
    "model.compile(optimizer=RMSprop(), loss='mae')\n",
    "history = model.fit_generator(train_gen,\n",
    "                              steps_per_epoch=500,\n",
    "                              epochs=40,\n",
    "                              validation_data=val_gen,\n",
    "                              validation_steps=val_steps)"
   ]
  },
  {
   "cell_type": "markdown",
   "metadata": {
    "colab_type": "text",
    "id": "rGeQzk1WiHq1"
   },
   "source": [
    "성능을 보겠다."
   ]
  },
  {
   "cell_type": "code",
   "execution_count": 0,
   "metadata": {
    "colab": {},
    "colab_type": "code",
    "id": "mkH4hVrViHq2",
    "outputId": "6973fc89-f88a-451b-f4c2-25ae07b16d84"
   },
   "outputs": [
    {
     "data": {
      "text/plain": [
       "<matplotlib.figure.Figure at 0x7f33151ee630>"
      ]
     },
     "metadata": {
      "tags": []
     },
     "output_type": "display_data"
    },
    {
     "data": {
      "image/png": "[encoded data removed]",
      "text/plain": [
       "<matplotlib.figure.Figure at 0x7f3315184390>"
      ]
     },
     "metadata": {
      "tags": []
     },
     "output_type": "display_data"
    }
   ],
   "source": [
    "loss = history.history['loss']\n",
    "val_loss = history.history['val_loss']\n",
    "\n",
    "epochs = range(len(loss))\n",
    "\n",
    "plt.figure()\n",
    "\n",
    "plt.plot(epochs, loss, 'bo', label='Training loss')\n",
    "plt.plot(epochs, val_loss, 'b', label='Validation loss')\n",
    "plt.title('Training and validation loss')\n",
    "plt.legend()\n",
    "\n",
    "plt.show()"
   ]
  },
  {
   "cell_type": "markdown",
   "metadata": {
    "colab_type": "text",
    "id": "KBrkbUxhiHq7"
   },
   "source": [
    "층을 추가해도 성능이 크게 향상되지 않는 것을 알 수 있다."
   ]
  },
  {
   "cell_type": "markdown",
   "metadata": {
    "colab_type": "text",
    "id": "_J4HOSCHiHq8"
   },
   "source": [
    "## 양방향 RNN\n",
    "\n",
    "자연어 처리에서 우수한 성능을 낸다. RNN을 두개 사용하고 입력 시퀀스를 역방향으로도 사용한 두가지 학습하여 이를 합친다. 이를 통해 단방향이 놓치지 쉬운 패턴을 찾아낼 수 있다.\n",
    "\n",
    "아래와 같이 '순서를 뒤집는' 유명한 코드를 사용한다.\n",
    "\n",
    "`yield samples[:, ::-1, :], targets`\n",
    "\n",
    "\n",
    "온도 예측의 경우, 성능은 오히려 나빠지는 것을 알 수 있다. - 자연어 처리에서는 성능이 개선되는 경우가 많다 (최근 BERT)"
   ]
  },
  {
   "cell_type": "code",
   "execution_count": 0,
   "metadata": {
    "colab": {},
    "colab_type": "code",
    "id": "BI9LLaB4iHq-"
   },
   "outputs": [],
   "source": [
    "def reverse_order_generator(data, lookback, delay, min_index, max_index,\n",
    "                            shuffle=False, batch_size=128, step=6):\n",
    "    if max_index is None:\n",
    "        max_index = len(data) - delay - 1\n",
    "    i = min_index + lookback\n",
    "    while 1:\n",
    "        if shuffle:\n",
    "            rows = np.random.randint(\n",
    "                min_index + lookback, max_index, size=batch_size)\n",
    "        else:\n",
    "            if i + batch_size >= max_index:\n",
    "                i = min_index + lookback\n",
    "            rows = np.arange(i, min(i + batch_size, max_index))\n",
    "            i += len(rows)\n",
    "\n",
    "        samples = np.zeros((len(rows),\n",
    "                           lookback // step,\n",
    "                           data.shape[-1]))\n",
    "        targets = np.zeros((len(rows),))\n",
    "        for j, row in enumerate(rows):\n",
    "            indices = range(rows[j] - lookback, rows[j], step)\n",
    "            samples[j] = data[indices]\n",
    "            targets[j] = data[rows[j] + delay][1]\n",
    "        yield samples[:, ::-1, :], targets\n",
    "        \n",
    "train_gen_reverse = reverse_order_generator(\n",
    "    float_data,\n",
    "    lookback=lookback,\n",
    "    delay=delay,\n",
    "    min_index=0,\n",
    "    max_index=200000,\n",
    "    shuffle=True,\n",
    "    step=step, \n",
    "    batch_size=batch_size)\n",
    "val_gen_reverse = reverse_order_generator(\n",
    "    float_data,\n",
    "    lookback=lookback,\n",
    "    delay=delay,\n",
    "    min_index=200001,\n",
    "    max_index=300000,\n",
    "    step=step,\n",
    "    batch_size=batch_size)"
   ]
  },
  {
   "cell_type": "code",
   "execution_count": 0,
   "metadata": {
    "colab": {},
    "colab_type": "code",
    "id": "XHWX59rTiHrA",
    "outputId": "65d8c5c7-4071-4e60-861a-b82f37fef84b"
   },
   "outputs": [
    {
     "name": "stdout",
     "output_type": "stream",
     "text": [
      "Epoch 1/20\n",
      "500/500 [==============================] - 172s - loss: 0.4781 - val_loss: 0.4797\n",
      "Epoch 2/20\n",
      "500/500 [==============================] - 171s - loss: 0.4529 - val_loss: 0.4679\n",
      "Epoch 3/20\n",
      "500/500 [==============================] - 170s - loss: 0.4071 - val_loss: 0.4536\n",
      "Epoch 4/20\n",
      "500/500 [==============================] - 171s - loss: 0.3670 - val_loss: 0.4398\n",
      "Epoch 5/20\n",
      "500/500 [==============================] - 170s - loss: 0.3343 - val_loss: 0.4320\n",
      "Epoch 6/20\n",
      "500/500 [==============================] - 170s - loss: 0.3191 - val_loss: 0.4388\n",
      "Epoch 7/20\n",
      "500/500 [==============================] - 170s - loss: 0.3065 - val_loss: 0.4186\n",
      "Epoch 8/20\n",
      "500/500 [==============================] - 170s - loss: 0.2938 - val_loss: 0.4014\n",
      "Epoch 9/20\n",
      "500/500 [==============================] - 170s - loss: 0.2824 - val_loss: 0.4077\n",
      "Epoch 10/20\n",
      "500/500 [==============================] - 170s - loss: 0.2724 - val_loss: 0.4090\n",
      "Epoch 11/20\n",
      "500/500 [==============================] - 170s - loss: 0.2670 - val_loss: 0.3990\n",
      "Epoch 12/20\n",
      "500/500 [==============================] - 170s - loss: 0.2613 - val_loss: 0.4146\n",
      "Epoch 13/20\n",
      "500/500 [==============================] - 170s - loss: 0.2548 - val_loss: 0.4013\n",
      "Epoch 14/20\n",
      "500/500 [==============================] - 170s - loss: 0.2521 - val_loss: 0.4086\n",
      "Epoch 15/20\n",
      "500/500 [==============================] - 170s - loss: 0.2458 - val_loss: 0.4178\n",
      "Epoch 16/20\n",
      "500/500 [==============================] - 170s - loss: 0.2437 - val_loss: 0.4097\n",
      "Epoch 17/20\n",
      "500/500 [==============================] - 170s - loss: 0.2416 - val_loss: 0.4163\n",
      "Epoch 18/20\n",
      "500/500 [==============================] - 170s - loss: 0.2373 - val_loss: 0.4174\n",
      "Epoch 19/20\n",
      "500/500 [==============================] - 170s - loss: 0.2355 - val_loss: 0.4064\n",
      "Epoch 20/20\n",
      "500/500 [==============================] - 170s - loss: 0.2313 - val_loss: 0.4261\n"
     ]
    }
   ],
   "source": [
    "model = Sequential()\n",
    "model.add(layers.GRU(32, input_shape=(None, float_data.shape[-1])))\n",
    "model.add(layers.Dense(1))\n",
    "\n",
    "model.compile(optimizer=RMSprop(), loss='mae')\n",
    "history = model.fit_generator(train_gen_reverse,\n",
    "                              steps_per_epoch=500,\n",
    "                              epochs=20,\n",
    "                              validation_data=val_gen_reverse,\n",
    "                              validation_steps=val_steps)"
   ]
  },
  {
   "cell_type": "code",
   "execution_count": 0,
   "metadata": {
    "colab": {},
    "colab_type": "code",
    "id": "27AD67qUiHrF",
    "outputId": "4a682198-3805-4656-f46d-dd64289b2780"
   },
   "outputs": [
    {
     "data": {
      "text/plain": [
       "<matplotlib.figure.Figure at 0x7f3314e81860>"
      ]
     },
     "metadata": {
      "tags": []
     },
     "output_type": "display_data"
    },
    {
     "data": {
      "image/png": "[encoded data removed]",
      "text/plain": [
       "<matplotlib.figure.Figure at 0x7f330f25bcc0>"
      ]
     },
     "metadata": {
      "tags": []
     },
     "output_type": "display_data"
    }
   ],
   "source": [
    "loss = history.history['loss']\n",
    "val_loss = history.history['val_loss']\n",
    "\n",
    "epochs = range(len(loss))\n",
    "\n",
    "plt.figure()\n",
    "\n",
    "plt.plot(epochs, loss, 'bo', label='Training loss')\n",
    "plt.plot(epochs, val_loss, 'b', label='Validation loss')\n",
    "plt.title('Training and validation loss')\n",
    "plt.legend()\n",
    "\n",
    "plt.show()"
   ]
  },
  {
   "cell_type": "markdown",
   "metadata": {},
   "source": [
    "### 추가실습\n",
    "- https://www.tensorflow.org/tutorials/structured_data/time_series"
   ]
  },
  {
   "cell_type": "code",
   "execution_count": null,
   "metadata": {},
   "outputs": [],
   "source": []
  }
 ],
 "metadata": {
  "accelerator": "GPU",
  "colab": {
   "collapsed_sections": [],
   "name": "gg_69_날씨시계열_RNN",
   "provenance": [],
   "version": "0.3.2"
  },
  "kernelspec": {
   "display_name": "Python 3",
   "language": "python",
   "name": "python3"
  },
  "language_info": {
   "codemirror_mode": {
    "name": "ipython",
    "version": 3
   },
   "file_extension": ".py",
   "mimetype": "text/x-python",
   "name": "python",
   "nbconvert_exporter": "python",
   "pygments_lexer": "ipython3",
   "version": "3.8.5"
  }
 },
 "nbformat": 4,
 "nbformat_minor": 1
}
