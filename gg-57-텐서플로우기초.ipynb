{
  "nbformat": 4,
  "nbformat_minor": 0,
  "metadata": {
    "accelerator": "GPU",
    "colab": {
      "name": "gg-49-텐서플로우기초.ipynb",
      "provenance": [],
      "collapsed_sections": []
    },
    "kernelspec": {
      "display_name": "Python 3",
      "language": "python",
      "name": "python3"
    },
    "language_info": {
      "codemirror_mode": {
        "name": "ipython",
        "version": 3
      },
      "file_extension": ".py",
      "mimetype": "text/x-python",
      "name": "python",
      "nbconvert_exporter": "python",
      "pygments_lexer": "ipython3",
      "version": "3.8.5"
    }
  },
  "cells": [
    {
      "cell_type": "markdown",
      "metadata": {
        "id": "77KgW2YADwUp"
      },
      "source": [
        "# 텐서플로우 기초\n",
        "\n",
        "<table class=\"tfo-notebook-buttons\" align=\"left\">\n",
        "  <td>\n",
        "    <a target=\"_blank\" href=\"https://colab.research.google.com/github/swkim01/DSAC4/blob/main/gg-57-텐서플로우기초.ipynb\"><img src=\"https://github.com/swkim01/DSAC4/raw/main/colab_logo_32px.png\" />구글 코랩에서 실행</a>\n",
        "  </td>\n",
        "  <td>\n",
        "    <a target=\"_blank\" href=\"https://github.com/swkim01/DSAC4/blob/main/gg-57-텐서플로우기초.ipynb\"><img src=\"https://github.com/swkim01/DSAC4/raw/main/GitHub-Mark-32px.png\" />깃헙에서 소스 보기</a>\n",
        "  </td>\n",
        "</table>"
      ]
    },
    {
      "cell_type": "markdown",
      "metadata": {
        "id": "OZEUgy9BDwUw"
      },
      "source": [
        "# Tensorflow 1.0"
      ]
    },
    {
      "cell_type": "code",
      "metadata": {
        "colab": {
          "base_uri": "https://localhost:8080/"
        },
        "id": "TXYC6-arNqeZ",
        "outputId": "6f4c2849-a117-41b1-b78c-baa834fce7f5"
      },
      "source": [
        "#import tensorflow as tf\n",
        "import tensorflow.compat.v1 as tf\n",
        "tf.compat.v1.disable_eager_execution()\n",
        "msg = tf.constant('Hello!!')\n",
        "session = tf.Session()\n",
        "print(session.run(msg))"
      ],
      "execution_count": 1,
      "outputs": [
        {
          "output_type": "stream",
          "name": "stdout",
          "text": [
            "b'Hello!!'\n"
          ]
        }
      ]
    },
    {
      "cell_type": "code",
      "metadata": {
        "colab": {
          "base_uri": "https://localhost:8080/"
        },
        "id": "Coy9OIdEN-gF",
        "outputId": "ff42a825-5ab3-471c-d5f7-7f3c21873d0e"
      },
      "source": [
        "#import tensorflow as tf\n",
        "import tensorflow.compat.v1 as tf\n",
        "tf.compat.v1.disable_eager_execution()\n",
        "\n",
        "x = tf.placeholder(tf.float32)\n",
        "y = tf.placeholder(tf.float32)\n",
        "\n",
        "z = x + y\n",
        "\n",
        "session = tf.Session()\n",
        "\n",
        "values = {x: 2.0, y: 3.0}\n",
        "\n",
        "result = session.run([z], values)\n",
        "print(result)\n"
      ],
      "execution_count": 2,
      "outputs": [
        {
          "output_type": "stream",
          "name": "stdout",
          "text": [
            "[5.0]\n"
          ]
        }
      ]
    },
    {
      "cell_type": "code",
      "metadata": {
        "id": "zmAUXjRjaKl3"
      },
      "source": [
        "## 선형예측 예\n"
      ],
      "execution_count": null,
      "outputs": []
    },
    {
      "cell_type": "code",
      "metadata": {
        "id": "uoKdyOI-DwU2"
      },
      "source": [
        "W = tf.Variable([.3], tf.float32)\n",
        "b = tf.Variable([-.3], tf.float32)\n",
        "x = tf.placeholder(tf.float32)\n",
        "linear_model = W * x + b"
      ],
      "execution_count": null,
      "outputs": []
    },
    {
      "cell_type": "code",
      "metadata": {
        "id": "FJ0Zk1CEDwU3",
        "outputId": "19f8659b-84a3-48e1-c805-c6d54122fb0a"
      },
      "source": [
        "init = tf.global_variables_initializer()\n",
        "session = tf.Session()\n",
        "session.run(init)\n",
        "print(session.run(linear_model,{x:[1,2,3,4]}))"
      ],
      "execution_count": null,
      "outputs": [
        {
          "name": "stdout",
          "output_type": "stream",
          "text": [
            "[0.         0.3        0.6        0.90000004]\n"
          ]
        }
      ]
    },
    {
      "cell_type": "code",
      "metadata": {
        "id": "Ou2DYCxfDwU6",
        "outputId": "a008e2d7-8ec6-4fa9-ee42-74c97f1e12d2"
      },
      "source": [
        "y = tf.placeholder(tf.float32)\n",
        "squared_deltas = tf.square(linear_model - y)\n",
        "loss = tf.reduce_sum(squared_deltas)\n",
        "print(session.run(loss, {x:[1,2,3,4], y:[0,-1,-2,-3]}))"
      ],
      "execution_count": null,
      "outputs": [
        {
          "name": "stdout",
          "output_type": "stream",
          "text": [
            "23.660002\n"
          ]
        }
      ]
    },
    {
      "cell_type": "code",
      "metadata": {
        "id": "OabBoPEpDwU7",
        "outputId": "3eba2784-5493-4e58-83d1-d7bd7773a404"
      },
      "source": [
        "optimizer = tf.train.GradientDescentOptimizer(0.01)\n",
        "train = optimizer.minimize(loss)\n",
        "session.run(init) \n",
        "for i in range(500):\n",
        "    session.run(train, {x:[1,2,3,4], y:[0,-1,-2,-3]})\n",
        "    if i%100 == 0:\n",
        "        print(i, session.run([W, b]))\n"
      ],
      "execution_count": null,
      "outputs": [
        {
          "name": "stdout",
          "output_type": "stream",
          "text": [
            "0 [array([-0.21999997], dtype=float32), array([-0.456], dtype=float32)]\n",
            "100 [array([-0.84270465], dtype=float32), array([0.5375326], dtype=float32)]\n",
            "200 [array([-0.9528499], dtype=float32), array([0.86137295], dtype=float32)]\n",
            "300 [array([-0.98586655], dtype=float32), array([0.9584459], dtype=float32)]\n",
            "400 [array([-0.9957634], dtype=float32), array([0.98754394], dtype=float32)]\n"
          ]
        }
      ]
    },
    {
      "cell_type": "code",
      "metadata": {
        "id": "QjJ65bE7DwU9",
        "outputId": "38033108-d2b2-428a-e32f-c9faa4ad8ddb"
      },
      "source": [
        "n = 100\n",
        "np.random.seed(42)\n",
        "x = np.random.randn(n)\n",
        "y = 0.7 * x + 0.7    # w = 0.7, b = 0.7\n",
        "y = y + np.random.randn(n) * 0.5\n",
        "\n",
        "plt.scatter(x,y)"
      ],
      "execution_count": null,
      "outputs": [
        {
          "data": {
            "text/plain": [
              "<matplotlib.collections.PathCollection at 0x7fe198316460>"
            ]
          },
          "execution_count": 5,
          "metadata": {},
          "output_type": "execute_result"
        },
        {
          "data": {
            "image/png": "[encoded data removed]",
            "text/plain": [
              "<Figure size 432x288 with 1 Axes>"
            ]
          },
          "metadata": {
            "needs_background": "light"
          },
          "output_type": "display_data"
        }
      ]
    },
    {
      "cell_type": "code",
      "metadata": {
        "id": "rNeFxhBXDwU-",
        "outputId": "ef718dac-5deb-4d44-fae9-f14ea3c709fb"
      },
      "source": [
        "import numpy as np\n",
        "import tensorflow.compat.v1 as tf\n",
        "tf.compat.v1.disable_eager_execution()\n",
        "\n",
        "n = 100\n",
        "x = np.random.randn(n)\n",
        "y = 0.7 * x + 0.7    # w = 0.7, b = 0.7\n",
        "y = y + np.random.randn(n) * 0.5\n",
        "\n",
        "X = tf.placeholder(\"float\")\n",
        "Y = tf.placeholder(\"float\")\n",
        "\n",
        "W = tf.Variable(5.0)\n",
        "b = tf.Variable(-1.0)\n",
        "\n",
        "# Graph\n",
        "y_pred = X * W + b       # hypothesis\n",
        "cost = tf.reduce_mean(tf.square(y_pred - Y))\n",
        "\n",
        "#############\n",
        "optimizer = tf.train.GradientDescentOptimizer(learning_rate=0.01)\n",
        "train = optimizer.minimize(cost)\n",
        "#############\n",
        "\n",
        "lossHistory = []\n",
        "\n",
        "with tf.Session() as sess:\n",
        "    sess.run(tf.global_variables_initializer())\n",
        "    for i in range(300):\n",
        "        sess.run(train, feed_dict = {X: x, Y: y})\n",
        "        cost_val, W_val, b_val = sess.run([cost, W, b], feed_dict = {X: x, Y: y})\n",
        "        lossHistory.append(cost_val)\n",
        "\n",
        "print(cost_val, W_val, b_val)\n",
        "plt.plot(lossHistory)"
      ],
      "execution_count": null,
      "outputs": [
        {
          "name": "stdout",
          "output_type": "stream",
          "text": [
            "0.23469523 0.78438365 0.701566\n"
          ]
        },
        {
          "data": {
            "text/plain": [
              "[<matplotlib.lines.Line2D at 0x7fddd4160580>]"
            ]
          },
          "execution_count": 23,
          "metadata": {},
          "output_type": "execute_result"
        },
        {
          "data": {
            "image/png": "[encoded data removed]",
            "text/plain": [
              "<Figure size 432x288 with 1 Axes>"
            ]
          },
          "metadata": {
            "needs_background": "light"
          },
          "output_type": "display_data"
        }
      ]
    },
    {
      "cell_type": "code",
      "metadata": {
        "id": "wLQ6PDJ5DwU_",
        "outputId": "0fdedf45-bf6e-4d58-93ff-060bec67d2f6"
      },
      "source": [
        "plt.scatter(x, y)\n",
        "xx = np.linspace(-2,3, 100)\n",
        "yy = W_val * xx + b_val\n",
        "plt.plot(xx, yy, c='r')"
      ],
      "execution_count": null,
      "outputs": [
        {
          "data": {
            "text/plain": [
              "[<matplotlib.lines.Line2D at 0x7fddd412dee0>]"
            ]
          },
          "execution_count": 24,
          "metadata": {},
          "output_type": "execute_result"
        },
        {
          "data": {
            "image/png": "[encoded data removed]",
            "text/plain": [
              "<Figure size 432x288 with 1 Axes>"
            ]
          },
          "metadata": {
            "needs_background": "light"
          },
          "output_type": "display_data"
        }
      ]
    },
    {
      "cell_type": "markdown",
      "metadata": {
        "id": "Ek9QljkODwVA"
      },
      "source": [
        "## 텐서플로우 함수 사용 (실행 X)"
      ]
    },
    {
      "cell_type": "code",
      "metadata": {
        "scrolled": true,
        "id": "7CklE4S7DwVB",
        "outputId": "bf224771-0595-477f-a62a-b1db1c490fa1"
      },
      "source": [
        "import tensorflow as tf\n",
        "import numpy as np\n",
        "# 독립변수로 x 하나만 정의한다\n",
        "features =[tf.contrib.layers.real_valued_column(\"x\", dimension=1)]\n",
        "# 예측 알고리즘으로 선형회귀 알고리즘을 선택했다\n",
        "estimator = tf.contrib.learn.LinearRegressor(feature_columns=features)\n",
        "# 독립변수와 종속변수 값을 제시하고 1000번 학습을 시행하도록 하며 한번에 4회씩 시행한다\n",
        "x = np.array([1.,2.,3.,4.])\n",
        "y = np.array([0.,-1.,-2.,-3.])\n",
        "input_fn = tf.contrib.learn.io.numpy_input_fn({\"x\":x}, y, batch_size=4, num_epochs=1000)\n",
        "# 훈련 데이터를 사용해서 1000번 학습단계를 수행한다\n",
        "estimator.fit(input_fn=input_fn, steps=1000)\n",
        "# 결과를 본다\n",
        "estimator.evaluate(input_fn=input_fn)"
      ],
      "execution_count": null,
      "outputs": [
        {
          "ename": "AttributeError",
          "evalue": "module 'tensorflow' has no attribute 'contrib'",
          "output_type": "error",
          "traceback": [
            "\u001b[0;31m---------------------------------------------------------------------------\u001b[0m",
            "\u001b[0;31mAttributeError\u001b[0m                            Traceback (most recent call last)",
            "\u001b[0;32m<ipython-input-11-1f5de6bfc854>\u001b[0m in \u001b[0;36m<module>\u001b[0;34m\u001b[0m\n\u001b[1;32m      2\u001b[0m \u001b[0;32mimport\u001b[0m \u001b[0mnumpy\u001b[0m \u001b[0;32mas\u001b[0m \u001b[0mnp\u001b[0m\u001b[0;34m\u001b[0m\u001b[0;34m\u001b[0m\u001b[0m\n\u001b[1;32m      3\u001b[0m \u001b[0;31m# 독립변수로 x 하나만 정의한다\u001b[0m\u001b[0;34m\u001b[0m\u001b[0;34m\u001b[0m\u001b[0;34m\u001b[0m\u001b[0m\n\u001b[0;32m----> 4\u001b[0;31m \u001b[0mfeatures\u001b[0m \u001b[0;34m=\u001b[0m\u001b[0;34m[\u001b[0m\u001b[0mtf\u001b[0m\u001b[0;34m.\u001b[0m\u001b[0mcontrib\u001b[0m\u001b[0;34m.\u001b[0m\u001b[0mlayers\u001b[0m\u001b[0;34m.\u001b[0m\u001b[0mreal_valued_column\u001b[0m\u001b[0;34m(\u001b[0m\u001b[0;34m\"x\"\u001b[0m\u001b[0;34m,\u001b[0m \u001b[0mdimension\u001b[0m\u001b[0;34m=\u001b[0m\u001b[0;36m1\u001b[0m\u001b[0;34m)\u001b[0m\u001b[0;34m]\u001b[0m\u001b[0;34m\u001b[0m\u001b[0;34m\u001b[0m\u001b[0m\n\u001b[0m\u001b[1;32m      5\u001b[0m \u001b[0;31m# 예측 알고리즘으로 선형회귀 알고리즘을 선택했다\u001b[0m\u001b[0;34m\u001b[0m\u001b[0;34m\u001b[0m\u001b[0;34m\u001b[0m\u001b[0m\n\u001b[1;32m      6\u001b[0m \u001b[0mestimator\u001b[0m \u001b[0;34m=\u001b[0m \u001b[0mtf\u001b[0m\u001b[0;34m.\u001b[0m\u001b[0mcontrib\u001b[0m\u001b[0;34m.\u001b[0m\u001b[0mlearn\u001b[0m\u001b[0;34m.\u001b[0m\u001b[0mLinearRegressor\u001b[0m\u001b[0;34m(\u001b[0m\u001b[0mfeature_columns\u001b[0m\u001b[0;34m=\u001b[0m\u001b[0mfeatures\u001b[0m\u001b[0;34m)\u001b[0m\u001b[0;34m\u001b[0m\u001b[0;34m\u001b[0m\u001b[0m\n",
            "\u001b[0;31mAttributeError\u001b[0m: module 'tensorflow' has no attribute 'contrib'"
          ]
        }
      ]
    },
    {
      "cell_type": "markdown",
      "metadata": {
        "id": "p4l_iRcXDwVC"
      },
      "source": [
        "# Tensorflow 2.0\n",
        "- 커널 재실행 (eager 실행 활성화)"
      ]
    },
    {
      "cell_type": "code",
      "metadata": {
        "id": "6YyjpiABDwVD"
      },
      "source": [
        "import numpy as np\n",
        "import matplotlib.pyplot as plt\n",
        "%matplotlib inline\n",
        "import tensorflow as tf"
      ],
      "execution_count": 1,
      "outputs": []
    },
    {
      "cell_type": "code",
      "metadata": {
        "id": "TZFxBiE7GvKc",
        "outputId": "16224b44-c4d7-42a6-f3c9-d9ace1c9369d",
        "colab": {
          "base_uri": "https://localhost:8080/",
          "height": 35
        }
      },
      "source": [
        "tf.__version__"
      ],
      "execution_count": 2,
      "outputs": [
        {
          "output_type": "execute_result",
          "data": {
            "application/vnd.google.colaboratory.intrinsic+json": {
              "type": "string"
            },
            "text/plain": [
              "'2.6.0'"
            ]
          },
          "metadata": {},
          "execution_count": 2
        }
      ]
    },
    {
      "cell_type": "code",
      "metadata": {
        "id": "g8OoFEtfDwVE",
        "outputId": "e0dac699-8cfa-48d0-f927-045dd5aa5763",
        "colab": {
          "base_uri": "https://localhost:8080/",
          "height": 283
        }
      },
      "source": [
        "n = 100\n",
        "np.random.seed(42)\n",
        "x = np.random.randn(n)\n",
        "y = 0.7 * x + 0.7    # w = 0.7, b = 0.7\n",
        "y = y + np.random.randn(n) * 0.5\n",
        "\n",
        "plt.scatter(x,y)"
      ],
      "execution_count": 3,
      "outputs": [
        {
          "output_type": "execute_result",
          "data": {
            "text/plain": [
              "<matplotlib.collections.PathCollection at 0x7fdc60117b10>"
            ]
          },
          "metadata": {},
          "execution_count": 3
        },
        {
          "output_type": "display_data",
          "data": {
            "image/png": "[encoded data removed]",
            "text/plain": [
              "<Figure size 432x288 with 1 Axes>"
            ]
          },
          "metadata": {
            "needs_background": "light"
          }
        }
      ]
    },
    {
      "cell_type": "code",
      "metadata": {
        "id": "zd-pZH7_HGKX",
        "outputId": "84cc4986-f135-4ef9-e470-279c0d669344",
        "colab": {
          "base_uri": "https://localhost:8080/"
        }
      },
      "source": [
        "print(x, y)"
      ],
      "execution_count": 4,
      "outputs": [
        {
          "output_type": "stream",
          "name": "stdout",
          "text": [
            "[ 0.49671415 -0.1382643   0.64768854  1.52302986 -0.23415337 -0.23413696\n",
            "  1.57921282  0.76743473 -0.46947439  0.54256004 -0.46341769 -0.46572975\n",
            "  0.24196227 -1.91328024 -1.72491783 -0.56228753 -1.01283112  0.31424733\n",
            " -0.90802408 -1.4123037   1.46564877 -0.2257763   0.0675282  -1.42474819\n",
            " -0.54438272  0.11092259 -1.15099358  0.37569802 -0.60063869 -0.29169375\n",
            " -0.60170661  1.85227818 -0.01349722 -1.05771093  0.82254491 -1.22084365\n",
            "  0.2088636  -1.95967012 -1.32818605  0.19686124  0.73846658  0.17136828\n",
            " -0.11564828 -0.3011037  -1.47852199 -0.71984421 -0.46063877  1.05712223\n",
            "  0.34361829 -1.76304016  0.32408397 -0.38508228 -0.676922    0.61167629\n",
            "  1.03099952  0.93128012 -0.83921752 -0.30921238  0.33126343  0.97554513\n",
            " -0.47917424 -0.18565898 -1.10633497 -1.19620662  0.81252582  1.35624003\n",
            " -0.07201012  1.0035329   0.36163603 -0.64511975  0.36139561  1.53803657\n",
            " -0.03582604  1.56464366 -2.6197451   0.8219025   0.08704707 -0.29900735\n",
            "  0.09176078 -1.98756891 -0.21967189  0.35711257  1.47789404 -0.51827022\n",
            " -0.8084936  -0.50175704  0.91540212  0.32875111 -0.5297602   0.51326743\n",
            "  0.09707755  0.96864499 -0.70205309 -0.32766215 -0.39210815 -1.46351495\n",
            "  0.29612028  0.26105527  0.00511346 -0.23458713] [ 0.34001454  0.39289233  0.98202472  1.36498226  0.45544978  0.73812956\n",
            "  2.74854192  1.32449322  0.50014313  1.04256907 -0.58377799  0.36073223\n",
            "  0.8994887   0.59232488 -0.60362297  0.4571724  -0.02633767  0.33563411\n",
            "  0.63579455  0.08735393  2.12147011  0.08726286  1.4486669  -0.99824926\n",
            "  0.61236064  1.87287363 -0.60096367  0.67983975  0.3293786   0.24407655\n",
            " -0.49652634  2.03087622  0.15940009  0.19639857  0.81606932  0.62037665\n",
            "  0.45457787 -0.83279984  0.17702837  0.22237071  1.33065657  1.47352917\n",
            " -0.18469541  0.58154434 -0.205024    0.58702049 -0.2409225   0.77975725\n",
            "  1.20150359 -0.38563577  1.0521052   0.60366651 -0.11385776  1.24430025\n",
            "  1.5682359   0.99472037  1.04543499  0.7204678   0.33623265  1.71115839\n",
            " -0.1227628   0.96358102  0.50486331 -0.5476858   1.75045614  1.85575848\n",
            "  1.06062299  2.35086952  0.83045116 -0.12845191  0.50821971  1.36872045\n",
            "  0.63637092  1.96582655 -0.99547617  1.68892338  0.76743389  1.21746189\n",
            "  0.63190413  0.66878634  0.85906335  0.52140002  1.19907958  0.57844705\n",
            "  0.02232309  0.70577032  1.57740029  0.89371132 -0.094229    0.30186359\n",
            "  0.54469681  1.80625089  0.31560971 -0.15223289  0.51211476 -0.13180177\n",
            "  0.46535548  0.95960124  0.73268378 -0.03569614]\n"
          ]
        }
      ]
    },
    {
      "cell_type": "code",
      "metadata": {
        "id": "pzeLcb4ODwVF",
        "outputId": "ef09e2ab-9f58-4911-a1b2-5e2514f755b7",
        "colab": {
          "base_uri": "https://localhost:8080/",
          "height": 301
        }
      },
      "source": [
        "W, b = tf.Variable(5.0), tf.Variable(-1.0)  # randomly chosen\n",
        "\n",
        "lossHistory = []\n",
        "learning_rate = 0.01\n",
        "\n",
        "for i in range(500):\n",
        "    with tf.GradientTape() as tape:\n",
        "        y_pred = W * x + b\n",
        "        cost = tf.reduce_mean(tf.square(y_pred - y))\n",
        "\n",
        "    W_grad, b_grad = tape.gradient(cost, [W, b])\n",
        "    # W_grad = tf.reduce_mean((y_pred - y) * x)\n",
        "    # b_grad = tf.reduce_mean(y_pred - y) \n",
        "\n",
        "    W.assign_sub(learning_rate * W_grad)\n",
        "    b.assign_sub(learning_rate * b_grad)\n",
        "\n",
        "    lossHistory.append(cost)\n",
        "\n",
        "print(i, \": \", W.numpy(), b.numpy())\n",
        "plt.plot(lossHistory)"
      ],
      "execution_count": 5,
      "outputs": [
        {
          "output_type": "stream",
          "name": "stdout",
          "text": [
            "499 :  0.6295519 0.704174\n"
          ]
        },
        {
          "output_type": "execute_result",
          "data": {
            "text/plain": [
              "[<matplotlib.lines.Line2D at 0x7fdc60232d90>]"
            ]
          },
          "metadata": {},
          "execution_count": 5
        },
        {
          "output_type": "display_data",
          "data": {
            "image/png": "[encoded data removed]",
            "text/plain": [
              "<Figure size 432x288 with 1 Axes>"
            ]
          },
          "metadata": {
            "needs_background": "light"
          }
        }
      ]
    },
    {
      "cell_type": "markdown",
      "metadata": {
        "id": "ZGNoM02dDwVG"
      },
      "source": [
        "### Linear Regression using Keras"
      ]
    },
    {
      "cell_type": "code",
      "metadata": {
        "id": "her5FllUDwVG"
      },
      "source": [
        "from tensorflow.keras.models import Sequential\n",
        "from tensorflow.keras.layers import Dense, Flatten\n",
        "from tensorflow.keras.optimizers import SGD"
      ],
      "execution_count": 9,
      "outputs": []
    },
    {
      "cell_type": "code",
      "metadata": {
        "id": "fDYxz0BtDwVH",
        "outputId": "82e1f17b-0436-4c2a-b6bd-9ea9c177eb8d",
        "colab": {
          "base_uri": "https://localhost:8080/"
        }
      },
      "source": [
        "n = 1000\n",
        "np.random.seed(42)\n",
        "x = np.random.randn(n)\n",
        "y = 0.7 * x + 0.7    # w = 0.7, b = 0.7\n",
        "y = y + np.random.randn(n) * 0.5\n",
        "\n",
        "model = Sequential()\n",
        "model.add(Dense(1, input_shape=(1,), activation='linear'))\n",
        "model.summary()\n",
        "\n",
        "model.compile(optimizer=SGD(learning_rate=0.1), loss=['mse'], metrics=[\"mae\"])\n",
        "history = model.fit(x, y, epochs=300, verbose=0)"
      ],
      "execution_count": 10,
      "outputs": [
        {
          "output_type": "stream",
          "name": "stdout",
          "text": [
            "Model: \"sequential\"\n",
            "_________________________________________________________________\n",
            "Layer (type)                 Output Shape              Param #   \n",
            "=================================================================\n",
            "dense (Dense)                (None, 1)                 2         \n",
            "=================================================================\n",
            "Total params: 2\n",
            "Trainable params: 2\n",
            "Non-trainable params: 0\n",
            "_________________________________________________________________\n"
          ]
        }
      ]
    },
    {
      "cell_type": "code",
      "metadata": {
        "id": "hPR0bK9fDwVH",
        "outputId": "7526d39c-9788-410a-d3f6-ed71ee3b8c87",
        "colab": {
          "base_uri": "https://localhost:8080/",
          "height": 284
        }
      },
      "source": [
        "plt.subplot(1,2,1)\n",
        "plt.plot(history.history['loss'])\n",
        "plt.subplot(1,2,2)\n",
        "plt.plot(history.history['mae'])"
      ],
      "execution_count": 11,
      "outputs": [
        {
          "output_type": "execute_result",
          "data": {
            "text/plain": [
              "[<matplotlib.lines.Line2D at 0x7fdc501c0b10>]"
            ]
          },
          "metadata": {},
          "execution_count": 11
        },
        {
          "output_type": "display_data",
          "data": {
            "image/png": "[encoded data removed]",
            "text/plain": [
              "<Figure size 432x288 with 2 Axes>"
            ]
          },
          "metadata": {
            "needs_background": "light"
          }
        }
      ]
    },
    {
      "cell_type": "code",
      "metadata": {
        "id": "bAMAAkpBDwVI",
        "outputId": "a1a4e251-7b65-4330-8af7-3b2c3771873f"
      },
      "source": [
        "model = Sequential()\n",
        "model.add(Dense(2, input_shape=(1,), activation='tanh'))\n",
        "model.add(Dense(2, activation='tanh'))\n",
        "model.add(Dense(1, activation='linear'))\n",
        "model.summary()\n",
        "\n",
        "model.compile(optimizer=SGD(learning_rate=0.01), loss=['mse'], metrics=[\"mae\"])\n",
        "history = model.fit(x, y, epochs=1000, verbose=0)"
      ],
      "execution_count": null,
      "outputs": [
        {
          "name": "stdout",
          "output_type": "stream",
          "text": [
            "Model: \"sequential_5\"\n",
            "_________________________________________________________________\n",
            "Layer (type)                 Output Shape              Param #   \n",
            "=================================================================\n",
            "dense_7 (Dense)              (None, 2)                 4         \n",
            "_________________________________________________________________\n",
            "dense_8 (Dense)              (None, 2)                 6         \n",
            "_________________________________________________________________\n",
            "dense_9 (Dense)              (None, 1)                 3         \n",
            "=================================================================\n",
            "Total params: 13\n",
            "Trainable params: 13\n",
            "Non-trainable params: 0\n",
            "_________________________________________________________________\n"
          ]
        }
      ]
    },
    {
      "cell_type": "code",
      "metadata": {
        "id": "ZTNn3zFcDwVJ",
        "outputId": "732cbcd0-6acc-46e2-c9a1-56af7778cba5"
      },
      "source": [
        "plt.subplot(1,2,1)\n",
        "plt.plot(history.history['loss'])\n",
        "plt.subplot(1,2,2)\n",
        "plt.plot(history.history['mae'])"
      ],
      "execution_count": null,
      "outputs": [
        {
          "data": {
            "text/plain": [
              "[<matplotlib.lines.Line2D at 0x7fe1801370d0>]"
            ]
          },
          "execution_count": 18,
          "metadata": {},
          "output_type": "execute_result"
        },
        {
          "data": {
            "image/png": "[encoded data removed]",
            "text/plain": [
              "<Figure size 432x288 with 2 Axes>"
            ]
          },
          "metadata": {
            "needs_background": "light"
          },
          "output_type": "display_data"
        }
      ]
    },
    {
      "cell_type": "markdown",
      "metadata": {
        "id": "kwRMyEhUDwVJ"
      },
      "source": [
        "# Classification with Keras"
      ]
    },
    {
      "cell_type": "code",
      "metadata": {
        "id": "XOW4PuP-DwVK",
        "outputId": "a64e1aaa-a48a-4e04-f96c-5ac90bbf5517"
      },
      "source": [
        "from sklearn.datasets import make_blobs\n",
        "\n",
        "N = 300\n",
        "(X, y) = make_blobs(n_samples=N, n_features=2, centers=2,\n",
        "                    cluster_std=1.5, random_state=20)\n",
        "\n",
        "plt.scatter(X[:,0], X[:,1], c=y)"
      ],
      "execution_count": null,
      "outputs": [
        {
          "data": {
            "text/plain": [
              "<matplotlib.collections.PathCollection at 0x7fe09c16a430>"
            ]
          },
          "execution_count": 19,
          "metadata": {},
          "output_type": "execute_result"
        },
        {
          "data": {
            "image/png": "[encoded data removed]",
            "text/plain": [
              "<Figure size 432x288 with 1 Axes>"
            ]
          },
          "metadata": {
            "needs_background": "light"
          },
          "output_type": "display_data"
        }
      ]
    },
    {
      "cell_type": "code",
      "metadata": {
        "id": "gL8_FIDTDwVK",
        "outputId": "947aac0c-d185-43aa-a487-2bcc74c2105b"
      },
      "source": [
        "model = Sequential()\n",
        "model.add(Dense(1, input_shape=(2,), activation='sigmoid'))\n",
        "model.summary()\n",
        "\n",
        "model.compile(optimizer=SGD(learning_rate=0.001), \n",
        "              loss=['binary_crossentropy'], \n",
        "              metrics=[\"accuracy\"])\n",
        "history = model.fit(X, y, epochs=300, verbose=0)\n",
        "plt.subplot(1,2,1)\n",
        "plt.plot(history.history['loss'])\n",
        "plt.subplot(1,2,2)\n",
        "plt.plot(history.history['accuracy'])"
      ],
      "execution_count": null,
      "outputs": [
        {
          "name": "stdout",
          "output_type": "stream",
          "text": [
            "Model: \"sequential_6\"\n",
            "_________________________________________________________________\n",
            "Layer (type)                 Output Shape              Param #   \n",
            "=================================================================\n",
            "dense_10 (Dense)             (None, 1)                 3         \n",
            "=================================================================\n",
            "Total params: 3\n",
            "Trainable params: 3\n",
            "Non-trainable params: 0\n",
            "_________________________________________________________________\n"
          ]
        },
        {
          "data": {
            "text/plain": [
              "[<matplotlib.lines.Line2D at 0x7fe07c089400>]"
            ]
          },
          "execution_count": 20,
          "metadata": {},
          "output_type": "execute_result"
        },
        {
          "data": {
            "image/png": "[encoded data removed]",
            "text/plain": [
              "<Figure size 432x288 with 2 Axes>"
            ]
          },
          "metadata": {
            "needs_background": "light"
          },
          "output_type": "display_data"
        }
      ]
    },
    {
      "cell_type": "markdown",
      "metadata": {
        "id": "DKBjmmBMDwVM"
      },
      "source": [
        "# GradientTape()"
      ]
    },
    {
      "cell_type": "code",
      "metadata": {
        "id": "NCyF6j0nDwVM",
        "outputId": "498533ce-43ab-4444-a6fa-fdb05bc1343b"
      },
      "source": [
        "x = tf.constant(3.0)\n",
        "\n",
        "with tf.GradientTape(persistent=True) as tape:\n",
        "        tape.watch(x)\n",
        "        y = x * x\n",
        "        z = y * y\n",
        "\n",
        "dz_dx = tape.gradient(z, x)\n",
        "dy_dx = tape.gradient(y, x)\n",
        "\n",
        "dz_dx, dy_dx"
      ],
      "execution_count": null,
      "outputs": [
        {
          "data": {
            "text/plain": [
              "(<tf.Tensor: shape=(), dtype=float32, numpy=108.0>,\n",
              " <tf.Tensor: shape=(), dtype=float32, numpy=6.0>)"
            ]
          },
          "execution_count": 21,
          "metadata": {},
          "output_type": "execute_result"
        }
      ]
    },
    {
      "cell_type": "code",
      "metadata": {
        "id": "BKHsXhm3DwVN",
        "outputId": "5da87c11-e146-4bd6-eec5-5262f092d985"
      },
      "source": [
        "dir(tf)"
      ],
      "execution_count": null,
      "outputs": [
        {
          "data": {
            "text/plain": [
              "['AggregationMethod',\n",
              " 'Assert',\n",
              " 'CriticalSection',\n",
              " 'DType',\n",
              " 'DeviceSpec',\n",
              " 'GradientTape',\n",
              " 'Graph',\n",
              " 'IndexedSlices',\n",
              " 'IndexedSlicesSpec',\n",
              " 'Module',\n",
              " 'Operation',\n",
              " 'OptionalSpec',\n",
              " 'RaggedTensor',\n",
              " 'RaggedTensorSpec',\n",
              " 'RegisterGradient',\n",
              " 'SparseTensor',\n",
              " 'SparseTensorSpec',\n",
              " 'Tensor',\n",
              " 'TensorArray',\n",
              " 'TensorArraySpec',\n",
              " 'TensorShape',\n",
              " 'TensorSpec',\n",
              " 'TypeSpec',\n",
              " 'UnconnectedGradients',\n",
              " 'Variable',\n",
              " 'VariableAggregation',\n",
              " 'VariableSynchronization',\n",
              " '_API_MODULE',\n",
              " '_LazyLoader',\n",
              " '__all__',\n",
              " '__builtins__',\n",
              " '__cached__',\n",
              " '__compiler_version__',\n",
              " '__cxx11_abi_flag__',\n",
              " '__doc__',\n",
              " '__file__',\n",
              " '__git_version__',\n",
              " '__loader__',\n",
              " '__monolithic_build__',\n",
              " '__name__',\n",
              " '__operators__',\n",
              " '__package__',\n",
              " '__path__',\n",
              " '__spec__',\n",
              " '__version__',\n",
              " '_absolute_import',\n",
              " '_api',\n",
              " '_compat',\n",
              " '_current_file_location',\n",
              " '_current_module',\n",
              " '_distutils',\n",
              " '_division',\n",
              " '_estimator_module',\n",
              " '_fi',\n",
              " '_inspect',\n",
              " '_ll',\n",
              " '_logging',\n",
              " '_main_dir',\n",
              " '_major_api_version',\n",
              " '_module_dir',\n",
              " '_module_util',\n",
              " '_names_with_underscore',\n",
              " '_os',\n",
              " '_plugin_dir',\n",
              " '_print_function',\n",
              " '_running_from_pip_package',\n",
              " '_s',\n",
              " '_site',\n",
              " '_site_packages_dirs',\n",
              " '_six',\n",
              " '_sys',\n",
              " '_tf2',\n",
              " '_tf_api_dir',\n",
              " '_typing',\n",
              " 'abs',\n",
              " 'acos',\n",
              " 'acosh',\n",
              " 'add',\n",
              " 'add_n',\n",
              " 'argmax',\n",
              " 'argmin',\n",
              " 'argsort',\n",
              " 'as_dtype',\n",
              " 'as_string',\n",
              " 'asin',\n",
              " 'asinh',\n",
              " 'assert_equal',\n",
              " 'assert_greater',\n",
              " 'assert_less',\n",
              " 'assert_rank',\n",
              " 'atan',\n",
              " 'atan2',\n",
              " 'atanh',\n",
              " 'audio',\n",
              " 'autodiff',\n",
              " 'autograph',\n",
              " 'batch_to_space',\n",
              " 'bfloat16',\n",
              " 'bitcast',\n",
              " 'bitwise',\n",
              " 'bool',\n",
              " 'boolean_mask',\n",
              " 'broadcast_dynamic_shape',\n",
              " 'broadcast_static_shape',\n",
              " 'broadcast_to',\n",
              " 'case',\n",
              " 'cast',\n",
              " 'clip_by_global_norm',\n",
              " 'clip_by_norm',\n",
              " 'clip_by_value',\n",
              " 'compat',\n",
              " 'compiler',\n",
              " 'complex',\n",
              " 'complex128',\n",
              " 'complex64',\n",
              " 'concat',\n",
              " 'cond',\n",
              " 'config',\n",
              " 'constant',\n",
              " 'constant_initializer',\n",
              " 'control_dependencies',\n",
              " 'convert_to_tensor',\n",
              " 'core',\n",
              " 'cos',\n",
              " 'cosh',\n",
              " 'cumsum',\n",
              " 'custom_gradient',\n",
              " 'data',\n",
              " 'debugging',\n",
              " 'device',\n",
              " 'distribute',\n",
              " 'divide',\n",
              " 'double',\n",
              " 'dtypes',\n",
              " 'dynamic_partition',\n",
              " 'dynamic_stitch',\n",
              " 'edit_distance',\n",
              " 'eig',\n",
              " 'eigvals',\n",
              " 'einsum',\n",
              " 'ensure_shape',\n",
              " 'equal',\n",
              " 'errors',\n",
              " 'estimator',\n",
              " 'executing_eagerly',\n",
              " 'exp',\n",
              " 'expand_dims',\n",
              " 'experimental',\n",
              " 'extract_volume_patches',\n",
              " 'eye',\n",
              " 'feature_column',\n",
              " 'fill',\n",
              " 'fingerprint',\n",
              " 'float16',\n",
              " 'float32',\n",
              " 'float64',\n",
              " 'floor',\n",
              " 'foldl',\n",
              " 'foldr',\n",
              " 'function',\n",
              " 'gather',\n",
              " 'gather_nd',\n",
              " 'get_logger',\n",
              " 'get_static_value',\n",
              " 'grad_pass_through',\n",
              " 'gradients',\n",
              " 'graph_util',\n",
              " 'greater',\n",
              " 'greater_equal',\n",
              " 'group',\n",
              " 'guarantee_const',\n",
              " 'half',\n",
              " 'hessians',\n",
              " 'histogram_fixed_width',\n",
              " 'histogram_fixed_width_bins',\n",
              " 'identity',\n",
              " 'identity_n',\n",
              " 'image',\n",
              " 'import_graph_def',\n",
              " 'init_scope',\n",
              " 'initializers',\n",
              " 'int16',\n",
              " 'int32',\n",
              " 'int64',\n",
              " 'int8',\n",
              " 'io',\n",
              " 'is_tensor',\n",
              " 'keras',\n",
              " 'less',\n",
              " 'less_equal',\n",
              " 'linalg',\n",
              " 'linspace',\n",
              " 'lite',\n",
              " 'load_library',\n",
              " 'load_op_library',\n",
              " 'logical_and',\n",
              " 'logical_not',\n",
              " 'logical_or',\n",
              " 'lookup',\n",
              " 'losses',\n",
              " 'make_ndarray',\n",
              " 'make_tensor_proto',\n",
              " 'map_fn',\n",
              " 'math',\n",
              " 'matmul',\n",
              " 'matrix_square_root',\n",
              " 'maximum',\n",
              " 'meshgrid',\n",
              " 'metrics',\n",
              " 'minimum',\n",
              " 'mixed_precision',\n",
              " 'mlir',\n",
              " 'multiply',\n",
              " 'name_scope',\n",
              " 'negative',\n",
              " 'nest',\n",
              " 'newaxis',\n",
              " 'nn',\n",
              " 'no_gradient',\n",
              " 'no_op',\n",
              " 'nondifferentiable_batch_function',\n",
              " 'norm',\n",
              " 'not_equal',\n",
              " 'numpy_function',\n",
              " 'one_hot',\n",
              " 'ones',\n",
              " 'ones_initializer',\n",
              " 'ones_like',\n",
              " 'optimizers',\n",
              " 'pad',\n",
              " 'parallel_stack',\n",
              " 'pow',\n",
              " 'print',\n",
              " 'profiler',\n",
              " 'py_function',\n",
              " 'python',\n",
              " 'qint16',\n",
              " 'qint32',\n",
              " 'qint8',\n",
              " 'quantization',\n",
              " 'queue',\n",
              " 'quint16',\n",
              " 'quint8',\n",
              " 'ragged',\n",
              " 'random',\n",
              " 'random_normal_initializer',\n",
              " 'random_uniform_initializer',\n",
              " 'range',\n",
              " 'rank',\n",
              " 'raw_ops',\n",
              " 'realdiv',\n",
              " 'recompute_grad',\n",
              " 'reduce_all',\n",
              " 'reduce_any',\n",
              " 'reduce_logsumexp',\n",
              " 'reduce_max',\n",
              " 'reduce_mean',\n",
              " 'reduce_min',\n",
              " 'reduce_prod',\n",
              " 'reduce_sum',\n",
              " 'register_tensor_conversion_function',\n",
              " 'repeat',\n",
              " 'required_space_to_batch_paddings',\n",
              " 'reshape',\n",
              " 'resource',\n",
              " 'reverse',\n",
              " 'reverse_sequence',\n",
              " 'roll',\n",
              " 'round',\n",
              " 'saturate_cast',\n",
              " 'saved_model',\n",
              " 'scalar_mul',\n",
              " 'scan',\n",
              " 'scatter_nd',\n",
              " 'searchsorted',\n",
              " 'sequence_mask',\n",
              " 'sets',\n",
              " 'shape',\n",
              " 'shape_n',\n",
              " 'sigmoid',\n",
              " 'sign',\n",
              " 'signal',\n",
              " 'sin',\n",
              " 'sinh',\n",
              " 'size',\n",
              " 'slice',\n",
              " 'sort',\n",
              " 'space_to_batch',\n",
              " 'space_to_batch_nd',\n",
              " 'sparse',\n",
              " 'split',\n",
              " 'sqrt',\n",
              " 'square',\n",
              " 'squeeze',\n",
              " 'stack',\n",
              " 'stop_gradient',\n",
              " 'strided_slice',\n",
              " 'string',\n",
              " 'strings',\n",
              " 'subtract',\n",
              " 'summary',\n",
              " 'switch_case',\n",
              " 'sysconfig',\n",
              " 'tan',\n",
              " 'tanh',\n",
              " 'tensor_scatter_nd_add',\n",
              " 'tensor_scatter_nd_max',\n",
              " 'tensor_scatter_nd_min',\n",
              " 'tensor_scatter_nd_sub',\n",
              " 'tensor_scatter_nd_update',\n",
              " 'tensordot',\n",
              " 'test',\n",
              " 'tile',\n",
              " 'timestamp',\n",
              " 'tools',\n",
              " 'tpu',\n",
              " 'train',\n",
              " 'transpose',\n",
              " 'truediv',\n",
              " 'truncatediv',\n",
              " 'truncatemod',\n",
              " 'tuple',\n",
              " 'type_spec_from_value',\n",
              " 'uint16',\n",
              " 'uint32',\n",
              " 'uint64',\n",
              " 'uint8',\n",
              " 'unique',\n",
              " 'unique_with_counts',\n",
              " 'unravel_index',\n",
              " 'unstack',\n",
              " 'variable_creator_scope',\n",
              " 'variant',\n",
              " 'vectorized_map',\n",
              " 'version',\n",
              " 'where',\n",
              " 'while_loop',\n",
              " 'xla',\n",
              " 'zeros',\n",
              " 'zeros_initializer',\n",
              " 'zeros_like']"
            ]
          },
          "execution_count": 22,
          "metadata": {},
          "output_type": "execute_result"
        }
      ]
    },
    {
      "cell_type": "code",
      "metadata": {
        "id": "mEi7WSYyDwVN"
      },
      "source": [
        ""
      ],
      "execution_count": null,
      "outputs": []
    }
  ]
}