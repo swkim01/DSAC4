{
  "nbformat": 4,
  "nbformat_minor": 0,
  "metadata": {
    "accelerator": "GPU",
    "colab": {
      "name": "gg_65_네이버영화감성분석_신경망.ipynb",
      "provenance": [],
      "collapsed_sections": []
    },
    "kernelspec": {
      "display_name": "Python 3",
      "language": "python",
      "name": "python3"
    },
    "language_info": {
      "codemirror_mode": {
        "name": "ipython",
        "version": 3
      },
      "file_extension": ".py",
      "mimetype": "text/x-python",
      "name": "python",
      "nbconvert_exporter": "python",
      "pygments_lexer": "ipython3",
      "version": "3.8.5"
    }
  },
  "cells": [
    {
      "cell_type": "markdown",
      "metadata": {
        "id": "jmOw43NZ1pcP"
      },
      "source": [
        "## 네이버영화 감성분석\n",
        "\n",
        "<table class=\"tfo-notebook-buttons\" align=\"left\">\n",
        "  <td>\n",
        "    <a target=\"_blank\" href=\"https://colab.research.google.com/github/swkim01/DSAC4/blob/main/gg-62-네이버영화감성분석_신경망.ipynb\"><img src=\"https://github.com/swkim01/DSAC4/raw/main/colab_logo_32px.png\" />구글 코랩에서 실행</a>\n",
        "  </td>\n",
        "  <td>\n",
        "    <a target=\"_blank\" href=\"https://github.com/swkim01/DSAC4/blob/main/gg-62-네이버영화감성분석_신경망.ipynb\"><img src=\"https://github.com/swkim01/DSAC4/raw/main/GitHub-Mark-32px.png\" />깃헙에서 소스 보기</a>\n",
        "  </td>\n",
        "</table>"
      ]
    },
    {
      "cell_type": "code",
      "metadata": {
        "colab": {
          "base_uri": "https://localhost:8080/"
        },
        "id": "zHoKWwCbZoAm",
        "outputId": "83f6954a-c79a-43ba-a812-2966e3cd0e46"
      },
      "source": [
        "# GPU 런타임 설정을 한 후 실행한다.\n",
        "!pip install konlpy"
      ],
      "execution_count": 2,
      "outputs": [
        {
          "output_type": "stream",
          "name": "stdout",
          "text": [
            "Requirement already satisfied: konlpy in /usr/local/lib/python3.7/dist-packages (0.5.2)\n",
            "Requirement already satisfied: numpy>=1.6 in /usr/local/lib/python3.7/dist-packages (from konlpy) (1.19.5)\n",
            "Requirement already satisfied: beautifulsoup4==4.6.0 in /usr/local/lib/python3.7/dist-packages (from konlpy) (4.6.0)\n",
            "Requirement already satisfied: tweepy>=3.7.0 in /usr/local/lib/python3.7/dist-packages (from konlpy) (3.10.0)\n",
            "Requirement already satisfied: JPype1>=0.7.0 in /usr/local/lib/python3.7/dist-packages (from konlpy) (1.3.0)\n",
            "Requirement already satisfied: lxml>=4.1.0 in /usr/local/lib/python3.7/dist-packages (from konlpy) (4.2.6)\n",
            "Requirement already satisfied: colorama in /usr/local/lib/python3.7/dist-packages (from konlpy) (0.4.4)\n",
            "Requirement already satisfied: typing-extensions in /usr/local/lib/python3.7/dist-packages (from JPype1>=0.7.0->konlpy) (3.7.4.3)\n",
            "Requirement already satisfied: six>=1.10.0 in /usr/local/lib/python3.7/dist-packages (from tweepy>=3.7.0->konlpy) (1.15.0)\n",
            "Requirement already satisfied: requests-oauthlib>=0.7.0 in /usr/local/lib/python3.7/dist-packages (from tweepy>=3.7.0->konlpy) (1.3.0)\n",
            "Requirement already satisfied: requests[socks]>=2.11.1 in /usr/local/lib/python3.7/dist-packages (from tweepy>=3.7.0->konlpy) (2.23.0)\n",
            "Requirement already satisfied: oauthlib>=3.0.0 in /usr/local/lib/python3.7/dist-packages (from requests-oauthlib>=0.7.0->tweepy>=3.7.0->konlpy) (3.1.1)\n",
            "Requirement already satisfied: certifi>=2017.4.17 in /usr/local/lib/python3.7/dist-packages (from requests[socks]>=2.11.1->tweepy>=3.7.0->konlpy) (2021.5.30)\n",
            "Requirement already satisfied: chardet<4,>=3.0.2 in /usr/local/lib/python3.7/dist-packages (from requests[socks]>=2.11.1->tweepy>=3.7.0->konlpy) (3.0.4)\n",
            "Requirement already satisfied: urllib3!=1.25.0,!=1.25.1,<1.26,>=1.21.1 in /usr/local/lib/python3.7/dist-packages (from requests[socks]>=2.11.1->tweepy>=3.7.0->konlpy) (1.24.3)\n",
            "Requirement already satisfied: idna<3,>=2.5 in /usr/local/lib/python3.7/dist-packages (from requests[socks]>=2.11.1->tweepy>=3.7.0->konlpy) (2.10)\n",
            "Requirement already satisfied: PySocks!=1.5.7,>=1.5.6 in /usr/local/lib/python3.7/dist-packages (from requests[socks]>=2.11.1->tweepy>=3.7.0->konlpy) (1.7.1)\n"
          ]
        }
      ]
    },
    {
      "cell_type": "code",
      "metadata": {
        "id": "vUusS2vgZ_Zx"
      },
      "source": [
        "# 패키지 설치\n",
        "import konlpy\n",
        "import pandas as pd\n",
        "import numpy as np\n",
        "from konlpy.tag import Twitter\n",
        "from sklearn.feature_extraction.text import TfidfVectorizer\n",
        "from keras.models import Sequential\n",
        "from keras.layers import Dense, Dropout, Activation\n",
        "from sklearn import model_selection, metrics\n",
        "\n",
        "# 토큰 파서\n",
        "def twitter_tokenizer(text):\n",
        "    return twitter_tag.morphs(text)"
      ],
      "execution_count": 3,
      "outputs": []
    },
    {
      "cell_type": "code",
      "metadata": {
        "colab": {
          "base_uri": "https://localhost:8080/"
        },
        "id": "R0svk5kdfrBs",
        "outputId": "d3ed59a4-e43b-4dad-b595-5054b0ccea8a"
      },
      "source": [
        "!curl -L https://bit.ly/2X9Owwr -o ratings_train.txt\n",
        "!curl -L https://bit.ly/2WuLd5I -o ratings_test.txt"
      ],
      "execution_count": 4,
      "outputs": [
        {
          "output_type": "stream",
          "name": "stdout",
          "text": [
            "  % Total    % Received % Xferd  Average Speed   Time    Time     Time  Current\n",
            "                                 Dload  Upload   Total   Spent    Left  Speed\n",
            "100   152  100   152    0     0    812      0 --:--:-- --:--:-- --:--:--   812\n",
            "100   148    0   148    0     0    378      0 --:--:-- --:--:-- --:--:--  1557\n",
            "100   318  100   318    0     0    523      0 --:--:-- --:--:-- --:--:--   523\n",
            "100 14.0M  100 14.0M    0     0  4112k      0  0:00:03  0:00:03 --:--:-- 7337k\n",
            "  % Total    % Received % Xferd  Average Speed   Time    Time     Time  Current\n",
            "                                 Dload  Upload   Total   Spent    Left  Speed\n",
            "100   151  100   151    0     0   3355      0 --:--:-- --:--:-- --:--:--  3355\n",
            "100   147    0   147    0     0    742      0 --:--:-- --:--:-- --:--:--   742\n",
            "100   318  100   318    0     0    791      0 --:--:-- --:--:-- --:--:--   791\n",
            "100 4827k  100 4827k    0     0  5086k      0 --:--:-- --:--:-- --:--:-- 16.4M\n"
          ]
        }
      ]
    },
    {
      "cell_type": "code",
      "metadata": {
        "id": "yUHPI7zrhcQ-"
      },
      "source": [
        "# 데이터 로드\n",
        "df_train = pd.read_csv('ratings_train.txt', delimiter='\\t', keep_default_na=False)\n",
        "df_test = pd.read_csv('ratings_test.txt', delimiter='\\t', keep_default_na=False)\n"
      ],
      "execution_count": 5,
      "outputs": []
    },
    {
      "cell_type": "code",
      "metadata": {
        "colab": {
          "base_uri": "https://localhost:8080/",
          "height": 143
        },
        "id": "aTYJbZvmheI1",
        "outputId": "cf089b0e-c81f-492f-ba0a-c54bf8af363d"
      },
      "source": [
        "df_train[:3]"
      ],
      "execution_count": 6,
      "outputs": [
        {
          "output_type": "execute_result",
          "data": {
            "text/html": [
              "<div>\n",
              "<style scoped>\n",
              "    .dataframe tbody tr th:only-of-type {\n",
              "        vertical-align: middle;\n",
              "    }\n",
              "\n",
              "    .dataframe tbody tr th {\n",
              "        vertical-align: top;\n",
              "    }\n",
              "\n",
              "    .dataframe thead th {\n",
              "        text-align: right;\n",
              "    }\n",
              "</style>\n",
              "<table border=\"1\" class=\"dataframe\">\n",
              "  <thead>\n",
              "    <tr style=\"text-align: right;\">\n",
              "      <th></th>\n",
              "      <th>id</th>\n",
              "      <th>document</th>\n",
              "      <th>label</th>\n",
              "    </tr>\n",
              "  </thead>\n",
              "  <tbody>\n",
              "    <tr>\n",
              "      <th>0</th>\n",
              "      <td>9976970</td>\n",
              "      <td>아 더빙.. 진짜 짜증나네요 목소리</td>\n",
              "      <td>0</td>\n",
              "    </tr>\n",
              "    <tr>\n",
              "      <th>1</th>\n",
              "      <td>3819312</td>\n",
              "      <td>흠...포스터보고 초딩영화줄....오버연기조차 가볍지 않구나</td>\n",
              "      <td>1</td>\n",
              "    </tr>\n",
              "    <tr>\n",
              "      <th>2</th>\n",
              "      <td>10265843</td>\n",
              "      <td>너무재밓었다그래서보는것을추천한다</td>\n",
              "      <td>0</td>\n",
              "    </tr>\n",
              "  </tbody>\n",
              "</table>\n",
              "</div>"
            ],
            "text/plain": [
              "         id                           document  label\n",
              "0   9976970                아 더빙.. 진짜 짜증나네요 목소리      0\n",
              "1   3819312  흠...포스터보고 초딩영화줄....오버연기조차 가볍지 않구나      1\n",
              "2  10265843                  너무재밓었다그래서보는것을추천한다      0"
            ]
          },
          "metadata": {},
          "execution_count": 6
        }
      ]
    },
    {
      "cell_type": "code",
      "metadata": {
        "colab": {
          "base_uri": "https://localhost:8080/"
        },
        "id": "vXK-nf2zbPFf",
        "outputId": "f7c96287-54de-4840-c9a0-2777ed3cec3e"
      },
      "source": [
        "text_train, y_train = df_train['document'].to_numpy(), df_train['label'].to_numpy()\n",
        "text_test, y_test = df_test['document'].to_numpy(), df_test['label'].to_numpy()\n",
        "\n",
        "twitter_tag = Twitter()\n"
      ],
      "execution_count": 7,
      "outputs": [
        {
          "output_type": "stream",
          "name": "stderr",
          "text": [
            "/usr/local/lib/python3.7/dist-packages/konlpy/tag/_okt.py:16: UserWarning: \"Twitter\" has changed to \"Okt\" since KoNLPy v0.4.5.\n",
            "  warn('\"Twitter\" has changed to \"Okt\" since KoNLPy v0.4.5.')\n"
          ]
        }
      ]
    },
    {
      "cell_type": "code",
      "metadata": {
        "id": "mV7O1GW9uXJN"
      },
      "source": [
        "cv = TfidfVectorizer(tokenizer=twitter_tokenizer, \n",
        "                     max_features=3000)\n",
        "X_train = cv.fit_transform(text_train)\n",
        "X_test = cv.transform(text_test)"
      ],
      "execution_count": 8,
      "outputs": []
    },
    {
      "cell_type": "code",
      "metadata": {
        "colab": {
          "base_uri": "https://localhost:8080/"
        },
        "id": "OQa7k9WDnvMC",
        "outputId": "3452621d-62b8-4141-dcec-316eb8051748"
      },
      "source": [
        "X_train.shape, y_train.shape"
      ],
      "execution_count": 9,
      "outputs": [
        {
          "output_type": "execute_result",
          "data": {
            "text/plain": [
              "((150000, 3000), (150000,))"
            ]
          },
          "metadata": {},
          "execution_count": 9
        }
      ]
    },
    {
      "cell_type": "code",
      "metadata": {
        "colab": {
          "base_uri": "https://localhost:8080/"
        },
        "id": "qEbIbUERr-V5",
        "outputId": "6cab72a6-4b3f-4aba-a88b-00999270f510"
      },
      "source": [
        "X_test.shape, y_test.shape"
      ],
      "execution_count": 10,
      "outputs": [
        {
          "output_type": "execute_result",
          "data": {
            "text/plain": [
              "((50000, 3000), (50000,))"
            ]
          },
          "metadata": {},
          "execution_count": 10
        }
      ]
    },
    {
      "cell_type": "code",
      "metadata": {
        "colab": {
          "base_uri": "https://localhost:8080/"
        },
        "id": "0f-t_efiGWYV",
        "outputId": "8c805711-f185-4d5d-cd33-e57ed6b52773"
      },
      "source": [
        "y_test[:3]"
      ],
      "execution_count": 11,
      "outputs": [
        {
          "output_type": "execute_result",
          "data": {
            "text/plain": [
              "array([1, 0, 0])"
            ]
          },
          "metadata": {},
          "execution_count": 11
        }
      ]
    },
    {
      "cell_type": "markdown",
      "metadata": {
        "id": "ZNtFJNw_xMIE"
      },
      "source": [
        ""
      ]
    },
    {
      "cell_type": "markdown",
      "metadata": {
        "id": "1xCm3OMurqM2"
      },
      "source": [
        "# 로지스틱 회귀"
      ]
    },
    {
      "cell_type": "code",
      "metadata": {
        "colab": {
          "base_uri": "https://localhost:8080/"
        },
        "id": "z2nXu2qirWn-",
        "outputId": "97bb4773-a87a-45d6-a1b1-0ca173ed6153"
      },
      "source": [
        "from sklearn.linear_model import LogisticRegression\n",
        "lr = LogisticRegression()\n",
        "result = lr.fit(X_train,y_train)\n",
        "feature_names = cv.get_feature_names()\n",
        "print(\"Training : \", result.score(X_train, y_train))\n",
        "print(\"Testing : \", result.score(X_test, y_test))"
      ],
      "execution_count": 12,
      "outputs": [
        {
          "output_type": "stream",
          "name": "stdout",
          "text": [
            "Training :  0.8406266666666666\n",
            "Testing :  0.82616\n"
          ]
        }
      ]
    },
    {
      "cell_type": "markdown",
      "metadata": {
        "id": "FVjDfOWKrnGG"
      },
      "source": [
        "# MLP"
      ]
    },
    {
      "cell_type": "code",
      "metadata": {
        "id": "Wbgf56t9Y3XG"
      },
      "source": [
        "X_train_mlp = X_train.A.reshape((X_train.shape[0], X_train.shape[1]))\n",
        "X_test_mlp = X_test.A.reshape((X_test.shape[0], X_test.shape[1]))"
      ],
      "execution_count": 13,
      "outputs": []
    },
    {
      "cell_type": "code",
      "metadata": {
        "id": "qcOzFAiRIz3t"
      },
      "source": [
        "from tensorflow.keras.utils import to_categorical\n",
        "y_train_cat = to_categorical(y_train)\n",
        "y_test_cat = to_categorical(y_test)"
      ],
      "execution_count": 14,
      "outputs": []
    },
    {
      "cell_type": "code",
      "metadata": {
        "id": "eP8o3eKI7vBR"
      },
      "source": [
        "max_words = X_train.shape[1]\n",
        "batch_size = 100\n",
        "nb_epoch = 5\n",
        "\n",
        "model = Sequential()\n",
        "model.add(Dense(64, input_shape=(max_words,)))\n",
        "model.add(Activation('relu'))\n",
        "model.add(Dropout(0.2))\n",
        "model.add(Dense(64))\n",
        "model.add(Dropout(0.2))\n",
        "model.add(Dense(2, activation='softmax'))\n",
        "model.compile(loss='binary_crossentropy',\n",
        "        optimizer='adam',\n",
        "        metrics=['accuracy'])\n"
      ],
      "execution_count": 15,
      "outputs": []
    },
    {
      "cell_type": "code",
      "metadata": {
        "colab": {
          "base_uri": "https://localhost:8080/"
        },
        "id": "EovtuJMU8MZF",
        "outputId": "56a9e63b-bc20-4450-a165-1646b969c349"
      },
      "source": [
        "model.fit(X_train_mlp, y_train_cat,\n",
        "        epochs=nb_epoch, \n",
        "        batch_size=batch_size) "
      ],
      "execution_count": 16,
      "outputs": [
        {
          "output_type": "stream",
          "name": "stdout",
          "text": [
            "Epoch 1/5\n",
            "1500/1500 [==============================] - 8s 4ms/step - loss: 0.3983 - accuracy: 0.8157\n",
            "Epoch 2/5\n",
            "1500/1500 [==============================] - 5s 3ms/step - loss: 0.3531 - accuracy: 0.8403\n",
            "Epoch 3/5\n",
            "1500/1500 [==============================] - 5s 3ms/step - loss: 0.3323 - accuracy: 0.8526\n",
            "Epoch 4/5\n",
            "1500/1500 [==============================] - 5s 3ms/step - loss: 0.3069 - accuracy: 0.8679\n",
            "Epoch 5/5\n",
            "1500/1500 [==============================] - 5s 3ms/step - loss: 0.2746 - accuracy: 0.8839\n"
          ]
        },
        {
          "output_type": "execute_result",
          "data": {
            "text/plain": [
              "<keras.callbacks.History at 0x7f06539e88d0>"
            ]
          },
          "metadata": {},
          "execution_count": 16
        }
      ]
    },
    {
      "cell_type": "code",
      "metadata": {
        "colab": {
          "base_uri": "https://localhost:8080/"
        },
        "id": "M08FNcQzgyXM",
        "outputId": "fbfd5931-4d89-478b-8754-c4a91d7156bb"
      },
      "source": [
        "y_pred = np.argmax(model.predict(X_test_mlp), axis=1)\n",
        "metrics.accuracy_score(y_test, y_pred)"
      ],
      "execution_count": 17,
      "outputs": [
        {
          "output_type": "execute_result",
          "data": {
            "text/plain": [
              "0.83036"
            ]
          },
          "metadata": {},
          "execution_count": 17
        }
      ]
    },
    {
      "cell_type": "markdown",
      "metadata": {
        "id": "HPxkhfIbrj3s"
      },
      "source": [
        "# RNN"
      ]
    },
    {
      "cell_type": "code",
      "metadata": {
        "colab": {
          "base_uri": "https://localhost:8080/"
        },
        "id": "6CniODJt9RSV",
        "outputId": "a7e3abde-0411-4046-97e5-a7181ce4f065"
      },
      "source": [
        "# RNN 학습을 위한 데이터 재배열\n",
        "X_train_rnn = X_train.A.reshape((X_train.shape[0], 1, X_train.shape[1]))\n",
        "X_test_rnn = X_test.A.reshape((X_test.shape[0], 1, X_test.shape[1]))\n",
        "\n",
        "print(X_train_rnn.shape)"
      ],
      "execution_count": 18,
      "outputs": [
        {
          "output_type": "stream",
          "name": "stdout",
          "text": [
            "(150000, 1, 3000)\n"
          ]
        }
      ]
    },
    {
      "cell_type": "code",
      "metadata": {
        "id": "RcczPT0RnZBj"
      },
      "source": [
        "from keras.models import Sequential\n",
        "from keras.layers import SimpleRNN, Dense\n",
        "\n",
        "model = Sequential()\n",
        "model.add(SimpleRNN(128, input_shape=(X_train_rnn.shape[1], \n",
        "              X_train_rnn.shape[2]), return_sequences=True))\n",
        "model.add(Activation('relu'))\n",
        "model.add(Dropout(0.2))\n",
        "model.add(SimpleRNN(128))\n",
        "model.add(Dropout(0.2))\n",
        "model.add(Dense(2, activation=\"softmax\"))\n",
        "model.compile(loss='categorical_crossentropy', \n",
        "              optimizer='adam', metrics=['accuracy'])   "
      ],
      "execution_count": 19,
      "outputs": []
    },
    {
      "cell_type": "code",
      "metadata": {
        "id": "Xyg_34khnY-z"
      },
      "source": [
        "model.fit(X_train_rnn, y_train_cat,\n",
        "          batch_size = 100,\n",
        "          epochs=nb_epoch)"
      ],
      "execution_count": null,
      "outputs": []
    },
    {
      "cell_type": "code",
      "metadata": {
        "id": "MVlbejnyAKvF"
      },
      "source": [
        "y_pred = np.argmax(model.predict(X_test_rnn), axis=1)\n",
        "metrics.accuracy_score(y_test, y_pred)"
      ],
      "execution_count": null,
      "outputs": []
    },
    {
      "cell_type": "markdown",
      "metadata": {
        "id": "SlPgZ7fSrgDR"
      },
      "source": [
        "# LSTM"
      ]
    },
    {
      "cell_type": "code",
      "metadata": {
        "id": "1DMmgcPpnY7_"
      },
      "source": [
        "from keras.layers import LSTM\n",
        "model = Sequential()\n",
        "model.add(LSTM(128, input_shape=(X_train_rnn.shape[1], X_train_rnn.shape[2]), return_sequences=True))\n",
        "model.add(Activation('relu'))\n",
        "model.add(Dropout(0.2))\n",
        "model.add(LSTM(128))\n",
        "model.add(Dropout(0.2))\n",
        "model.add(Dense(2, activation='softmax'))\n",
        "model.compile(loss='categorical_crossentropy', optimizer='adam', metrics=['accuracy'])"
      ],
      "execution_count": null,
      "outputs": []
    },
    {
      "cell_type": "code",
      "metadata": {
        "id": "1_lAhezqnY1b"
      },
      "source": [
        "model.fit(X_train_rnn, y_train_cat,\n",
        "          batch_size = 100,\n",
        "          epochs=nb_epoch)"
      ],
      "execution_count": null,
      "outputs": []
    },
    {
      "cell_type": "code",
      "metadata": {
        "id": "NuF_snQCnYym"
      },
      "source": [
        "y_pred = np.argmax(model.predict(X_test_rnn), axis=1)\n",
        "metrics.accuracy_score(y_test, y_pred)"
      ],
      "execution_count": null,
      "outputs": []
    },
    {
      "cell_type": "code",
      "metadata": {
        "id": "E4ny8IcNQvQX"
      },
      "source": [
        ""
      ],
      "execution_count": null,
      "outputs": []
    }
  ]
}