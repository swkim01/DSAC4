{
  "nbformat": 4,
  "nbformat_minor": 0,
  "metadata": {
    "accelerator": "GPU",
    "colab": {
      "name": "lab_100_autoencoder.ipynb",
      "provenance": [],
      "collapsed_sections": [],
      "include_colab_link": true
    },
    "kernelspec": {
      "display_name": "Python 3",
      "language": "python",
      "name": "python3"
    },
    "language_info": {
      "codemirror_mode": {
        "name": "ipython",
        "version": 3
      },
      "file_extension": ".py",
      "mimetype": "text/x-python",
      "name": "python",
      "nbconvert_exporter": "python",
      "pygments_lexer": "ipython3",
      "version": "3.8.5"
    }
  },
  "cells": [
    {
      "cell_type": "markdown",
      "metadata": {
        "id": "view-in-github",
        "colab_type": "text"
      },
      "source": [
        "<a href=\"https://colab.research.google.com/github/swkim01/DSAC4/blob/main/gg-72-AutoEncoder.ipynb\" target=\"_parent\"><img src=\"https://colab.research.google.com/assets/colab-badge.svg\" alt=\"Open In Colab\"/></a>"
      ]
    },
    {
      "cell_type": "markdown",
      "metadata": {
        "id": "zJ5iGGm9PL7e"
      },
      "source": [
        "# 오토인코더 (Autoencoder)\n",
        "\n",
        "<table class=\"tfo-notebook-buttons\" align=\"left\">\n",
        "  <td>\n",
        "    <a target=\"_blank\" href=\"https://colab.research.google.com/github/swkim01/DSAC4/blob/main/gg-72-AutoEncoder.ipynb\"><img src=\"https://github.com/swkim01/DSAC4/raw/main/colab_logo_32px.png\" />구글 코랩에서 실행</a>\n",
        "  </td>\n",
        "  <td>\n",
        "    <a target=\"_blank\" href=\"https://github.com/swkim01/DSAC4/blob/main/gg-72-AutoEncoder.ipynb\"><img src=\"https://github.com/swkim01/DSAC4/raw/main/GitHub-Mark-32px.png\" />깃헙에서 소스 보기</a>\n",
        "  </td>\n",
        "</table>"
      ]
    },
    {
      "cell_type": "code",
      "metadata": {
        "id": "9m16Lw5KjLrJ"
      },
      "source": [
        "import tensorflow.keras as keras\n",
        "from tensorflow.keras import layers"
      ],
      "execution_count": null,
      "outputs": []
    },
    {
      "cell_type": "markdown",
      "metadata": {
        "id": "nYK5sorq7_Ej"
      },
      "source": [
        "# 간단한 오토인코더"
      ]
    },
    {
      "cell_type": "markdown",
      "metadata": {
        "id": "YccZMk042zuK"
      },
      "source": [
        "- 인코더 및 디코더로 간단한 단일 완전연결계층 신경망으로 구성"
      ]
    },
    {
      "cell_type": "code",
      "metadata": {
        "id": "MdWNpjaG0kCk"
      },
      "source": [
        "encoding_dim = 32 # size of encoded representation\n",
        "input_img = keras.Input(shape=(784,))\n",
        "encoded = layers.Dense(encoding_dim, activation='relu')(input_img)\n",
        "decoded = layers.Dense(784, activation='sigmoid')(encoded)\n",
        "\n",
        "autoencoder = keras.Model(input_img, decoded)"
      ],
      "execution_count": null,
      "outputs": []
    },
    {
      "cell_type": "code",
      "metadata": {
        "colab": {
          "base_uri": "https://localhost:8080/"
        },
        "id": "juLbvYTBFnId",
        "outputId": "4f6c4149-b895-4160-bca2-8423a76626b8"
      },
      "source": [
        "autoencoder.summary()"
      ],
      "execution_count": null,
      "outputs": [
        {
          "output_type": "stream",
          "text": [
            "Model: \"model\"\n",
            "_________________________________________________________________\n",
            "Layer (type)                 Output Shape              Param #   \n",
            "=================================================================\n",
            "input_1 (InputLayer)         [(None, 784)]             0         \n",
            "_________________________________________________________________\n",
            "dense (Dense)                (None, 32)                25120     \n",
            "_________________________________________________________________\n",
            "dense_1 (Dense)              (None, 784)               25872     \n",
            "=================================================================\n",
            "Total params: 50,992\n",
            "Trainable params: 50,992\n",
            "Non-trainable params: 0\n",
            "_________________________________________________________________\n"
          ],
          "name": "stdout"
        }
      ]
    },
    {
      "cell_type": "markdown",
      "metadata": {
        "id": "07N3Hmwe0tX0"
      },
      "source": [
        "- 분리된 인코더 모델 생성"
      ]
    },
    {
      "cell_type": "code",
      "metadata": {
        "id": "vtIY_jE811ks"
      },
      "source": [
        "encoder = keras.Model(input_img, encoded)"
      ],
      "execution_count": null,
      "outputs": []
    },
    {
      "cell_type": "markdown",
      "metadata": {
        "id": "W4PN6If518qk"
      },
      "source": [
        "- 디코더 모델 생성"
      ]
    },
    {
      "cell_type": "code",
      "metadata": {
        "id": "dQGQoK7817UW"
      },
      "source": [
        "# This is our encoded (32-dimensional) input\n",
        "encoded_input = keras.Input(shape=(encoding_dim,))\n",
        "decoder_layer = autoencoder.layers[-1]\n",
        "# Create the decoder model\n",
        "decoder = keras.Model(encoded_input, decoder_layer(encoded_input))"
      ],
      "execution_count": null,
      "outputs": []
    },
    {
      "cell_type": "markdown",
      "metadata": {
        "id": "WBc47atf2aqt"
      },
      "source": [
        "- 이제 MNIST 데이터를 재구성하도록 오토인코더를 학습하자."
      ]
    },
    {
      "cell_type": "code",
      "metadata": {
        "id": "8KnnGAIK2lDn"
      },
      "source": [
        "autoencoder.compile(optimizer='adam', loss='binary_crossentropy')"
      ],
      "execution_count": null,
      "outputs": []
    },
    {
      "cell_type": "markdown",
      "metadata": {
        "id": "fJDyDZRV6Skd"
      },
      "source": [
        "- 입력 데이터를 준비한다. MNIST 데이터를 사용하고 레이블은 활용하지 않는다 (즉 입력 영상을 인코딩/디코딩하는 데만 관심있음)."
      ]
    },
    {
      "cell_type": "code",
      "metadata": {
        "id": "RJBWQ3mw56Bs"
      },
      "source": [
        "from tensorflow.keras.datasets import mnist\n",
        "import numpy as np\n",
        "(x_train, y_train), (x_test, y_test) = mnist.load_data()"
      ],
      "execution_count": null,
      "outputs": []
    },
    {
      "cell_type": "code",
      "metadata": {
        "colab": {
          "base_uri": "https://localhost:8080/"
        },
        "id": "hxU5ITpz6nMp",
        "outputId": "d6748a72-4dcf-4998-9272-8bce3529c787"
      },
      "source": [
        "x_train.shape"
      ],
      "execution_count": null,
      "outputs": [
        {
          "output_type": "execute_result",
          "data": {
            "text/plain": [
              "(60000, 28, 28)"
            ]
          },
          "metadata": {
            "tags": []
          },
          "execution_count": 6
        }
      ]
    },
    {
      "cell_type": "code",
      "metadata": {
        "colab": {
          "base_uri": "https://localhost:8080/"
        },
        "id": "EDhw5Dzu6ed1",
        "outputId": "45f30d3f-343b-403b-8a86-f187ccb03292"
      },
      "source": [
        "x_train = x_train.astype('float32') / 255.\n",
        "x_test = x_test.astype('float32') / 255.\n",
        "x_train = x_train.reshape((len(x_train), np.prod(x_train.shape[1:])))\n",
        "x_test = x_test.reshape((len(x_test), np.prod(x_test.shape[1:])))\n",
        "print(x_train.shape)\n",
        "print(x_test.shape)"
      ],
      "execution_count": null,
      "outputs": [
        {
          "output_type": "stream",
          "text": [
            "(60000, 784)\n",
            "(10000, 784)\n"
          ],
          "name": "stdout"
        }
      ]
    },
    {
      "cell_type": "code",
      "metadata": {
        "colab": {
          "base_uri": "https://localhost:8080/"
        },
        "id": "Upg3jbEu6uPR",
        "outputId": "4e403f6e-fb57-4d57-d0dc-13450bc03ae9"
      },
      "source": [
        "autoencoder.fit(x_train, x_train,\n",
        "                epochs=50,\n",
        "                batch_size=256,\n",
        "                shuffle=True,\n",
        "                validation_data=(x_test, x_test))"
      ],
      "execution_count": null,
      "outputs": [
        {
          "output_type": "stream",
          "text": [
            "Epoch 1/50\n",
            "235/235 [==============================] - 3s 4ms/step - loss: 0.3853 - val_loss: 0.1898\n",
            "Epoch 2/50\n",
            "235/235 [==============================] - 1s 3ms/step - loss: 0.1803 - val_loss: 0.1541\n",
            "Epoch 3/50\n",
            "235/235 [==============================] - 1s 3ms/step - loss: 0.1496 - val_loss: 0.1334\n",
            "Epoch 4/50\n",
            "235/235 [==============================] - 1s 3ms/step - loss: 0.1313 - val_loss: 0.1214\n",
            "Epoch 5/50\n",
            "235/235 [==============================] - 1s 3ms/step - loss: 0.1203 - val_loss: 0.1131\n",
            "Epoch 6/50\n",
            "235/235 [==============================] - 1s 3ms/step - loss: 0.1127 - val_loss: 0.1069\n",
            "Epoch 7/50\n",
            "235/235 [==============================] - 1s 3ms/step - loss: 0.1068 - val_loss: 0.1023\n",
            "Epoch 8/50\n",
            "235/235 [==============================] - 1s 3ms/step - loss: 0.1023 - val_loss: 0.0989\n",
            "Epoch 9/50\n",
            "235/235 [==============================] - 1s 3ms/step - loss: 0.0993 - val_loss: 0.0965\n",
            "Epoch 10/50\n",
            "235/235 [==============================] - 1s 3ms/step - loss: 0.0974 - val_loss: 0.0950\n",
            "Epoch 11/50\n",
            "235/235 [==============================] - 1s 3ms/step - loss: 0.0960 - val_loss: 0.0940\n",
            "Epoch 12/50\n",
            "235/235 [==============================] - 1s 3ms/step - loss: 0.0953 - val_loss: 0.0934\n",
            "Epoch 13/50\n",
            "235/235 [==============================] - 1s 3ms/step - loss: 0.0945 - val_loss: 0.0930\n",
            "Epoch 14/50\n",
            "235/235 [==============================] - 1s 3ms/step - loss: 0.0940 - val_loss: 0.0927\n",
            "Epoch 15/50\n",
            "235/235 [==============================] - 1s 3ms/step - loss: 0.0941 - val_loss: 0.0925\n",
            "Epoch 16/50\n",
            "235/235 [==============================] - 1s 3ms/step - loss: 0.0937 - val_loss: 0.0924\n",
            "Epoch 17/50\n",
            "235/235 [==============================] - 1s 3ms/step - loss: 0.0936 - val_loss: 0.0922\n",
            "Epoch 18/50\n",
            "235/235 [==============================] - 1s 3ms/step - loss: 0.0933 - val_loss: 0.0921\n",
            "Epoch 19/50\n",
            "235/235 [==============================] - 1s 3ms/step - loss: 0.0932 - val_loss: 0.0920\n",
            "Epoch 20/50\n",
            "235/235 [==============================] - 1s 3ms/step - loss: 0.0934 - val_loss: 0.0919\n",
            "Epoch 21/50\n",
            "235/235 [==============================] - 1s 3ms/step - loss: 0.0932 - val_loss: 0.0919\n",
            "Epoch 22/50\n",
            "235/235 [==============================] - 1s 3ms/step - loss: 0.0930 - val_loss: 0.0918\n",
            "Epoch 23/50\n",
            "235/235 [==============================] - 1s 3ms/step - loss: 0.0931 - val_loss: 0.0917\n",
            "Epoch 24/50\n",
            "235/235 [==============================] - 1s 4ms/step - loss: 0.0930 - val_loss: 0.0918\n",
            "Epoch 25/50\n",
            "235/235 [==============================] - 1s 3ms/step - loss: 0.0929 - val_loss: 0.0918\n",
            "Epoch 26/50\n",
            "235/235 [==============================] - 1s 3ms/step - loss: 0.0929 - val_loss: 0.0917\n",
            "Epoch 27/50\n",
            "235/235 [==============================] - 1s 3ms/step - loss: 0.0929 - val_loss: 0.0917\n",
            "Epoch 28/50\n",
            "235/235 [==============================] - 1s 3ms/step - loss: 0.0929 - val_loss: 0.0916\n",
            "Epoch 29/50\n",
            "235/235 [==============================] - 1s 3ms/step - loss: 0.0929 - val_loss: 0.0917\n",
            "Epoch 30/50\n",
            "235/235 [==============================] - 1s 3ms/step - loss: 0.0926 - val_loss: 0.0916\n",
            "Epoch 31/50\n",
            "235/235 [==============================] - 1s 3ms/step - loss: 0.0928 - val_loss: 0.0916\n",
            "Epoch 32/50\n",
            "235/235 [==============================] - 1s 3ms/step - loss: 0.0930 - val_loss: 0.0916\n",
            "Epoch 33/50\n",
            "235/235 [==============================] - 1s 4ms/step - loss: 0.0928 - val_loss: 0.0915\n",
            "Epoch 34/50\n",
            "235/235 [==============================] - 1s 3ms/step - loss: 0.0925 - val_loss: 0.0916\n",
            "Epoch 35/50\n",
            "235/235 [==============================] - 1s 3ms/step - loss: 0.0927 - val_loss: 0.0916\n",
            "Epoch 36/50\n",
            "235/235 [==============================] - 1s 3ms/step - loss: 0.0925 - val_loss: 0.0915\n",
            "Epoch 37/50\n",
            "235/235 [==============================] - 1s 3ms/step - loss: 0.0925 - val_loss: 0.0915\n",
            "Epoch 38/50\n",
            "235/235 [==============================] - 1s 3ms/step - loss: 0.0927 - val_loss: 0.0915\n",
            "Epoch 39/50\n",
            "235/235 [==============================] - 1s 3ms/step - loss: 0.0929 - val_loss: 0.0915\n",
            "Epoch 40/50\n",
            "235/235 [==============================] - 1s 3ms/step - loss: 0.0927 - val_loss: 0.0916\n",
            "Epoch 41/50\n",
            "235/235 [==============================] - 1s 3ms/step - loss: 0.0927 - val_loss: 0.0914\n",
            "Epoch 42/50\n",
            "235/235 [==============================] - 1s 3ms/step - loss: 0.0926 - val_loss: 0.0914\n",
            "Epoch 43/50\n",
            "235/235 [==============================] - 1s 3ms/step - loss: 0.0926 - val_loss: 0.0915\n",
            "Epoch 44/50\n",
            "235/235 [==============================] - 1s 3ms/step - loss: 0.0926 - val_loss: 0.0914\n",
            "Epoch 45/50\n",
            "235/235 [==============================] - 1s 3ms/step - loss: 0.0928 - val_loss: 0.0915\n",
            "Epoch 46/50\n",
            "235/235 [==============================] - 1s 3ms/step - loss: 0.0927 - val_loss: 0.0915\n",
            "Epoch 47/50\n",
            "235/235 [==============================] - 1s 3ms/step - loss: 0.0926 - val_loss: 0.0914\n",
            "Epoch 48/50\n",
            "235/235 [==============================] - 1s 3ms/step - loss: 0.0925 - val_loss: 0.0915\n",
            "Epoch 49/50\n",
            "235/235 [==============================] - 1s 3ms/step - loss: 0.0924 - val_loss: 0.0914\n",
            "Epoch 50/50\n",
            "235/235 [==============================] - 1s 3ms/step - loss: 0.0926 - val_loss: 0.0914\n"
          ],
          "name": "stdout"
        },
        {
          "output_type": "execute_result",
          "data": {
            "text/plain": [
              "<tensorflow.python.keras.callbacks.History at 0x7fb3e204c668>"
            ]
          },
          "metadata": {
            "tags": []
          },
          "execution_count": 11
        }
      ]
    },
    {
      "cell_type": "markdown",
      "metadata": {
        "id": "5dCz8C-c7T0w"
      },
      "source": [
        "- 50 에포크 후에, 오토인코더는 대략 0.09 정도의 안정적인 학습/검증 손실 값에 도달한 것 같다. Matplotlib을 사용하여 재생된 입력과 인코딩된 표현을 시각화할 수 있다."
      ]
    },
    {
      "cell_type": "code",
      "metadata": {
        "id": "oGg_cKR07Wrf"
      },
      "source": [
        "# Encode and decode some digits\n",
        "# Note that we take them from the *test* set\n",
        "encoded_imgs = encoder.predict(x_test)\n",
        "decoded_imgs = decoder.predict(encoded_imgs)"
      ],
      "execution_count": null,
      "outputs": []
    },
    {
      "cell_type": "code",
      "metadata": {
        "colab": {
          "base_uri": "https://localhost:8080/",
          "height": 248
        },
        "id": "u1XvT9Va7mXa",
        "outputId": "c340a9d2-f6cd-497a-bf2f-8183c2f95b50"
      },
      "source": [
        "import matplotlib.pyplot as plt\n",
        "%matplotlib inline\n",
        "\n",
        "n = 10  # How many digits we will display\n",
        "plt.figure(figsize=(20, 4))\n",
        "for i in range(n):\n",
        "    # Display original\n",
        "    ax = plt.subplot(2, n, i + 1)\n",
        "    plt.imshow(x_test[i].reshape(28, 28))\n",
        "    plt.gray()\n",
        "    ax.get_xaxis().set_visible(False)\n",
        "    ax.get_yaxis().set_visible(False)\n",
        "\n",
        "    # Display reconstruction\n",
        "    ax = plt.subplot(2, n, i + 1 + n)\n",
        "    plt.imshow(decoded_imgs[i].reshape(28, 28))\n",
        "    plt.gray()\n",
        "    ax.get_xaxis().set_visible(False)\n",
        "    ax.get_yaxis().set_visible(False)\n",
        "plt.show()"
      ],
      "execution_count": null,
      "outputs": [
        {
          "output_type": "display_data",
          "data": {
            "image/png": "[encoded data removed]",
            "text/plain": [
              "<Figure size 1440x288 with 20 Axes>"
            ]
          },
          "metadata": {
            "tags": [],
            "needs_background": "light"
          }
        }
      ]
    },
    {
      "cell_type": "markdown",
      "metadata": {
        "id": "r1wvEp2p8EYT"
      },
      "source": [
        "# 심층 오토인코더 (Deep autoencoder)"
      ]
    },
    {
      "cell_type": "code",
      "metadata": {
        "id": "14PPoZ2b8Huy"
      },
      "source": [
        "input_img = keras.Input(shape=(784,))\n",
        "encoded = layers.Dense(128, activation='relu')(input_img)\n",
        "encoded = layers.Dense(64, activation='relu')(encoded)\n",
        "encoded = layers.Dense(32, activation='relu')(encoded)\n",
        "\n",
        "decoded = layers.Dense(64, activation='relu')(encoded)\n",
        "decoded = layers.Dense(128, activation='relu')(decoded)\n",
        "decoded = layers.Dense(784, activation='sigmoid')(decoded)"
      ],
      "execution_count": null,
      "outputs": []
    },
    {
      "cell_type": "code",
      "metadata": {
        "colab": {
          "base_uri": "https://localhost:8080/"
        },
        "id": "5pS8iPLI803U",
        "outputId": "7af2432c-4c3d-4c42-f536-7fda05883a60"
      },
      "source": [
        "autoencoder = keras.Model(input_img, decoded)\n",
        "autoencoder.compile(optimizer='adam', loss='binary_crossentropy')\n",
        "\n",
        "autoencoder.fit(x_train, x_train,\n",
        "                epochs=100,\n",
        "                batch_size=256,\n",
        "                shuffle=True,\n",
        "                validation_data=(x_test, x_test))"
      ],
      "execution_count": null,
      "outputs": [
        {
          "output_type": "stream",
          "text": [
            "Epoch 1/100\n",
            "235/235 [==============================] - 1s 3ms/step - loss: 0.2535 - val_loss: 0.1718\n",
            "Epoch 2/100\n",
            "235/235 [==============================] - 1s 2ms/step - loss: 0.1536 - val_loss: 0.1389\n",
            "Epoch 3/100\n",
            "235/235 [==============================] - 1s 3ms/step - loss: 0.1346 - val_loss: 0.1277\n",
            "Epoch 4/100\n",
            "235/235 [==============================] - 1s 3ms/step - loss: 0.1248 - val_loss: 0.1195\n",
            "Epoch 5/100\n",
            "235/235 [==============================] - 1s 3ms/step - loss: 0.1174 - val_loss: 0.1131\n",
            "Epoch 6/100\n",
            "235/235 [==============================] - 1s 3ms/step - loss: 0.1125 - val_loss: 0.1096\n",
            "Epoch 7/100\n",
            "235/235 [==============================] - 1s 3ms/step - loss: 0.1090 - val_loss: 0.1063\n",
            "Epoch 8/100\n",
            "235/235 [==============================] - 1s 3ms/step - loss: 0.1064 - val_loss: 0.1043\n",
            "Epoch 9/100\n",
            "235/235 [==============================] - 1s 2ms/step - loss: 0.1044 - val_loss: 0.1022\n",
            "Epoch 10/100\n",
            "235/235 [==============================] - 1s 3ms/step - loss: 0.1025 - val_loss: 0.1006\n",
            "Epoch 11/100\n",
            "235/235 [==============================] - 1s 2ms/step - loss: 0.1008 - val_loss: 0.0988\n",
            "Epoch 12/100\n",
            "235/235 [==============================] - 1s 2ms/step - loss: 0.0994 - val_loss: 0.0979\n",
            "Epoch 13/100\n",
            "235/235 [==============================] - 1s 2ms/step - loss: 0.0980 - val_loss: 0.0965\n",
            "Epoch 14/100\n",
            "235/235 [==============================] - 1s 3ms/step - loss: 0.0968 - val_loss: 0.0953\n",
            "Epoch 15/100\n",
            "235/235 [==============================] - 1s 3ms/step - loss: 0.0957 - val_loss: 0.0945\n",
            "Epoch 16/100\n",
            "235/235 [==============================] - 1s 3ms/step - loss: 0.0949 - val_loss: 0.0937\n",
            "Epoch 17/100\n",
            "235/235 [==============================] - 1s 2ms/step - loss: 0.0941 - val_loss: 0.0929\n",
            "Epoch 18/100\n",
            "235/235 [==============================] - 1s 3ms/step - loss: 0.0933 - val_loss: 0.0922\n",
            "Epoch 19/100\n",
            "235/235 [==============================] - 1s 3ms/step - loss: 0.0927 - val_loss: 0.0917\n",
            "Epoch 20/100\n",
            "235/235 [==============================] - 1s 3ms/step - loss: 0.0921 - val_loss: 0.0912\n",
            "Epoch 21/100\n",
            "235/235 [==============================] - 1s 2ms/step - loss: 0.0916 - val_loss: 0.0905\n",
            "Epoch 22/100\n",
            "235/235 [==============================] - 1s 3ms/step - loss: 0.0910 - val_loss: 0.0900\n",
            "Epoch 23/100\n",
            "235/235 [==============================] - 1s 3ms/step - loss: 0.0906 - val_loss: 0.0901\n",
            "Epoch 24/100\n",
            "235/235 [==============================] - 1s 3ms/step - loss: 0.0902 - val_loss: 0.0893\n",
            "Epoch 25/100\n",
            "235/235 [==============================] - 1s 3ms/step - loss: 0.0897 - val_loss: 0.0888\n",
            "Epoch 26/100\n",
            "235/235 [==============================] - 1s 3ms/step - loss: 0.0893 - val_loss: 0.0887\n",
            "Epoch 27/100\n",
            "235/235 [==============================] - 1s 3ms/step - loss: 0.0890 - val_loss: 0.0884\n",
            "Epoch 28/100\n",
            "235/235 [==============================] - 1s 2ms/step - loss: 0.0887 - val_loss: 0.0879\n",
            "Epoch 29/100\n",
            "235/235 [==============================] - 1s 3ms/step - loss: 0.0883 - val_loss: 0.0875\n",
            "Epoch 30/100\n",
            "235/235 [==============================] - 1s 3ms/step - loss: 0.0881 - val_loss: 0.0872\n",
            "Epoch 31/100\n",
            "235/235 [==============================] - 1s 3ms/step - loss: 0.0878 - val_loss: 0.0869\n",
            "Epoch 32/100\n",
            "235/235 [==============================] - 1s 2ms/step - loss: 0.0875 - val_loss: 0.0876\n",
            "Epoch 33/100\n",
            "235/235 [==============================] - 1s 3ms/step - loss: 0.0874 - val_loss: 0.0867\n",
            "Epoch 34/100\n",
            "235/235 [==============================] - 1s 2ms/step - loss: 0.0871 - val_loss: 0.0863\n",
            "Epoch 35/100\n",
            "235/235 [==============================] - 1s 3ms/step - loss: 0.0868 - val_loss: 0.0864\n",
            "Epoch 36/100\n",
            "235/235 [==============================] - 1s 2ms/step - loss: 0.0867 - val_loss: 0.0860\n",
            "Epoch 37/100\n",
            "235/235 [==============================] - 1s 3ms/step - loss: 0.0865 - val_loss: 0.0861\n",
            "Epoch 38/100\n",
            "235/235 [==============================] - 1s 3ms/step - loss: 0.0863 - val_loss: 0.0857\n",
            "Epoch 39/100\n",
            "235/235 [==============================] - 1s 3ms/step - loss: 0.0861 - val_loss: 0.0856\n",
            "Epoch 40/100\n",
            "235/235 [==============================] - 1s 2ms/step - loss: 0.0860 - val_loss: 0.0855\n",
            "Epoch 41/100\n",
            "235/235 [==============================] - 1s 2ms/step - loss: 0.0859 - val_loss: 0.0853\n",
            "Epoch 42/100\n",
            "235/235 [==============================] - 1s 3ms/step - loss: 0.0857 - val_loss: 0.0851\n",
            "Epoch 43/100\n",
            "235/235 [==============================] - 1s 2ms/step - loss: 0.0856 - val_loss: 0.0853\n",
            "Epoch 44/100\n",
            "235/235 [==============================] - 1s 2ms/step - loss: 0.0855 - val_loss: 0.0852\n",
            "Epoch 45/100\n",
            "235/235 [==============================] - 1s 3ms/step - loss: 0.0854 - val_loss: 0.0849\n",
            "Epoch 46/100\n",
            "235/235 [==============================] - 1s 2ms/step - loss: 0.0853 - val_loss: 0.0848\n",
            "Epoch 47/100\n",
            "235/235 [==============================] - 1s 2ms/step - loss: 0.0851 - val_loss: 0.0848\n",
            "Epoch 48/100\n",
            "235/235 [==============================] - 1s 2ms/step - loss: 0.0850 - val_loss: 0.0847\n",
            "Epoch 49/100\n",
            "235/235 [==============================] - 1s 3ms/step - loss: 0.0849 - val_loss: 0.0847\n",
            "Epoch 50/100\n",
            "235/235 [==============================] - 1s 3ms/step - loss: 0.0848 - val_loss: 0.0846\n",
            "Epoch 51/100\n",
            "235/235 [==============================] - 1s 2ms/step - loss: 0.0847 - val_loss: 0.0849\n",
            "Epoch 52/100\n",
            "235/235 [==============================] - 1s 2ms/step - loss: 0.0846 - val_loss: 0.0842\n",
            "Epoch 53/100\n",
            "235/235 [==============================] - 1s 3ms/step - loss: 0.0845 - val_loss: 0.0844\n",
            "Epoch 54/100\n",
            "235/235 [==============================] - 1s 3ms/step - loss: 0.0845 - val_loss: 0.0839\n",
            "Epoch 55/100\n",
            "235/235 [==============================] - 1s 2ms/step - loss: 0.0844 - val_loss: 0.0840\n",
            "Epoch 56/100\n",
            "235/235 [==============================] - 1s 3ms/step - loss: 0.0843 - val_loss: 0.0840\n",
            "Epoch 57/100\n",
            "235/235 [==============================] - 1s 3ms/step - loss: 0.0843 - val_loss: 0.0838\n",
            "Epoch 58/100\n",
            "235/235 [==============================] - 1s 2ms/step - loss: 0.0842 - val_loss: 0.0837\n",
            "Epoch 59/100\n",
            "235/235 [==============================] - 1s 2ms/step - loss: 0.0841 - val_loss: 0.0839\n",
            "Epoch 60/100\n",
            "235/235 [==============================] - 1s 3ms/step - loss: 0.0840 - val_loss: 0.0836\n",
            "Epoch 61/100\n",
            "235/235 [==============================] - 1s 3ms/step - loss: 0.0839 - val_loss: 0.0835\n",
            "Epoch 62/100\n",
            "235/235 [==============================] - 1s 3ms/step - loss: 0.0839 - val_loss: 0.0836\n",
            "Epoch 63/100\n",
            "235/235 [==============================] - 1s 2ms/step - loss: 0.0838 - val_loss: 0.0835\n",
            "Epoch 64/100\n",
            "235/235 [==============================] - 1s 3ms/step - loss: 0.0838 - val_loss: 0.0836\n",
            "Epoch 65/100\n",
            "235/235 [==============================] - 1s 3ms/step - loss: 0.0837 - val_loss: 0.0833\n",
            "Epoch 66/100\n",
            "235/235 [==============================] - 1s 3ms/step - loss: 0.0836 - val_loss: 0.0832\n",
            "Epoch 67/100\n",
            "235/235 [==============================] - 1s 3ms/step - loss: 0.0836 - val_loss: 0.0833\n",
            "Epoch 68/100\n",
            "235/235 [==============================] - 1s 3ms/step - loss: 0.0835 - val_loss: 0.0833\n",
            "Epoch 69/100\n",
            "235/235 [==============================] - 1s 3ms/step - loss: 0.0834 - val_loss: 0.0834\n",
            "Epoch 70/100\n",
            "235/235 [==============================] - 1s 2ms/step - loss: 0.0833 - val_loss: 0.0829\n",
            "Epoch 71/100\n",
            "235/235 [==============================] - 1s 3ms/step - loss: 0.0832 - val_loss: 0.0828\n",
            "Epoch 72/100\n",
            "235/235 [==============================] - 1s 3ms/step - loss: 0.0832 - val_loss: 0.0830\n",
            "Epoch 73/100\n",
            "235/235 [==============================] - 1s 3ms/step - loss: 0.0831 - val_loss: 0.0828\n",
            "Epoch 74/100\n",
            "235/235 [==============================] - 1s 2ms/step - loss: 0.0830 - val_loss: 0.0828\n",
            "Epoch 75/100\n",
            "235/235 [==============================] - 1s 3ms/step - loss: 0.0829 - val_loss: 0.0827\n",
            "Epoch 76/100\n",
            "235/235 [==============================] - 1s 3ms/step - loss: 0.0828 - val_loss: 0.0825\n",
            "Epoch 77/100\n",
            "235/235 [==============================] - 1s 3ms/step - loss: 0.0828 - val_loss: 0.0825\n",
            "Epoch 78/100\n",
            "235/235 [==============================] - 1s 2ms/step - loss: 0.0827 - val_loss: 0.0825\n",
            "Epoch 79/100\n",
            "235/235 [==============================] - 1s 3ms/step - loss: 0.0827 - val_loss: 0.0826\n",
            "Epoch 80/100\n",
            "235/235 [==============================] - 1s 3ms/step - loss: 0.0826 - val_loss: 0.0822\n",
            "Epoch 81/100\n"
          ],
          "name": "stdout"
        },
        {
          "output_type": "stream",
          "text": [
            "235/235 [==============================] - 1s 3ms/step - loss: 0.0825 - val_loss: 0.0824\n",
            "Epoch 82/100\n",
            "235/235 [==============================] - 1s 3ms/step - loss: 0.0825 - val_loss: 0.0823\n",
            "Epoch 83/100\n",
            "235/235 [==============================] - 1s 3ms/step - loss: 0.0824 - val_loss: 0.0823\n",
            "Epoch 84/100\n",
            "235/235 [==============================] - 1s 3ms/step - loss: 0.0824 - val_loss: 0.0823\n",
            "Epoch 85/100\n",
            "235/235 [==============================] - 1s 2ms/step - loss: 0.0824 - val_loss: 0.0821\n",
            "Epoch 86/100\n",
            "235/235 [==============================] - 1s 3ms/step - loss: 0.0823 - val_loss: 0.0823\n",
            "Epoch 87/100\n",
            "235/235 [==============================] - 1s 3ms/step - loss: 0.0822 - val_loss: 0.0820\n",
            "Epoch 88/100\n",
            "235/235 [==============================] - 1s 3ms/step - loss: 0.0822 - val_loss: 0.0821\n",
            "Epoch 89/100\n",
            "235/235 [==============================] - 1s 2ms/step - loss: 0.0822 - val_loss: 0.0820\n",
            "Epoch 90/100\n",
            "235/235 [==============================] - 1s 3ms/step - loss: 0.0821 - val_loss: 0.0820\n",
            "Epoch 91/100\n",
            "235/235 [==============================] - 1s 3ms/step - loss: 0.0821 - val_loss: 0.0820\n",
            "Epoch 92/100\n",
            "235/235 [==============================] - 1s 3ms/step - loss: 0.0821 - val_loss: 0.0821\n",
            "Epoch 93/100\n",
            "235/235 [==============================] - 1s 2ms/step - loss: 0.0820 - val_loss: 0.0818\n",
            "Epoch 94/100\n",
            "235/235 [==============================] - 1s 3ms/step - loss: 0.0820 - val_loss: 0.0822\n",
            "Epoch 95/100\n",
            "235/235 [==============================] - 1s 3ms/step - loss: 0.0820 - val_loss: 0.0817\n",
            "Epoch 96/100\n",
            "235/235 [==============================] - 1s 2ms/step - loss: 0.0819 - val_loss: 0.0820\n",
            "Epoch 97/100\n",
            "235/235 [==============================] - 1s 3ms/step - loss: 0.0819 - val_loss: 0.0817\n",
            "Epoch 98/100\n",
            "235/235 [==============================] - 1s 3ms/step - loss: 0.0819 - val_loss: 0.0820\n",
            "Epoch 99/100\n",
            "235/235 [==============================] - 1s 3ms/step - loss: 0.0818 - val_loss: 0.0815\n",
            "Epoch 100/100\n",
            "235/235 [==============================] - 1s 2ms/step - loss: 0.0818 - val_loss: 0.0820\n"
          ],
          "name": "stdout"
        },
        {
          "output_type": "execute_result",
          "data": {
            "text/plain": [
              "<tensorflow.python.keras.callbacks.History at 0x7fbd90304c70>"
            ]
          },
          "metadata": {
            "tags": []
          },
          "execution_count": 8
        }
      ]
    },
    {
      "cell_type": "code",
      "metadata": {
        "id": "CgjEEZ-DbiBm"
      },
      "source": [
        "# Encode and decode some digits\n",
        "# Note that we take them from the *test* set\n",
        "decoded_imgs = autoencoder.predict(x_test)"
      ],
      "execution_count": null,
      "outputs": []
    },
    {
      "cell_type": "code",
      "metadata": {
        "colab": {
          "base_uri": "https://localhost:8080/",
          "height": 248
        },
        "id": "nkDrv5z59a9N",
        "outputId": "7103724b-631c-492a-9eb6-fc28de96ba4c"
      },
      "source": [
        "import matplotlib.pyplot as plt\n",
        "%matplotlib inline\n",
        "\n",
        "n = 10  # How many digits we will display\n",
        "plt.figure(figsize=(20, 4))\n",
        "for i in range(n):\n",
        "    # Display original\n",
        "    ax = plt.subplot(2, n, i + 1)\n",
        "    plt.imshow(x_test[i].reshape(28, 28))\n",
        "    plt.gray()\n",
        "    ax.get_xaxis().set_visible(False)\n",
        "    ax.get_yaxis().set_visible(False)\n",
        "\n",
        "    # Display reconstruction\n",
        "    ax = plt.subplot(2, n, i + 1 + n)\n",
        "    plt.imshow(decoded_imgs[i].reshape(28, 28))\n",
        "    plt.gray()\n",
        "    ax.get_xaxis().set_visible(False)\n",
        "    ax.get_yaxis().set_visible(False)\n",
        "plt.show()"
      ],
      "execution_count": null,
      "outputs": [
        {
          "output_type": "stream",
          "text": [
            "Duplicate key in file PosixPath('/usr/local/lib/python3.8/dist-packages/matplotlib/mpl-data/matplotlibrc'), line 250 ('font.family:  UnDotum')\n",
            "Duplicate key in file PosixPath('/usr/local/lib/python3.8/dist-packages/matplotlib/mpl-data/matplotlibrc'), line 251 ('font.family:  NanumGothic')\n",
            "Duplicate key in file PosixPath('/usr/local/lib/python3.8/dist-packages/matplotlib/mpl-data/matplotlibrc'), line 403 ('axes.unicode_minus: True  # use Unicode for the minus symbol rather than hyphen.  See')\n"
          ],
          "name": "stderr"
        },
        {
          "output_type": "display_data",
          "data": {
            "image/png": "[encoded data removed]",
            "text/plain": [
              "<Figure size 1440x288 with 20 Axes>"
            ]
          },
          "metadata": {
            "tags": [],
            "needs_background": "light"
          }
        }
      ]
    },
    {
      "cell_type": "markdown",
      "metadata": {
        "id": "zAYvK1In9igh"
      },
      "source": [
        "- 더 좋아 보이는가?\n",
        "- 그렇다, 100 에포크 후에, it reaches a train and validation loss of ~0.08 정도의 훈련/검증 손실 값에 도달하여 이전 모델보다 조금 더 좋다. 또한 재생된 데이터도 조금 더 좋아 보인다."
      ]
    },
    {
      "cell_type": "code",
      "metadata": {
        "id": "8A3g5HuZbiBo"
      },
      "source": [
        "from sklearn.manifold import TSNE\n",
        "tsne = TSNE()\n",
        "x_test_2D = tsne.fit_transform(decoded_imgs)"
      ],
      "execution_count": null,
      "outputs": []
    },
    {
      "cell_type": "code",
      "metadata": {
        "id": "Gp7zaTsibiBo",
        "outputId": "33b5db70-0523-4ede-9388-2ca92ece6404"
      },
      "source": [
        "import matplotlib.pyplot as plt\n",
        "%matplotlib inline\n",
        "\n",
        "plt.scatter(x_test_2D[:, 0], x_test_2D[:, 1], c=y_test, s=10, cmap=\"tab10\")"
      ],
      "execution_count": null,
      "outputs": [
        {
          "output_type": "execute_result",
          "data": {
            "text/plain": [
              "<matplotlib.collections.PathCollection at 0x7fb9bc7c0790>"
            ]
          },
          "metadata": {
            "tags": []
          },
          "execution_count": 13
        },
        {
          "output_type": "display_data",
          "data": {
            "image/png": "[encoded data removed]",
            "text/plain": [
              "<Figure size 432x288 with 1 Axes>"
            ]
          },
          "metadata": {
            "tags": [],
            "needs_background": "light"
          }
        }
      ]
    },
    {
      "cell_type": "markdown",
      "metadata": {
        "id": "Z-a4FHDB9uZl"
      },
      "source": [
        "# 합성곱 인코더 (Convolutional autoencoder)\n",
        "- 인코더는 Conv2D와 MaxPooling2D 계층(공간적인 다운-샘플링을 위해 최대 풀링을 사용)을 쌓아 구성하고, 디코더는 Conv2D와 UpSampling2D 계층을 쌓아 구성한다."
      ]
    },
    {
      "cell_type": "code",
      "metadata": {
        "id": "P_eE5Jt79t1H"
      },
      "source": [
        "import keras\n",
        "from keras import layers\n",
        "\n",
        "input_img = keras.Input(shape=(28, 28, 1))\n",
        "\n",
        "x = layers.Conv2D(16, (3, 3), activation='relu', padding='same')(input_img)\n",
        "x = layers.MaxPooling2D((2, 2), padding='same')(x)\n",
        "x = layers.Conv2D(8, (3, 3), activation='relu', padding='same')(x)\n",
        "x = layers.MaxPooling2D((2, 2), padding='same')(x)\n",
        "x = layers.Conv2D(8, (3, 3), activation='relu', padding='same')(x)\n",
        "encoded = layers.MaxPooling2D((2, 2), padding='same')(x)\n",
        "\n",
        "# at this point the representation is (4, 4, 8) i.e. 128-dimensional\n",
        "\n",
        "x = layers.Conv2D(8, (3, 3), activation='relu', padding='same')(encoded)\n",
        "x = layers.UpSampling2D((2, 2))(x)\n",
        "x = layers.Conv2D(8, (3, 3), activation='relu', padding='same')(x)\n",
        "x = layers.UpSampling2D((2, 2))(x)\n",
        "x = layers.Conv2D(16, (3, 3), activation='relu')(x)\n",
        "x = layers.UpSampling2D((2, 2))(x)\n",
        "decoded = layers.Conv2D(1, (3, 3), activation='sigmoid', padding='same')(x)\n",
        "\n",
        "autoencoder = keras.Model(input_img, decoded)\n",
        "autoencoder.compile(optimizer='adam', loss='binary_crossentropy')"
      ],
      "execution_count": null,
      "outputs": []
    },
    {
      "cell_type": "code",
      "metadata": {
        "colab": {
          "base_uri": "https://localhost:8080/"
        },
        "id": "xthPA-On-eCx",
        "outputId": "21e06390-fc95-4c5d-8856-9aa9033b4eb3"
      },
      "source": [
        "encoded.shape, decoded.shape"
      ],
      "execution_count": null,
      "outputs": [
        {
          "output_type": "execute_result",
          "data": {
            "text/plain": [
              "(TensorShape([None, 4, 4, 8]), TensorShape([None, 28, 28, 1]))"
            ]
          },
          "metadata": {
            "tags": []
          },
          "execution_count": 18
        }
      ]
    },
    {
      "cell_type": "markdown",
      "metadata": {
        "id": "n-4rkmhc-mPv"
      },
      "source": [
        "- 학습을 위해, 원래 MNIST 데이터를 (samples, 28, 28, 1) 형태로 사용하고, 0과 1 사이의 픽셀 값으로 정규화한다."
      ]
    },
    {
      "cell_type": "code",
      "metadata": {
        "id": "kDuMoxRM-v08"
      },
      "source": [
        "from keras.datasets import mnist\n",
        "import numpy as np\n",
        "\n",
        "(x_train, _), (x_test, _) = mnist.load_data()\n",
        "\n",
        "x_train = x_train.astype('float32') / 255.\n",
        "x_test = x_test.astype('float32') / 255.\n",
        "x_train = np.reshape(x_train, (len(x_train), 28, 28, 1))\n",
        "x_test = np.reshape(x_test, (len(x_test), 28, 28, 1))"
      ],
      "execution_count": null,
      "outputs": []
    },
    {
      "cell_type": "code",
      "metadata": {
        "colab": {
          "base_uri": "https://localhost:8080/"
        },
        "id": "cjzw0Nbx_7S_",
        "outputId": "2b19131a-b9d7-47cb-f0ff-02eb3a300eeb"
      },
      "source": [
        "history = autoencoder.fit(x_train, x_train,\n",
        "                        epochs=50,\n",
        "                        batch_size=128,\n",
        "                        shuffle=True,\n",
        "                        validation_data=(x_test, x_test))"
      ],
      "execution_count": null,
      "outputs": [
        {
          "output_type": "stream",
          "text": [
            "Epoch 1/50\n",
            "469/469 [==============================] - 8s 5ms/step - loss: 0.3145 - val_loss: 0.1547\n",
            "Epoch 2/50\n",
            "469/469 [==============================] - 2s 5ms/step - loss: 0.1485 - val_loss: 0.1300\n",
            "Epoch 3/50\n",
            "469/469 [==============================] - 2s 5ms/step - loss: 0.1277 - val_loss: 0.1196\n",
            "Epoch 4/50\n",
            "469/469 [==============================] - 2s 5ms/step - loss: 0.1193 - val_loss: 0.1142\n",
            "Epoch 5/50\n",
            "469/469 [==============================] - 2s 5ms/step - loss: 0.1142 - val_loss: 0.1103\n",
            "Epoch 6/50\n",
            "469/469 [==============================] - 2s 5ms/step - loss: 0.1107 - val_loss: 0.1074\n",
            "Epoch 7/50\n",
            "469/469 [==============================] - 2s 5ms/step - loss: 0.1082 - val_loss: 0.1054\n",
            "Epoch 8/50\n",
            "469/469 [==============================] - 2s 5ms/step - loss: 0.1062 - val_loss: 0.1042\n",
            "Epoch 9/50\n",
            "469/469 [==============================] - 2s 5ms/step - loss: 0.1047 - val_loss: 0.1026\n",
            "Epoch 10/50\n",
            "469/469 [==============================] - 2s 5ms/step - loss: 0.1035 - val_loss: 0.1012\n",
            "Epoch 11/50\n",
            "469/469 [==============================] - 2s 5ms/step - loss: 0.1018 - val_loss: 0.1001\n",
            "Epoch 12/50\n",
            "469/469 [==============================] - 2s 5ms/step - loss: 0.1010 - val_loss: 0.0993\n",
            "Epoch 13/50\n",
            "469/469 [==============================] - 2s 5ms/step - loss: 0.1004 - val_loss: 0.0986\n",
            "Epoch 14/50\n",
            "469/469 [==============================] - 2s 5ms/step - loss: 0.0994 - val_loss: 0.0977\n",
            "Epoch 15/50\n",
            "469/469 [==============================] - 2s 5ms/step - loss: 0.0985 - val_loss: 0.0972\n",
            "Epoch 16/50\n",
            "469/469 [==============================] - 2s 5ms/step - loss: 0.0980 - val_loss: 0.0966\n",
            "Epoch 17/50\n",
            "469/469 [==============================] - 2s 5ms/step - loss: 0.0973 - val_loss: 0.0961\n",
            "Epoch 18/50\n",
            "469/469 [==============================] - 2s 5ms/step - loss: 0.0969 - val_loss: 0.0953\n",
            "Epoch 19/50\n",
            "469/469 [==============================] - 2s 5ms/step - loss: 0.0962 - val_loss: 0.0949\n",
            "Epoch 20/50\n",
            "469/469 [==============================] - 2s 5ms/step - loss: 0.0961 - val_loss: 0.0944\n",
            "Epoch 21/50\n",
            "469/469 [==============================] - 3s 5ms/step - loss: 0.0953 - val_loss: 0.0939\n",
            "Epoch 22/50\n",
            "469/469 [==============================] - 2s 5ms/step - loss: 0.0951 - val_loss: 0.0936\n",
            "Epoch 23/50\n",
            "469/469 [==============================] - 2s 5ms/step - loss: 0.0946 - val_loss: 0.0933\n",
            "Epoch 24/50\n",
            "469/469 [==============================] - 2s 5ms/step - loss: 0.0945 - val_loss: 0.0931\n",
            "Epoch 25/50\n",
            "469/469 [==============================] - 2s 5ms/step - loss: 0.0940 - val_loss: 0.0926\n",
            "Epoch 26/50\n",
            "469/469 [==============================] - 2s 5ms/step - loss: 0.0938 - val_loss: 0.0927\n",
            "Epoch 27/50\n",
            "469/469 [==============================] - 2s 5ms/step - loss: 0.0934 - val_loss: 0.0921\n",
            "Epoch 28/50\n",
            "469/469 [==============================] - 2s 5ms/step - loss: 0.0934 - val_loss: 0.0921\n",
            "Epoch 29/50\n",
            "469/469 [==============================] - 2s 5ms/step - loss: 0.0930 - val_loss: 0.0916\n",
            "Epoch 30/50\n",
            "469/469 [==============================] - 2s 5ms/step - loss: 0.0929 - val_loss: 0.0916\n",
            "Epoch 31/50\n",
            "469/469 [==============================] - 2s 5ms/step - loss: 0.0926 - val_loss: 0.0916\n",
            "Epoch 32/50\n",
            "469/469 [==============================] - 2s 5ms/step - loss: 0.0924 - val_loss: 0.0912\n",
            "Epoch 33/50\n",
            "469/469 [==============================] - 2s 5ms/step - loss: 0.0920 - val_loss: 0.0911\n",
            "Epoch 34/50\n",
            "469/469 [==============================] - 2s 5ms/step - loss: 0.0921 - val_loss: 0.0907\n",
            "Epoch 35/50\n",
            "469/469 [==============================] - 2s 5ms/step - loss: 0.0919 - val_loss: 0.0905\n",
            "Epoch 36/50\n",
            "469/469 [==============================] - 2s 5ms/step - loss: 0.0917 - val_loss: 0.0905\n",
            "Epoch 37/50\n",
            "469/469 [==============================] - 2s 5ms/step - loss: 0.0913 - val_loss: 0.0902\n",
            "Epoch 38/50\n",
            "469/469 [==============================] - 2s 5ms/step - loss: 0.0914 - val_loss: 0.0903\n",
            "Epoch 39/50\n",
            "469/469 [==============================] - 2s 5ms/step - loss: 0.0912 - val_loss: 0.0899\n",
            "Epoch 40/50\n",
            "469/469 [==============================] - 2s 5ms/step - loss: 0.0910 - val_loss: 0.0901\n",
            "Epoch 41/50\n",
            "469/469 [==============================] - 2s 5ms/step - loss: 0.0910 - val_loss: 0.0904\n",
            "Epoch 42/50\n",
            "469/469 [==============================] - 2s 5ms/step - loss: 0.0909 - val_loss: 0.0897\n",
            "Epoch 43/50\n",
            "469/469 [==============================] - 2s 5ms/step - loss: 0.0907 - val_loss: 0.0896\n",
            "Epoch 44/50\n",
            "469/469 [==============================] - 2s 5ms/step - loss: 0.0906 - val_loss: 0.0896\n",
            "Epoch 45/50\n",
            "469/469 [==============================] - 2s 5ms/step - loss: 0.0904 - val_loss: 0.0904\n",
            "Epoch 46/50\n",
            "469/469 [==============================] - 2s 5ms/step - loss: 0.0906 - val_loss: 0.0895\n",
            "Epoch 47/50\n",
            "469/469 [==============================] - 2s 5ms/step - loss: 0.0901 - val_loss: 0.0891\n",
            "Epoch 48/50\n",
            "469/469 [==============================] - 2s 5ms/step - loss: 0.0901 - val_loss: 0.0891\n",
            "Epoch 49/50\n",
            "469/469 [==============================] - 2s 5ms/step - loss: 0.0902 - val_loss: 0.0890\n",
            "Epoch 50/50\n",
            "469/469 [==============================] - 2s 5ms/step - loss: 0.0899 - val_loss: 0.0889\n"
          ],
          "name": "stdout"
        }
      ]
    },
    {
      "cell_type": "code",
      "metadata": {
        "colab": {
          "base_uri": "https://localhost:8080/"
        },
        "id": "Ns963bAyBBgI",
        "outputId": "942603a7-f0ef-4f9e-caa6-2c63ff33cfec"
      },
      "source": [
        "history.history.keys()"
      ],
      "execution_count": null,
      "outputs": [
        {
          "output_type": "execute_result",
          "data": {
            "text/plain": [
              "dict_keys(['loss', 'val_loss'])"
            ]
          },
          "metadata": {
            "tags": []
          },
          "execution_count": 22
        }
      ]
    },
    {
      "cell_type": "code",
      "metadata": {
        "colab": {
          "base_uri": "https://localhost:8080/",
          "height": 282
        },
        "id": "8DizxmC7BD2m",
        "outputId": "615b2842-c440-4c47-974c-c857bb64dfeb"
      },
      "source": [
        "plt.subplot(1,2,1)\n",
        "plt.plot(history.history['loss'])\n",
        "plt.subplot(1,2,2)\n",
        "plt.plot(history.history['val_loss'])         "
      ],
      "execution_count": null,
      "outputs": [
        {
          "output_type": "execute_result",
          "data": {
            "text/plain": [
              "[<matplotlib.lines.Line2D at 0x7fb3ceb11e48>]"
            ]
          },
          "metadata": {
            "tags": []
          },
          "execution_count": 23
        },
        {
          "output_type": "display_data",
          "data": {
            "image/png": "[encoded data removed]",
            "text/plain": [
              "<Figure size 432x288 with 2 Axes>"
            ]
          },
          "metadata": {
            "tags": [],
            "needs_background": "light"
          }
        }
      ]
    },
    {
      "cell_type": "markdown",
      "metadata": {
        "id": "GWzeIfEfBYcU"
      },
      "source": [
        "- 모델은 0.09x 의 손실값으로 수렴하여, 이전 모델들보다 훨씬 더 좋다 (이것은 이전 32 대 128 차원이라는 더 인코딩된 표현에 대한 높은 엔트로피적인 용량에 기인한다)"
      ]
    },
    {
      "cell_type": "code",
      "metadata": {
        "colab": {
          "base_uri": "https://localhost:8080/",
          "height": 248
        },
        "id": "y71c0JfkBPTi",
        "outputId": "ce521ceb-89c6-4016-aba0-02a44af6be27"
      },
      "source": [
        "decoded_imgs = autoencoder.predict(x_test)\n",
        "\n",
        "n = 10\n",
        "plt.figure(figsize=(20, 4))\n",
        "for i in range(1, n + 1):\n",
        "    # Display original\n",
        "    ax = plt.subplot(2, n, i)\n",
        "    plt.imshow(x_test[i].reshape(28, 28))\n",
        "    plt.gray()\n",
        "    ax.get_xaxis().set_visible(False)\n",
        "    ax.get_yaxis().set_visible(False)\n",
        "\n",
        "    # Display reconstruction\n",
        "    ax = plt.subplot(2, n, i + n)\n",
        "    plt.imshow(decoded_imgs[i].reshape(28, 28))\n",
        "    plt.gray()\n",
        "    ax.get_xaxis().set_visible(False)\n",
        "    ax.get_yaxis().set_visible(False)\n",
        "plt.show()"
      ],
      "execution_count": null,
      "outputs": [
        {
          "output_type": "display_data",
          "data": {
            "image/png": "[encoded data removed]",
            "text/plain": [
              "<Figure size 1440x288 with 20 Axes>"
            ]
          },
          "metadata": {
            "tags": [],
            "needs_background": "light"
          }
        }
      ]
    },
    {
      "cell_type": "markdown",
      "metadata": {
        "id": "iJjP3e9KB-Oe"
      },
      "source": [
        "- It should look better..."
      ]
    },
    {
      "cell_type": "code",
      "metadata": {
        "colab": {
          "base_uri": "https://localhost:8080/",
          "height": 129
        },
        "id": "1muXTXrWCGS5",
        "outputId": "972b86a4-e140-41a3-9fa4-305165d71e63"
      },
      "source": [
        "encoder = keras.Model(input_img, encoded)\n",
        "encoded_imgs = encoder.predict(x_test)\n",
        "\n",
        "n = 10\n",
        "plt.figure(figsize=(20, 8))\n",
        "for i in range(1, n + 1):\n",
        "    ax = plt.subplot(1, n, i)\n",
        "    # plt.imshow(encoded_imgs[i].reshape((4, 4 * 8)).T)\n",
        "    plt.imshow(encoded_imgs[i][:,:,0])\n",
        "    plt.gray()\n",
        "    ax.get_xaxis().set_visible(False)\n",
        "    ax.get_yaxis().set_visible(False)\n",
        "plt.show()"
      ],
      "execution_count": null,
      "outputs": [
        {
          "output_type": "display_data",
          "data": {
            "image/png": "[encoded data removed]",
            "text/plain": [
              "<Figure size 1440x576 with 10 Axes>"
            ]
          },
          "metadata": {
            "tags": [],
            "needs_background": "light"
          }
        }
      ]
    },
    {
      "cell_type": "markdown",
      "metadata": {
        "id": "vU8fZNVtEIFv"
      },
      "source": [
        "# 영상 잡음제거(denoising) 응용\n",
        "- 간단하다: 오토인코더를 학습하여 잡음이 있는 영상 데이터를 깨끗한 영상으로 매핑한다.\n",
        "- 종합적인 잡음 데이터를 생성하는 방법이다: 영상에 가우시안 잡음 행렬을 적용하고 0과 1 사이로 자른다."
      ]
    },
    {
      "cell_type": "code",
      "metadata": {
        "id": "etqbMJskEagZ"
      },
      "source": [
        "from keras.datasets import mnist\n",
        "import numpy as np\n",
        "\n",
        "(x_train, _), (x_test, _) = mnist.load_data()\n",
        "\n",
        "x_train = x_train.astype('float32') / 255.\n",
        "x_test = x_test.astype('float32') / 255.\n",
        "x_train = np.reshape(x_train, (len(x_train), 28, 28, 1))\n",
        "x_test = np.reshape(x_test, (len(x_test), 28, 28, 1))\n",
        "\n",
        "noise_factor = 0.5\n",
        "x_train_noisy = x_train + noise_factor * np.random.normal(loc=0.0, scale=1.0, size=x_train.shape) \n",
        "x_test_noisy = x_test + noise_factor * np.random.normal(loc=0.0, scale=1.0, size=x_test.shape) \n",
        "\n",
        "x_train_noisy = np.clip(x_train_noisy, 0., 1.)\n",
        "x_test_noisy = np.clip(x_test_noisy, 0., 1.)"
      ],
      "execution_count": null,
      "outputs": []
    },
    {
      "cell_type": "markdown",
      "metadata": {
        "id": "d3RGkO1-Enel"
      },
      "source": [
        "- 여기서 잡음 데이터의 모습을 보여준다:"
      ]
    },
    {
      "cell_type": "code",
      "metadata": {
        "colab": {
          "base_uri": "https://localhost:8080/",
          "height": 129
        },
        "id": "Wmk3qbFkErsb",
        "outputId": "616520eb-2899-43ad-e707-a441e1d3ba07"
      },
      "source": [
        "n = 10\n",
        "plt.figure(figsize=(20, 2))\n",
        "for i in range(1, n + 1):\n",
        "    ax = plt.subplot(1, n, i)\n",
        "    plt.imshow(x_test_noisy[i].reshape(28, 28))\n",
        "    plt.gray()\n",
        "    ax.get_xaxis().set_visible(False)\n",
        "    ax.get_yaxis().set_visible(False)\n",
        "plt.show()"
      ],
      "execution_count": null,
      "outputs": [
        {
          "output_type": "display_data",
          "data": {
            "image/png": "[encoded data removed]",
            "text/plain": [
              "<Figure size 1440x144 with 10 Axes>"
            ]
          },
          "metadata": {
            "tags": [],
            "needs_background": "light"
          }
        }
      ]
    },
    {
      "cell_type": "markdown",
      "metadata": {
        "id": "iji4dbxAE0Et"
      },
      "source": [
        "- 이전 합성곱 오토인코더와 비교하여, 재생 품질을 개선하기 위하여 계층마다 더 많은 필터를 가진 약간 다른 모델을 사용한다."
      ]
    },
    {
      "cell_type": "code",
      "metadata": {
        "id": "F2Q3ulnvE4bq"
      },
      "source": [
        "input_img = keras.Input(shape=(28, 28, 1))\n",
        "\n",
        "x = layers.Conv2D(32, (3, 3), activation='relu', padding='same')(input_img)\n",
        "x = layers.MaxPooling2D((2, 2), padding='same')(x)\n",
        "x = layers.Conv2D(32, (3, 3), activation='relu', padding='same')(x)\n",
        "encoded = layers.MaxPooling2D((2, 2), padding='same')(x)\n",
        "\n",
        "# At this point the representation is (7, 7, 32)\n",
        "\n",
        "x = layers.Conv2D(32, (3, 3), activation='relu', padding='same')(encoded)\n",
        "x = layers.UpSampling2D((2, 2))(x)\n",
        "x = layers.Conv2D(32, (3, 3), activation='relu', padding='same')(x)\n",
        "x = layers.UpSampling2D((2, 2))(x)\n",
        "decoded = layers.Conv2D(1, (3, 3), activation='sigmoid', padding='same')(x)\n",
        "\n",
        "autoencoder = keras.Model(input_img, decoded)\n",
        "autoencoder.compile(optimizer='adam', loss='binary_crossentropy')"
      ],
      "execution_count": null,
      "outputs": []
    },
    {
      "cell_type": "code",
      "metadata": {
        "colab": {
          "base_uri": "https://localhost:8080/"
        },
        "id": "OIl5LV6lFHID",
        "outputId": "cd3d11de-f95d-40c7-b2bf-e97ec854e6ac"
      },
      "source": [
        "autoencoder.fit(x_train_noisy, x_train,\n",
        "                epochs=100,\n",
        "                batch_size=128,\n",
        "                shuffle=True,\n",
        "                validation_data=(x_test_noisy, x_test))"
      ],
      "execution_count": null,
      "outputs": [
        {
          "output_type": "stream",
          "text": [
            "Epoch 1/100\n",
            "469/469 [==============================] - 4s 7ms/step - loss: 0.2567 - val_loss: 0.1166\n",
            "Epoch 2/100\n",
            "469/469 [==============================] - 3s 6ms/step - loss: 0.1150 - val_loss: 0.1088\n",
            "Epoch 3/100\n",
            "469/469 [==============================] - 3s 6ms/step - loss: 0.1088 - val_loss: 0.1044\n",
            "Epoch 4/100\n",
            "469/469 [==============================] - 3s 6ms/step - loss: 0.1051 - val_loss: 0.1026\n",
            "Epoch 5/100\n",
            "469/469 [==============================] - 3s 6ms/step - loss: 0.1028 - val_loss: 0.1014\n",
            "Epoch 6/100\n",
            "469/469 [==============================] - 3s 6ms/step - loss: 0.1014 - val_loss: 0.0998\n",
            "Epoch 7/100\n",
            "469/469 [==============================] - 3s 6ms/step - loss: 0.1006 - val_loss: 0.0995\n",
            "Epoch 8/100\n",
            "469/469 [==============================] - 3s 6ms/step - loss: 0.0997 - val_loss: 0.0983\n",
            "Epoch 9/100\n",
            "469/469 [==============================] - 3s 6ms/step - loss: 0.0990 - val_loss: 0.0979\n",
            "Epoch 10/100\n",
            "469/469 [==============================] - 3s 6ms/step - loss: 0.0982 - val_loss: 0.0975\n",
            "Epoch 11/100\n",
            "469/469 [==============================] - 3s 6ms/step - loss: 0.0979 - val_loss: 0.0976\n",
            "Epoch 12/100\n",
            "469/469 [==============================] - 3s 6ms/step - loss: 0.0973 - val_loss: 0.0964\n",
            "Epoch 13/100\n",
            "469/469 [==============================] - 3s 6ms/step - loss: 0.0970 - val_loss: 0.0961\n",
            "Epoch 14/100\n",
            "469/469 [==============================] - 3s 6ms/step - loss: 0.0967 - val_loss: 0.0958\n",
            "Epoch 15/100\n",
            "469/469 [==============================] - 3s 6ms/step - loss: 0.0967 - val_loss: 0.0955\n",
            "Epoch 16/100\n",
            "469/469 [==============================] - 3s 6ms/step - loss: 0.0962 - val_loss: 0.0956\n",
            "Epoch 17/100\n",
            "469/469 [==============================] - 3s 6ms/step - loss: 0.0960 - val_loss: 0.0953\n",
            "Epoch 18/100\n",
            "469/469 [==============================] - 3s 6ms/step - loss: 0.0960 - val_loss: 0.0952\n",
            "Epoch 19/100\n",
            "469/469 [==============================] - 3s 6ms/step - loss: 0.0958 - val_loss: 0.0950\n",
            "Epoch 20/100\n",
            "469/469 [==============================] - 3s 6ms/step - loss: 0.0954 - val_loss: 0.0948\n",
            "Epoch 21/100\n",
            "469/469 [==============================] - 3s 6ms/step - loss: 0.0953 - val_loss: 0.0958\n",
            "Epoch 22/100\n",
            "469/469 [==============================] - 3s 6ms/step - loss: 0.0953 - val_loss: 0.0946\n",
            "Epoch 23/100\n",
            "469/469 [==============================] - 3s 6ms/step - loss: 0.0949 - val_loss: 0.0947\n",
            "Epoch 24/100\n",
            "469/469 [==============================] - 3s 6ms/step - loss: 0.0951 - val_loss: 0.0944\n",
            "Epoch 25/100\n",
            "469/469 [==============================] - 3s 6ms/step - loss: 0.0949 - val_loss: 0.0948\n",
            "Epoch 26/100\n",
            "469/469 [==============================] - 3s 6ms/step - loss: 0.0948 - val_loss: 0.0943\n",
            "Epoch 27/100\n",
            "469/469 [==============================] - 3s 6ms/step - loss: 0.0946 - val_loss: 0.0947\n",
            "Epoch 28/100\n",
            "469/469 [==============================] - 3s 6ms/step - loss: 0.0947 - val_loss: 0.0943\n",
            "Epoch 29/100\n",
            "469/469 [==============================] - 3s 6ms/step - loss: 0.0946 - val_loss: 0.0943\n",
            "Epoch 30/100\n",
            "469/469 [==============================] - 3s 6ms/step - loss: 0.0947 - val_loss: 0.0941\n",
            "Epoch 31/100\n",
            "469/469 [==============================] - 3s 6ms/step - loss: 0.0945 - val_loss: 0.0940\n",
            "Epoch 32/100\n",
            "469/469 [==============================] - 3s 6ms/step - loss: 0.0945 - val_loss: 0.0939\n",
            "Epoch 33/100\n",
            "469/469 [==============================] - 3s 6ms/step - loss: 0.0943 - val_loss: 0.0940\n",
            "Epoch 34/100\n",
            "469/469 [==============================] - 3s 6ms/step - loss: 0.0944 - val_loss: 0.0939\n",
            "Epoch 35/100\n",
            "469/469 [==============================] - 3s 6ms/step - loss: 0.0943 - val_loss: 0.0938\n",
            "Epoch 36/100\n",
            "469/469 [==============================] - 3s 6ms/step - loss: 0.0942 - val_loss: 0.0937\n",
            "Epoch 37/100\n",
            "469/469 [==============================] - 3s 6ms/step - loss: 0.0941 - val_loss: 0.0939\n",
            "Epoch 38/100\n",
            "469/469 [==============================] - 3s 6ms/step - loss: 0.0940 - val_loss: 0.0941\n",
            "Epoch 39/100\n",
            "469/469 [==============================] - 3s 6ms/step - loss: 0.0938 - val_loss: 0.0938\n",
            "Epoch 40/100\n",
            "469/469 [==============================] - 3s 6ms/step - loss: 0.0940 - val_loss: 0.0938\n",
            "Epoch 41/100\n",
            "469/469 [==============================] - 3s 6ms/step - loss: 0.0940 - val_loss: 0.0937\n",
            "Epoch 42/100\n",
            "469/469 [==============================] - 3s 6ms/step - loss: 0.0939 - val_loss: 0.0938\n",
            "Epoch 43/100\n",
            "469/469 [==============================] - 3s 6ms/step - loss: 0.0940 - val_loss: 0.0936\n",
            "Epoch 44/100\n",
            "469/469 [==============================] - 3s 6ms/step - loss: 0.0938 - val_loss: 0.0937\n",
            "Epoch 45/100\n",
            "469/469 [==============================] - 3s 6ms/step - loss: 0.0938 - val_loss: 0.0937\n",
            "Epoch 46/100\n",
            "469/469 [==============================] - 3s 6ms/step - loss: 0.0938 - val_loss: 0.0936\n",
            "Epoch 47/100\n",
            "469/469 [==============================] - 3s 6ms/step - loss: 0.0940 - val_loss: 0.0936\n",
            "Epoch 48/100\n",
            "469/469 [==============================] - 3s 6ms/step - loss: 0.0937 - val_loss: 0.0937\n",
            "Epoch 49/100\n",
            "469/469 [==============================] - 3s 6ms/step - loss: 0.0936 - val_loss: 0.0935\n",
            "Epoch 50/100\n",
            "469/469 [==============================] - 3s 6ms/step - loss: 0.0937 - val_loss: 0.0936\n",
            "Epoch 51/100\n",
            "469/469 [==============================] - 3s 6ms/step - loss: 0.0936 - val_loss: 0.0936\n",
            "Epoch 52/100\n",
            "469/469 [==============================] - 3s 6ms/step - loss: 0.0936 - val_loss: 0.0934\n",
            "Epoch 53/100\n",
            "469/469 [==============================] - 3s 6ms/step - loss: 0.0935 - val_loss: 0.0934\n",
            "Epoch 54/100\n",
            "469/469 [==============================] - 3s 6ms/step - loss: 0.0935 - val_loss: 0.0934\n",
            "Epoch 55/100\n",
            "469/469 [==============================] - 3s 6ms/step - loss: 0.0935 - val_loss: 0.0935\n",
            "Epoch 56/100\n",
            "469/469 [==============================] - 3s 6ms/step - loss: 0.0935 - val_loss: 0.0934\n",
            "Epoch 57/100\n",
            "469/469 [==============================] - 3s 6ms/step - loss: 0.0936 - val_loss: 0.0933\n",
            "Epoch 58/100\n",
            "469/469 [==============================] - 3s 6ms/step - loss: 0.0936 - val_loss: 0.0934\n",
            "Epoch 59/100\n",
            "469/469 [==============================] - 3s 6ms/step - loss: 0.0934 - val_loss: 0.0933\n",
            "Epoch 60/100\n",
            "469/469 [==============================] - 3s 6ms/step - loss: 0.0933 - val_loss: 0.0933\n",
            "Epoch 61/100\n",
            "469/469 [==============================] - 3s 6ms/step - loss: 0.0935 - val_loss: 0.0933\n",
            "Epoch 62/100\n",
            "469/469 [==============================] - 3s 6ms/step - loss: 0.0935 - val_loss: 0.0933\n",
            "Epoch 63/100\n",
            "469/469 [==============================] - 3s 6ms/step - loss: 0.0934 - val_loss: 0.0933\n",
            "Epoch 64/100\n",
            "469/469 [==============================] - 3s 6ms/step - loss: 0.0933 - val_loss: 0.0933\n",
            "Epoch 65/100\n",
            "469/469 [==============================] - 3s 6ms/step - loss: 0.0934 - val_loss: 0.0935\n",
            "Epoch 66/100\n",
            "469/469 [==============================] - 3s 6ms/step - loss: 0.0935 - val_loss: 0.0935\n",
            "Epoch 67/100\n",
            "469/469 [==============================] - 3s 6ms/step - loss: 0.0936 - val_loss: 0.0932\n",
            "Epoch 68/100\n",
            "469/469 [==============================] - 3s 6ms/step - loss: 0.0933 - val_loss: 0.0940\n",
            "Epoch 69/100\n",
            "469/469 [==============================] - 3s 6ms/step - loss: 0.0934 - val_loss: 0.0932\n",
            "Epoch 70/100\n",
            "469/469 [==============================] - 3s 6ms/step - loss: 0.0934 - val_loss: 0.0933\n",
            "Epoch 71/100\n",
            "469/469 [==============================] - 3s 6ms/step - loss: 0.0934 - val_loss: 0.0932\n",
            "Epoch 72/100\n",
            "469/469 [==============================] - 3s 6ms/step - loss: 0.0932 - val_loss: 0.0933\n",
            "Epoch 73/100\n",
            "469/469 [==============================] - 3s 6ms/step - loss: 0.0931 - val_loss: 0.0932\n",
            "Epoch 74/100\n",
            "469/469 [==============================] - 3s 6ms/step - loss: 0.0932 - val_loss: 0.0938\n",
            "Epoch 75/100\n",
            "469/469 [==============================] - 3s 6ms/step - loss: 0.0932 - val_loss: 0.0932\n",
            "Epoch 76/100\n",
            "469/469 [==============================] - 3s 6ms/step - loss: 0.0933 - val_loss: 0.0933\n",
            "Epoch 77/100\n",
            "469/469 [==============================] - 3s 6ms/step - loss: 0.0932 - val_loss: 0.0932\n",
            "Epoch 78/100\n",
            "469/469 [==============================] - 3s 6ms/step - loss: 0.0932 - val_loss: 0.0934\n",
            "Epoch 79/100\n",
            "469/469 [==============================] - 3s 6ms/step - loss: 0.0929 - val_loss: 0.0932\n",
            "Epoch 80/100\n",
            "469/469 [==============================] - 3s 6ms/step - loss: 0.0932 - val_loss: 0.0932\n",
            "Epoch 81/100\n",
            "469/469 [==============================] - 3s 6ms/step - loss: 0.0931 - val_loss: 0.0935\n",
            "Epoch 82/100\n",
            "469/469 [==============================] - 3s 6ms/step - loss: 0.0932 - val_loss: 0.0934\n",
            "Epoch 83/100\n",
            "469/469 [==============================] - 3s 6ms/step - loss: 0.0933 - val_loss: 0.0932\n",
            "Epoch 84/100\n",
            "469/469 [==============================] - 3s 7ms/step - loss: 0.0932 - val_loss: 0.0935\n",
            "Epoch 85/100\n",
            "469/469 [==============================] - 3s 6ms/step - loss: 0.0931 - val_loss: 0.0931\n",
            "Epoch 86/100\n",
            "469/469 [==============================] - 3s 6ms/step - loss: 0.0931 - val_loss: 0.0932\n",
            "Epoch 87/100\n",
            "469/469 [==============================] - 3s 6ms/step - loss: 0.0931 - val_loss: 0.0936\n",
            "Epoch 88/100\n",
            "469/469 [==============================] - 3s 6ms/step - loss: 0.0931 - val_loss: 0.0932\n",
            "Epoch 89/100\n",
            "469/469 [==============================] - 3s 6ms/step - loss: 0.0930 - val_loss: 0.0932\n",
            "Epoch 90/100\n",
            "469/469 [==============================] - 3s 6ms/step - loss: 0.0932 - val_loss: 0.0930\n",
            "Epoch 91/100\n",
            "469/469 [==============================] - 3s 6ms/step - loss: 0.0929 - val_loss: 0.0934\n",
            "Epoch 92/100\n",
            "469/469 [==============================] - 3s 6ms/step - loss: 0.0931 - val_loss: 0.0931\n",
            "Epoch 93/100\n",
            "469/469 [==============================] - 3s 6ms/step - loss: 0.0931 - val_loss: 0.0930\n",
            "Epoch 94/100\n",
            "469/469 [==============================] - 3s 6ms/step - loss: 0.0929 - val_loss: 0.0931\n",
            "Epoch 95/100\n",
            "469/469 [==============================] - 3s 6ms/step - loss: 0.0930 - val_loss: 0.0930\n",
            "Epoch 96/100\n",
            "469/469 [==============================] - 3s 6ms/step - loss: 0.0929 - val_loss: 0.0931\n",
            "Epoch 97/100\n",
            "469/469 [==============================] - 3s 6ms/step - loss: 0.0930 - val_loss: 0.0931\n",
            "Epoch 98/100\n",
            "469/469 [==============================] - 3s 6ms/step - loss: 0.0929 - val_loss: 0.0930\n",
            "Epoch 99/100\n",
            "469/469 [==============================] - 3s 6ms/step - loss: 0.0930 - val_loss: 0.0931\n",
            "Epoch 100/100\n",
            "469/469 [==============================] - 3s 6ms/step - loss: 0.0929 - val_loss: 0.0930\n"
          ],
          "name": "stdout"
        },
        {
          "output_type": "execute_result",
          "data": {
            "text/plain": [
              "<tensorflow.python.keras.callbacks.History at 0x7fb3c3b675f8>"
            ]
          },
          "metadata": {
            "tags": []
          },
          "execution_count": 33
        }
      ]
    },
    {
      "cell_type": "code",
      "metadata": {
        "colab": {
          "base_uri": "https://localhost:8080/",
          "height": 248
        },
        "id": "GO4JWWI3CBWq",
        "outputId": "5aad768b-6e76-4f0e-896d-d24cd07c0823"
      },
      "source": [
        "decoded_imgs = autoencoder.predict(x_test)\n",
        "\n",
        "n = 10\n",
        "plt.figure(figsize=(20, 4))\n",
        "for i in range(1, n + 1):\n",
        "    # Display original\n",
        "    ax = plt.subplot(2, n, i)\n",
        "    plt.imshow(x_test_noisy[i].reshape(28, 28))\n",
        "    plt.gray()\n",
        "    ax.get_xaxis().set_visible(False)\n",
        "    ax.get_yaxis().set_visible(False)\n",
        "\n",
        "    # Display reconstruction\n",
        "    ax = plt.subplot(2, n, i + n)\n",
        "    plt.imshow(decoded_imgs[i].reshape(28, 28))\n",
        "    plt.gray()\n",
        "    ax.get_xaxis().set_visible(False)\n",
        "    ax.get_yaxis().set_visible(False)\n",
        "plt.show()"
      ],
      "execution_count": null,
      "outputs": [
        {
          "output_type": "display_data",
          "data": {
            "image/png": "[encoded data removed]",
            "text/plain": [
              "<Figure size 1440x288 with 20 Axes>"
            ]
          },
          "metadata": {
            "tags": [],
            "needs_background": "light"
          }
        }
      ]
    },
    {
      "cell_type": "markdown",
      "metadata": {
        "id": "ok_bRpmdGmZF"
      },
      "source": [
        "- It seems to work pretty well. If you scale this process to a bigger convnet, you can start building document denoising or audio denoising models. Kaggle has an interesting dataset to get you started."
      ]
    },
    {
      "cell_type": "markdown",
      "metadata": {
        "id": "GbdvimXsGrih"
      },
      "source": [
        "# Sequence-to-sequence autoencoder (seq2seq)\n",
        "- If your inputs are sequences, rather than vectors or 2D images, then you may want to use as encoder and decoder a type of model that can capture temporal structure, such as a LSTM. \n",
        "- To build a LSTM-based autoencoder, first use a LSTM encoder to turn your input sequences into a single vector that contains information about the entire sequence, then repeat this vector n times (where n is the number of timesteps in the output sequence), and run a LSTM decoder to turn this constant sequence into the target sequence.\n",
        "- see https://blog.keras.io/a-ten-minute-introduction-to-sequence-to-sequence-learning-in-keras.html\n",
        "- will probably look like the following:"
      ]
    },
    {
      "cell_type": "code",
      "metadata": {
        "id": "NjXAw4uaHFSW"
      },
      "source": [
        "timesteps = ...  # Length of your sequences\n",
        "input_dim = ... \n",
        "latent_dim = ...\n",
        "\n",
        "inputs = keras.Input(shape=(timesteps, input_dim))\n",
        "encoded = layers.LSTM(latent_dim)(inputs)\n",
        "\n",
        "decoded = layers.RepeatVector(timesteps)(encoded)\n",
        "decoded = layers.LSTM(input_dim, return_sequences=True)(decoded)\n",
        "\n",
        "sequence_autoencoder = keras.Model(inputs, decoded)\n",
        "encoder = keras.Model(inputs, encoded)"
      ],
      "execution_count": null,
      "outputs": []
    },
    {
      "cell_type": "markdown",
      "metadata": {
        "id": "cfTxNbmEHUrH"
      },
      "source": [
        "# Variational autoencoder (VAE) - Generative model\n",
        "- What is a variational autoencoder, you ask? It's a type of autoencoder with added constraints on the encoded representations being learned. \n",
        "- More precisely, it is an autoencoder that learns a latent variable model for its input data. So instead of letting your neural network learn an arbitrary function, you are learning the parameters of a probability distribution modeling your data. \n",
        "- If you sample points from this distribution, you can generate new input data samples: a VAE is a \"generative model\"."
      ]
    },
    {
      "cell_type": "markdown",
      "metadata": {
        "id": "skDpPAIWHvzZ"
      },
      "source": [
        "- how does it work?\n",
        "  - First, an encoder network turns the input samples x into two parameters in a latent space, which we will note z_mean and z_log_sigma. \n",
        "  - Then, we randomly sample similar points z from the latent normal distribution that is assumed to generate the data, via z = z_mean + exp(z_log_sigma) * epsilon, where epsilon is a random normal tensor.\n",
        "  - Finally, a decoder network maps these latent space points back to the original input data."
      ]
    }
  ]
}