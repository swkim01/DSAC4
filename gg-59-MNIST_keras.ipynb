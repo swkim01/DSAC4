{
  "nbformat": 4,
  "nbformat_minor": 0,
  "metadata": {
    "accelerator": "GPU",
    "colab": {
      "name": "gg_62_MNIST_keras.ipynb",
      "provenance": [],
      "collapsed_sections": []
    },
    "kernelspec": {
      "display_name": "Python 3",
      "language": "python",
      "name": "python3"
    },
    "language_info": {
      "codemirror_mode": {
        "name": "ipython",
        "version": 3
      },
      "file_extension": ".py",
      "mimetype": "text/x-python",
      "name": "python",
      "nbconvert_exporter": "python",
      "pygments_lexer": "ipython3",
      "version": "3.8.5"
    }
  },
  "cells": [
    {
      "cell_type": "markdown",
      "metadata": {
        "id": "OO16CDUjp1Ax"
      },
      "source": [
        "# MNIST-keras\n",
        "- 케라스를 이용한 MNIST\n",
        "\n",
        "<table class=\"tfo-notebook-buttons\" align=\"left\">\n",
        "  <td>\n",
        "    <a target=\"_blank\" href=\"https://colab.research.google.com/github/swkim01/DSAC4/blob/main/gg-59-MNIST_keras.ipynb\"><img src=\"https://github.com/swkim01/DSAC4/raw/main/colab_logo_32px.png\" />구글 코랩에서 실행</a>\n",
        "  </td>\n",
        "  <td>\n",
        "    <a target=\"_blank\" href=\"https://github.com/swkim01/DSAC4/blob/main/gg-59-MNIST_keras.ipynb\"><img src=\"https://github.com/swkim01/DSAC4/raw/main/GitHub-Mark-32px.png\" />깃헙에서 소스 보기</a>\n",
        "  </td>\n",
        "</table>"
      ]
    },
    {
      "cell_type": "markdown",
      "metadata": {
        "id": "JIe7bYJMtrfN"
      },
      "source": [
        "## 데이터 로드"
      ]
    },
    {
      "cell_type": "code",
      "metadata": {
        "id": "-AQRftuEqGqx"
      },
      "source": [
        "import numpy as np\n",
        "import tensorflow as tf\n",
        "from tensorflow import keras\n",
        "from keras.datasets import mnist\n",
        "from tensorflow.keras.utils import to_categorical"
      ],
      "execution_count": 3,
      "outputs": []
    },
    {
      "cell_type": "code",
      "metadata": {
        "colab": {
          "base_uri": "https://localhost:8080/"
        },
        "id": "vRUwM8gvqToI",
        "outputId": "3a87dc5d-ad48-477a-dfa8-3d72a31b2d29"
      },
      "source": [
        "(train_images, train_labels), (test_images, test_labels) = mnist.load_data()"
      ],
      "execution_count": 4,
      "outputs": [
        {
          "output_type": "stream",
          "text": [
            "Downloading data from https://storage.googleapis.com/tensorflow/tf-keras-datasets/mnist.npz\n",
            "11493376/11490434 [==============================] - 0s 0us/step\n",
            "11501568/11490434 [==============================] - 0s 0us/step\n"
          ],
          "name": "stdout"
        }
      ]
    },
    {
      "cell_type": "markdown",
      "metadata": {
        "id": "JUaSP2MbtRiS"
      },
      "source": [
        "## MNIST 이미지 확인 및 데이터 전처리"
      ]
    },
    {
      "cell_type": "code",
      "metadata": {
        "colab": {
          "base_uri": "https://localhost:8080/",
          "height": 286
        },
        "id": "UZlBIBHpbRQF",
        "outputId": "a715edda-d982-4506-8dc2-ec3810e1c549"
      },
      "source": [
        "import matplotlib.pyplot as plt\n",
        "%matplotlib inline\n",
        "\n",
        "plt.imshow(train_images[0], cmap=plt.cm.binary)\n",
        "plt.show"
      ],
      "execution_count": null,
      "outputs": [
        {
          "output_type": "execute_result",
          "data": {
            "text/plain": [
              "<function matplotlib.pyplot.show(close=None, block=None)>"
            ]
          },
          "metadata": {
            "tags": []
          },
          "execution_count": 9
        },
        {
          "output_type": "display_data",
          "data": {
            "image/png": "[encoded data removed]",
            "text/plain": [
              "<Figure size 432x288 with 1 Axes>"
            ]
          },
          "metadata": {
            "tags": [],
            "needs_background": "light"
          }
        }
      ]
    },
    {
      "cell_type": "code",
      "metadata": {
        "id": "EafiutHbqni_"
      },
      "source": [
        "train_images = train_images.reshape((60000, 28, 28, 1))\n",
        "train_images = train_images.astype('float32')/255\n",
        "\n",
        "test_images = test_images.reshape((10000, 28, 28, 1))\n",
        "test_images = test_images.astype('float32')/255\n",
        "\n",
        "train_labels = to_categorical(train_labels)\n",
        "test_labels = to_categorical(test_labels)"
      ],
      "execution_count": null,
      "outputs": []
    },
    {
      "cell_type": "markdown",
      "metadata": {
        "id": "Czew2EJub6Ja"
      },
      "source": [
        "## MLP 로 구현(케라스 사용)"
      ]
    },
    {
      "cell_type": "code",
      "metadata": {
        "colab": {
          "base_uri": "https://localhost:8080/",
          "height": 272
        },
        "id": "4tlDJdu8b5XD",
        "outputId": "09986df6-0f8c-4899-8374-55ba542b15ae"
      },
      "source": [
        "from keras import layers\n",
        "from keras import models\n",
        "\n",
        "model = models.Sequential()\n",
        "model.add(layers.Dense(100, activation='relu', input_shape = (28, 28, 1)))\n",
        "model.add(layers.Dense(100, activation='relu'))\n",
        "model.add(layers.Flatten())\n",
        "model.add(layers.Dense(10, activation='softmax'))\n",
        "\n",
        "model.summary()"
      ],
      "execution_count": null,
      "outputs": [
        {
          "output_type": "stream",
          "text": [
            "Model: \"sequential_1\"\n",
            "_________________________________________________________________\n",
            "Layer (type)                 Output Shape              Param #   \n",
            "=================================================================\n",
            "dense_3 (Dense)              (None, 28, 28, 100)       200       \n",
            "_________________________________________________________________\n",
            "dense_4 (Dense)              (None, 28, 28, 100)       10100     \n",
            "_________________________________________________________________\n",
            "flatten_1 (Flatten)          (None, 78400)             0         \n",
            "_________________________________________________________________\n",
            "dense_5 (Dense)              (None, 10)                784010    \n",
            "=================================================================\n",
            "Total params: 794,310\n",
            "Trainable params: 794,310\n",
            "Non-trainable params: 0\n",
            "_________________________________________________________________\n"
          ],
          "name": "stdout"
        }
      ]
    },
    {
      "cell_type": "code",
      "metadata": {
        "id": "jiv81CMBcf88"
      },
      "source": [
        "model.compile(optimizer= 'rmsprop',\n",
        "             loss = 'categorical_crossentropy',\n",
        "             metrics = ['accuracy'])"
      ],
      "execution_count": null,
      "outputs": []
    },
    {
      "cell_type": "code",
      "metadata": {
        "colab": {
          "base_uri": "https://localhost:8080/",
          "height": 204
        },
        "id": "oV47F7rsb5EY",
        "outputId": "2f829237-63c9-41cc-bc79-c2169acdcc1a"
      },
      "source": [
        "model.fit(train_images, train_labels, epochs=5, batch_size=64)"
      ],
      "execution_count": null,
      "outputs": [
        {
          "output_type": "stream",
          "text": [
            "Epoch 1/5\n",
            "60000/60000 [==============================] - 12s 193us/step - loss: 0.2279 - acc: 0.9363\n",
            "Epoch 2/5\n",
            "60000/60000 [==============================] - 12s 193us/step - loss: 0.2168 - acc: 0.9389\n",
            "Epoch 3/5\n",
            "60000/60000 [==============================] - 12s 195us/step - loss: 0.2085 - acc: 0.9416\n",
            "Epoch 4/5\n",
            "60000/60000 [==============================] - 12s 193us/step - loss: 0.2029 - acc: 0.9436\n",
            "Epoch 5/5\n",
            "60000/60000 [==============================] - 12s 192us/step - loss: 0.1968 - acc: 0.9453\n"
          ],
          "name": "stdout"
        },
        {
          "output_type": "execute_result",
          "data": {
            "text/plain": [
              "<keras.callbacks.History at 0x7fc77c0b4198>"
            ]
          },
          "metadata": {
            "tags": []
          },
          "execution_count": 30
        }
      ]
    },
    {
      "cell_type": "code",
      "metadata": {
        "colab": {
          "base_uri": "https://localhost:8080/",
          "height": 51
        },
        "id": "JWGwyDRBdNqL",
        "outputId": "c6b1ee2e-2e01-4c1c-83c9-80317ae952c6"
      },
      "source": [
        "test_loss, test_acc = model.evaluate(test_images, test_labels)\n",
        "print('test_acc = ',test_acc)"
      ],
      "execution_count": null,
      "outputs": [
        {
          "output_type": "stream",
          "text": [
            "10000/10000 [==============================] - 1s 113us/step\n",
            "test_acc =  0.9312\n"
          ],
          "name": "stdout"
        }
      ]
    },
    {
      "cell_type": "markdown",
      "metadata": {
        "id": "44tLYKCwtYc-"
      },
      "source": [
        "## CNN 모델 생성"
      ]
    },
    {
      "cell_type": "code",
      "metadata": {
        "colab": {
          "base_uri": "https://localhost:8080/",
          "height": 374
        },
        "id": "ZF7JkSQvrYAj",
        "outputId": "8db26556-c872-481b-e17b-ebbe895b42d6"
      },
      "source": [
        "from keras import layers\n",
        "from keras import models\n",
        "\n",
        "model = models.Sequential()\n",
        "model.add(layers.Conv2D(32, (3,3), activation='relu', input_shape = (28, 28, 1)))\n",
        "model.add(layers.MaxPooling2D((2,2)))\n",
        "model.add(layers.Conv2D(64, (3,3), activation='relu'))\n",
        "model.add(layers.MaxPooling2D((2,2)))\n",
        "model.add(layers.Conv2D(64, (3,3), activation='relu'))\n",
        "\n",
        "model.add(layers.Flatten())\n",
        "model.add(layers.Dense(10, activation='softmax'))\n",
        "\n",
        "model.summary()   "
      ],
      "execution_count": null,
      "outputs": [
        {
          "output_type": "stream",
          "text": [
            "_________________________________________________________________\n",
            "Layer (type)                 Output Shape              Param #   \n",
            "=================================================================\n",
            "conv2d_4 (Conv2D)            (None, 26, 26, 32)        320       \n",
            "_________________________________________________________________\n",
            "max_pooling2d_3 (MaxPooling2 (None, 13, 13, 32)        0         \n",
            "_________________________________________________________________\n",
            "conv2d_5 (Conv2D)            (None, 11, 11, 64)        18496     \n",
            "_________________________________________________________________\n",
            "max_pooling2d_4 (MaxPooling2 (None, 5, 5, 64)          0         \n",
            "_________________________________________________________________\n",
            "conv2d_6 (Conv2D)            (None, 3, 3, 64)          36928     \n",
            "_________________________________________________________________\n",
            "flatten_4 (Flatten)          (None, 576)               0         \n",
            "_________________________________________________________________\n",
            "dense_18 (Dense)             (None, 10)                5770      \n",
            "=================================================================\n",
            "Total params: 61,514\n",
            "Trainable params: 61,514\n",
            "Non-trainable params: 0\n",
            "_________________________________________________________________\n"
          ],
          "name": "stdout"
        }
      ]
    },
    {
      "cell_type": "markdown",
      "metadata": {
        "id": "mUoOEdN0ujJj"
      },
      "source": [
        "## 훈련"
      ]
    },
    {
      "cell_type": "code",
      "metadata": {
        "id": "_ikkdb8qsx6d"
      },
      "source": [
        "model.compile(optimizer= 'rmsprop',\n",
        "             loss = 'categorical_crossentropy',\n",
        "             metrics = ['accuracy'])"
      ],
      "execution_count": null,
      "outputs": []
    },
    {
      "cell_type": "code",
      "metadata": {
        "colab": {
          "base_uri": "https://localhost:8080/",
          "height": 136
        },
        "id": "FWsfipcXu20x",
        "outputId": "0e66c992-8f67-43c2-b7b2-f69818c2c37d"
      },
      "source": [
        "model.fit(train_images, train_labels, epochs=3, batch_size=64)"
      ],
      "execution_count": null,
      "outputs": [
        {
          "output_type": "stream",
          "text": [
            "Epoch 1/3\n",
            "60000/60000 [==============================] - 7s 118us/step - loss: 0.1769 - acc: 0.9447\n",
            "Epoch 2/3\n",
            "60000/60000 [==============================] - 3s 57us/step - loss: 0.0498 - acc: 0.9849\n",
            "Epoch 3/3\n",
            "60000/60000 [==============================] - 3s 58us/step - loss: 0.0356 - acc: 0.9891\n"
          ],
          "name": "stdout"
        },
        {
          "output_type": "execute_result",
          "data": {
            "text/plain": [
              "<keras.callbacks.History at 0x7fc77027a358>"
            ]
          },
          "metadata": {
            "tags": []
          },
          "execution_count": 38
        }
      ]
    },
    {
      "cell_type": "code",
      "metadata": {
        "colab": {
          "base_uri": "https://localhost:8080/",
          "height": 51
        },
        "id": "H4MhJEoUvCm0",
        "outputId": "7262442a-03b0-404f-9851-52765d31106a"
      },
      "source": [
        "test_loss, test_acc = model.evaluate(test_images, test_labels)\n",
        "print('test_acc = ',test_acc)"
      ],
      "execution_count": null,
      "outputs": [
        {
          "output_type": "stream",
          "text": [
            "10000/10000 [==============================] - 1s 59us/step\n",
            "test_acc =  0.9903\n"
          ],
          "name": "stdout"
        }
      ]
    },
    {
      "cell_type": "code",
      "metadata": {
        "id": "snRNbW4dv7cF"
      },
      "source": [
        ""
      ],
      "execution_count": null,
      "outputs": []
    }
  ]
}