{
 "cells": [
  {
   "cell_type": "markdown",
   "metadata": {},
   "source": [
    "# MNIST 텐서플로우\n",
    "\n",
    "https://blog.ai.ovgu.de/posts/jens/2019/002_tf20_basic_mnist/index.html\n",
    "\n",
    "<table class=\"tfo-notebook-buttons\" align=\"left\">\n",
    "  <td>\n",
    "    <a target=\"_blank\" href=\"https://colab.research.google.com/github/swkim01/DSAC4/blob/main/gg-58-MNIST_텐서플로우.ipynb\"><img src=\"https://github.com/swkim01/DSAC4/raw/main/colab_logo_32px.png\" />구글 코랩에서 실행</a>\n",
    "  </td>\n",
    "  <td>\n",
    "    <a target=\"_blank\" href=\"https://github.com/swkim01/DSAC4/blob/main/gg-58-MNIST_텐서플로우.ipynb\"><img src=\"https://github.com/swkim01/DSAC4/raw/main/GitHub-Mark-32px.png\" />깃헙에서 소스 보기</a>\n",
    "  </td>\n",
    "</table>"
   ]
  },
  {
   "cell_type": "markdown",
   "metadata": {},
   "source": [
    "# MNIST Dataset"
   ]
  },
  {
   "cell_type": "code",
   "execution_count": 1,
   "metadata": {},
   "outputs": [
    {
     "name": "stderr",
     "output_type": "stream",
     "text": [
      "Duplicate key in file PosixPath('/usr/local/lib/python3.8/dist-packages/matplotlib/mpl-data/matplotlibrc'), line 250 ('font.family:  UnDotum')\n",
      "Duplicate key in file PosixPath('/usr/local/lib/python3.8/dist-packages/matplotlib/mpl-data/matplotlibrc'), line 251 ('font.family:  NanumGothic')\n",
      "Duplicate key in file PosixPath('/usr/local/lib/python3.8/dist-packages/matplotlib/mpl-data/matplotlibrc'), line 403 ('axes.unicode_minus: True  # use Unicode for the minus symbol rather than hyphen.  See')\n"
     ]
    },
    {
     "name": "stdout",
     "output_type": "stream",
     "text": [
      "60000\n",
      "10000\n"
     ]
    },
    {
     "data": {
      "text/plain": [
       "<matplotlib.image.AxesImage at 0x7fee893015b0>"
      ]
     },
     "execution_count": 1,
     "metadata": {},
     "output_type": "execute_result"
    },
    {
     "data": {
      "image/png": "[encoded data removed]",
      "text/plain": [
       "<Figure size 432x288 with 1 Axes>"
      ]
     },
     "metadata": {
      "needs_background": "light"
     },
     "output_type": "display_data"
    }
   ],
   "source": [
    "# 단층 퍼셉트론으로 구축하기\n",
    "# 성능이 80% 정도 나온다\n",
    "#import tensorflow as tf\n",
    "import numpy as np\n",
    "import matplotlib.pyplot as plt\n",
    "\n",
    "#from tensorflow.examples.tutorials.mnist import input_data\n",
    "from keras.datasets import mnist\n",
    "from tensorflow.keras.utils import to_categorical\n",
    "\n",
    "#원핫 인코딩을 선택한다\n",
    "#mnist_data = input_data.read_data_sets('MNIST_data', one_hot=True)\n",
    "(train_images, train_labels), (test_images, test_labels) = mnist.load_data()\n",
    "x_train, x_test = np.array(train_images, np.float32), np.array(test_images, np.float32)\n",
    "x_train, x_test = x_train.reshape([-1, 784]), x_test.reshape([-1, 784])\n",
    "x_train, x_test = x_train / 255., x_test / 255.\n",
    "y_train, y_test = to_categorical(train_labels, num_classes=10), to_categorical(test_labels, num_classes=10)\n",
    "\n",
    "print(len(train_images))\n",
    "print(len(test_images))\n",
    "\n",
    "plt.imshow(train_images[0], cmap=\"Greys_r\")\n",
    "\n"
   ]
  },
  {
   "cell_type": "markdown",
   "metadata": {},
   "source": [
    "### Tensorflow 1.0"
   ]
  },
  {
   "cell_type": "code",
   "execution_count": null,
   "metadata": {},
   "outputs": [],
   "source": [
    "#!curl https://github.com/swkim01/DSAC4/blob/main/datasets.py -o datasets.py\n",
    "from datasets import MNISTDataset"
   ]
  },
  {
   "cell_type": "code",
   "execution_count": null,
   "metadata": {},
   "outputs": [],
   "source": [
    "import tensorflow.compat.v1 as tf\n",
    "tf.compat.v1.disable_eager_execution()\n",
    "\n",
    "input_size = 784\n",
    "no_classes = 10\n",
    "batch_size = 100\n",
    "total_batches = 200\n",
    "\n",
    "mnist_data = MNISTDataset(x_train, y_train, x_test, y_test,\n",
    "                    batch_size=100)\n",
    "\n",
    "# None은 임의의 크기를 담을 수 있다는 것을 말한다\n",
    "x_input = tf.placeholder(tf.float32, shape=[None, input_size])\n",
    "y_input = tf.placeholder(tf.float32, shape=[None, no_classes])\n",
    "\n",
    "W = tf.Variable(tf.random_normal([input_size, no_classes]))\n",
    "b = tf.Variable(tf.random_normal([no_classes]))\n",
    "\n",
    "def model(X):\n",
    "    return  tf.matmul(X, W) + b\n",
    "\n",
    "logits = model(x_input)\n",
    "\n",
    "# 크로스엔트로피와 소프트맥스를 사용한다\n",
    "# 손실함수와, 최적화기를 선택\n",
    "# 학습속도 0.5\n",
    "softmax_cross_entropy = tf.nn.softmax_cross_entropy_with_logits(\n",
    "    labels=y_input, logits=logits)\n",
    "loss_operation = tf.reduce_mean(softmax_cross_entropy)\n",
    "optimiser = tf.train.GradientDescentOptimizer(\n",
    "    learning_rate=0.5).minimize(loss_operation)\n",
    "\n",
    "# 초기화\n",
    "session = tf.Session()\n",
    "session.run(tf.global_variables_initializer())\n",
    "\n",
    "# 배치 작업 수행 \n",
    "# feed_dict 인자에 훈련 데이터 딕셔너이를 공급\n",
    "for batch_no in range(total_batches):\n",
    "    mnist_batch  = mnist_data.next_batch()\n",
    "    t_images, t_labels = mnist_batch[0], mnist_batch[1]\n",
    "    _, loss_value = session.run([optimiser, loss_operation], feed_dict={\n",
    "        x_input: t_images,\n",
    "        y_input: t_labels\n",
    "    })\n",
    "\n",
    "predictions = tf.argmax(logits, 1)\n",
    "correct_predictions = tf.equal(predictions, tf.argmax(y_input, 1))\n",
    "accuracy_operation = tf.reduce_mean(tf.cast(correct_predictions,\n",
    "                                            tf.float32))\n",
    "#test_images, test_labels = mnist_data.test.images, mnist_data.test.labels\n",
    "accuracy_value = session.run(accuracy_operation, feed_dict={\n",
    "    x_input: mnist_data.test_data,\n",
    "    y_input: mnist_data.test_labels\n",
    "})\n",
    "print('Accuracy : ', accuracy_value)\n",
    "session.close()\n"
   ]
  },
  {
   "cell_type": "markdown",
   "metadata": {},
   "source": [
    "### Tensorflow 2.0"
   ]
  },
  {
   "cell_type": "code",
   "execution_count": 9,
   "metadata": {},
   "outputs": [
    {
     "name": "stdout",
     "output_type": "stream",
     "text": [
      "Loss: 4.065742015838623 Accuracy: 0.4300000071525574\n",
      "Loss: 2.7999489307403564 Accuracy: 0.5400000214576721\n",
      "Loss: 1.8316439390182495 Accuracy: 0.6800000071525574\n",
      "Loss: 1.5354799032211304 Accuracy: 0.7200000286102295\n",
      "Loss: 1.2007083892822266 Accuracy: 0.7799999713897705\n",
      "Loss: 1.3124220371246338 Accuracy: 0.7699999809265137\n",
      "Loss: 1.4081932306289673 Accuracy: 0.75\n",
      "Loss: 0.6000255346298218 Accuracy: 0.8199999928474426\n",
      "Loss: 0.9749221801757812 Accuracy: 0.7799999713897705\n",
      "Loss: 0.9940370321273804 Accuracy: 0.7699999809265137\n",
      "Test Accuracy: 0.8072999715805054\n"
     ]
    }
   ],
   "source": [
    "import tensorflow as tf\n",
    "#tf.executing_eagerly()\n",
    "\n",
    "input_size = 784\n",
    "no_classes = 10\n",
    "batch_size = 100\n",
    "total_batches = 200\n",
    "\n",
    "train_steps = 1000\n",
    "learning_rate = 0.1\n",
    "\n",
    "# 데이터셋을 섞고 배치로 변환\n",
    "train_data=tf.data.Dataset.from_tensor_slices((x_train, y_train))\n",
    "train_data=train_data.repeat().shuffle(5000).batch(batch_size)\n",
    "\n",
    "W = tf.Variable(tf.random.normal([input_size, no_classes])) # (784, 10)\n",
    "b = tf.Variable(tf.random.normal([no_classes])) # (10,)\n",
    "\n",
    "def model(X):\n",
    "    return  tf.matmul(X, W) + b\n",
    "\n",
    "def loss_func(y_pred, y_true):\n",
    "    return tf.reduce_mean(tf.nn.softmax_cross_entropy_with_logits(\n",
    "            logits=y_pred, labels=y_true))\n",
    "\n",
    "def accuracy(y_pred, y_true):\n",
    "    preds = tf.equal(tf.argmax(y_pred, axis=1), tf.argmax(y_true, axis=1, output_type=tf.int64))\n",
    "    return tf.reduce_mean(tf.cast(preds, tf.float32))\n",
    "\n",
    "#logits = model(x_input)\n",
    "\n",
    "# 반복 학습\n",
    "# dataset.take(c): batch_size 만큼씩  c 번 뽑는다.\n",
    "for step, (x_batch, y_batch) in enumerate(train_data.take(train_steps), 1):\n",
    "    with tf.GradientTape() as tape:\n",
    "        #logits = tf.matmul(img_batch, W) + b\n",
    "        logits = model(x_batch)\n",
    "        xent = loss_func(logits, y_batch)\n",
    "        \n",
    "    grads = tape.gradient(xent, [W, b])\n",
    "    W.assign_sub(learning_rate * grads[0])\n",
    "    b.assign_sub(learning_rate * grads[1])\n",
    "    \n",
    "    if not step % 100:\n",
    "        #preds = tf.argmax(logits, axis=1, output_type=tf.int32)\n",
    "        #acc = tf.reduce_mean(tf.cast(tf.equal(preds, tf.argmax(y_batch, axis=1,output_type=tf.int32)),\n",
    "        #                            tf.float32))\n",
    "        acc = accuracy(logits, y_batch)\n",
    "        print(\"Loss: {} Accuracy: {}\".format(xent, acc))\n",
    "\n",
    "test_acc = accuracy(model(x_test), y_test)\n",
    "print(\"Test Accuracy: {}\".format(test_acc))"
   ]
  },
  {
   "cell_type": "code",
   "execution_count": 5,
   "metadata": {},
   "outputs": [
    {
     "data": {
      "text/plain": [
       "0.9651"
      ]
     },
     "execution_count": 5,
     "metadata": {},
     "output_type": "execute_result"
    }
   ],
   "source": [
    "import pandas as pd\n",
    "from sklearn.ensemble import RandomForestClassifier\n",
    "#X = mnist_data.train_data\n",
    "X = train_images.reshape([-1, 784])\n",
    "#y = mnist_data.train_labels\n",
    "y = train_labels\n",
    "rfc = RandomForestClassifier(n_estimators=50)\n",
    "rfc.fit(X,y)   \n",
    "#prediction = rfc.predict(test_images.reshape([-1, 784]))\n",
    "#rfc.score(mnist_data.test_data, mnist_data.test_labels)\n",
    "rfc.score(test_images.reshape([-1,784]), test_labels)"
   ]
  },
  {
   "cell_type": "code",
   "execution_count": null,
   "metadata": {},
   "outputs": [],
   "source": []
  }
 ],
 "metadata": {
  "accelerator": "GPU",
  "colab": {
   "collapsed_sections": [],
   "include_colab_link": true,
   "name": "gg-50-MNIST-텐서플로우.ipynb",
   "provenance": [],
   "version": "0.3.2"
  },
  "kernelspec": {
   "display_name": "Python 3",
   "language": "python",
   "name": "python3"
  },
  "language_info": {
   "codemirror_mode": {
    "name": "ipython",
    "version": 3
   },
   "file_extension": ".py",
   "mimetype": "text/x-python",
   "name": "python",
   "nbconvert_exporter": "python",
   "pygments_lexer": "ipython3",
   "version": "3.8.5"
  }
 },
 "nbformat": 4,
 "nbformat_minor": 1
}
