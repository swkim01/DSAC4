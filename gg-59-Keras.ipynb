{
 "cells": [
  {
   "cell_type": "markdown",
   "metadata": {
    "id": "xXps_ZmPj_NX"
   },
   "source": [
    "# Keras\n",
    "- 순차형 모델 from https://keras.io/guides/sequential_model/\n",
    "- 함수형 API from https://keras.io/guides/functional_api/\n",
    "- 서브클래싱 from https://keras.io/guides/making_new_layers_and_models_via_subclassing/\n",
    "\n",
    "<table class=\"tfo-notebook-buttons\" align=\"left\">\n",
    "  <td>\n",
    "    <a target=\"_blank\" href=\"https://colab.research.google.com/github/swkim01/DSAC4/blob/main/gg-59-Keras.ipynb\"><img src=\"https://github.com/swkim01/DSAC4/raw/main/colab_logo_32px.png\" />구글 코랩에서 실행</a>\n",
    "  </td>\n",
    "  <td>\n",
    "    <a target=\"_blank\" href=\"https://github.com/swkim01/DSAC4/blob/main/gg-59-Keras.ipynb\"><img src=\"https://github.com/swkim01/DSAC4/raw/main/GitHub-Mark-32px.png\" />깃헙에서 소스 보기</a>\n",
    "  </td>\n",
    "</table>"
   ]
  },
  {
   "cell_type": "markdown",
   "metadata": {},
   "source": [
    "# 순차형 모델\n",
    "\n",
    "**Author:** [fchollet](https://twitter.com/fchollet)<br>\n",
    "**Date created:** 2020/04/12<br>\n",
    "**Last modified:** 2020/04/12<br>\n",
    "**Description:** Complete guide to the Sequential model."
   ]
  },
  {
   "cell_type": "code",
   "execution_count": 1,
   "metadata": {},
   "outputs": [],
   "source": [
    "import tensorflow as tf\n",
    "from tensorflow import keras\n",
    "from tensorflow.keras import layers"
   ]
  },
  {
   "cell_type": "markdown",
   "metadata": {},
   "source": [
    "- `순차형(Sequential)` 모델은 **정확하게 하나의 입력 텐서와 하나의 출력 텐서**를 가진 각 계층이 **순차적으로 쌓인 계층들**에 적합하다."
   ]
  },
  {
   "cell_type": "code",
   "execution_count": 2,
   "metadata": {},
   "outputs": [],
   "source": [
    "# Define Sequential model with 3 layers\n",
    "model = keras.Sequential(\n",
    "    [\n",
    "        layers.Dense(2, activation=\"relu\", name=\"layer1\"),\n",
    "        layers.Dense(3, activation=\"relu\", name=\"layer2\"),\n",
    "        layers.Dense(4, name=\"layer3\"),\n",
    "    ]\n",
    ")\n",
    "# Call model on a test input\n",
    "x = tf.ones((3, 3))\n",
    "y = model(x)"
   ]
  },
  {
   "cell_type": "markdown",
   "metadata": {},
   "source": [
    "은 다음과 같다."
   ]
  },
  {
   "cell_type": "code",
   "execution_count": 3,
   "metadata": {},
   "outputs": [],
   "source": [
    "# Create 3 layers\n",
    "layer1 = layers.Dense(2, activation=\"relu\", name=\"layer1\")\n",
    "layer2 = layers.Dense(3, activation=\"relu\", name=\"layer2\")\n",
    "layer3 = layers.Dense(4, name=\"layer3\")\n",
    "\n",
    "# Call layers on a test input\n",
    "x = tf.ones((3, 3))\n",
    "y = layer3(layer2(layer1(x)))"
   ]
  },
  {
   "cell_type": "markdown",
   "metadata": {},
   "source": [
    "순차형 모델은 Sequential 생성자로 계층 리스트를 전달하여 생성 가능"
   ]
  },
  {
   "cell_type": "code",
   "execution_count": 4,
   "metadata": {},
   "outputs": [],
   "source": [
    "model = keras.Sequential(\n",
    "    [\n",
    "        layers.Dense(2, activation=\"relu\"),\n",
    "        layers.Dense(3, activation=\"relu\"),\n",
    "        layers.Dense(4),\n",
    "    ]\n",
    ")"
   ]
  },
  {
   "cell_type": "code",
   "execution_count": 5,
   "metadata": {},
   "outputs": [
    {
     "data": {
      "text/plain": [
       "[<tensorflow.python.keras.layers.core.Dense at 0x7f55242f5190>,\n",
       " <tensorflow.python.keras.layers.core.Dense at 0x7f55242f5640>,\n",
       " <tensorflow.python.keras.layers.core.Dense at 0x7f55242f5940>]"
      ]
     },
     "execution_count": 5,
     "metadata": {},
     "output_type": "execute_result"
    }
   ],
   "source": [
    "model.layers"
   ]
  },
  {
   "cell_type": "markdown",
   "metadata": {},
   "source": [
    "또한 순차형 모델은 `add()`  메소드를 사용하여 점차 크게 하면서 생성 가능"
   ]
  },
  {
   "cell_type": "code",
   "execution_count": 6,
   "metadata": {},
   "outputs": [],
   "source": [
    "model = keras.Sequential()\n",
    "model.add(layers.Dense(2, activation=\"relu\"))\n",
    "model.add(layers.Dense(3, activation=\"relu\"))\n",
    "model.add(layers.Dense(4))"
   ]
  },
  {
   "cell_type": "markdown",
   "metadata": {},
   "source": [
    "데이터를 입력할 때 내부 모델이 구축되고 가중치(weight)가 생성됨"
   ]
  },
  {
   "cell_type": "code",
   "execution_count": 9,
   "metadata": {},
   "outputs": [],
   "source": [
    "x = tf.ones((1, 4))\n",
    "y = model(x)"
   ]
  },
  {
   "cell_type": "markdown",
   "metadata": {},
   "source": [
    "모델이 구축되면, `summary()` 메소드를 호출하여 내용 출력 가능"
   ]
  },
  {
   "cell_type": "code",
   "execution_count": 10,
   "metadata": {},
   "outputs": [
    {
     "name": "stdout",
     "output_type": "stream",
     "text": [
      "Model: \"sequential_2\"\n",
      "_________________________________________________________________\n",
      "Layer (type)                 Output Shape              Param #   \n",
      "=================================================================\n",
      "dense_3 (Dense)              (1, 2)                    10        \n",
      "_________________________________________________________________\n",
      "dense_4 (Dense)              (1, 3)                    9         \n",
      "_________________________________________________________________\n",
      "dense_5 (Dense)              (1, 4)                    16        \n",
      "=================================================================\n",
      "Total params: 35\n",
      "Trainable params: 35\n",
      "Non-trainable params: 0\n",
      "_________________________________________________________________\n"
     ]
    }
   ],
   "source": [
    "model.summary()"
   ]
  },
  {
   "cell_type": "markdown",
   "metadata": {
    "id": "EwBz_Szcg1YJ"
   },
   "source": [
    "# More Examples\n",
    "- https://machinelearningmastery.com/how-to-make-classification-and-regression-predictions-for-deep-learning-models-in-keras/"
   ]
  },
  {
   "cell_type": "markdown",
   "metadata": {
    "id": "fJk2Hg3InkkF"
   },
   "source": [
    "## Classification"
   ]
  },
  {
   "cell_type": "code",
   "execution_count": 11,
   "metadata": {
    "colab": {
     "base_uri": "https://localhost:8080/"
    },
    "id": "rYKtwQEUiHhS",
    "outputId": "3d11bb39-5e78-40f1-a8fe-555d9eb5c08c"
   },
   "outputs": [
    {
     "name": "stdout",
     "output_type": "stream",
     "text": [
      "Model: \"sequential_3\"\n",
      "_________________________________________________________________\n",
      "Layer (type)                 Output Shape              Param #   \n",
      "=================================================================\n",
      "dense_6 (Dense)              (None, 4)                 12        \n",
      "_________________________________________________________________\n",
      "dense_7 (Dense)              (None, 4)                 20        \n",
      "_________________________________________________________________\n",
      "dense_8 (Dense)              (None, 1)                 5         \n",
      "=================================================================\n",
      "Total params: 37\n",
      "Trainable params: 37\n",
      "Non-trainable params: 0\n",
      "_________________________________________________________________\n"
     ]
    },
    {
     "data": {
      "text/plain": [
       "<tensorflow.python.keras.callbacks.History at 0x7f5470083d60>"
      ]
     },
     "execution_count": 11,
     "metadata": {},
     "output_type": "execute_result"
    }
   ],
   "source": [
    "# example of training a final classification model\n",
    "from keras.models import Sequential\n",
    "from keras.layers import Dense\n",
    "from sklearn.datasets import make_blobs\n",
    "from sklearn.preprocessing import MinMaxScaler\n",
    "# generate 2d classification dataset\n",
    "X, y = make_blobs(n_samples=100, centers=2, n_features=2, random_state=1)\n",
    "scaler = MinMaxScaler()\n",
    "scaler.fit(X)\n",
    "X = scaler.transform(X)\n",
    "# define and fit the final model\n",
    "model = Sequential()\n",
    "model.add(Dense(4, input_dim=2, activation='relu'))\n",
    "model.add(Dense(4, activation='relu'))\n",
    "model.add(Dense(1, activation='sigmoid'))\n",
    "model.summary()\n",
    "model.compile(loss='binary_crossentropy', optimizer='adam')\n",
    "model.fit(X, y, epochs=200, verbose=0)"
   ]
  },
  {
   "cell_type": "markdown",
   "metadata": {
    "id": "szttcMp9iu2S"
   },
   "source": [
    "- prediction: two types\n",
    "  - class prediction\n",
    "  - probability prediction"
   ]
  },
  {
   "cell_type": "code",
   "execution_count": 12,
   "metadata": {
    "colab": {
     "base_uri": "https://localhost:8080/"
    },
    "id": "xB-Dx2Z-i7ub",
    "outputId": "8f04f91c-93fd-4f72-d8a9-17219de177bc"
   },
   "outputs": [
    {
     "name": "stdout",
     "output_type": "stream",
     "text": [
      "Probability...\n",
      "X=[0.89337759 0.65864154], Predicted=[0.07768377]\n",
      "X=[0.29097707 0.12978982], Predicted=[0.88698477]\n",
      "X=[0.78082614 0.75391697], Predicted=[0.06723167]\n"
     ]
    }
   ],
   "source": [
    "# new instances where we do not know the answer\n",
    "Xnew, _ = make_blobs(n_samples=3, centers=2, n_features=2, random_state=1)\n",
    "Xnew = scaler.transform(Xnew)\n",
    "\n",
    "# make a prediction for probability\n",
    "print('Probability...')\n",
    "ynew = model.predict(Xnew)\n",
    "for i in range(len(Xnew)):\n",
    "\tprint(\"X=%s, Predicted=%s\" % (Xnew[i], ynew[i]))"
   ]
  },
  {
   "cell_type": "code",
   "execution_count": 13,
   "metadata": {
    "colab": {
     "base_uri": "https://localhost:8080/"
    },
    "id": "ZOzowXoomzGl",
    "outputId": "6f711dd6-890d-4fcf-bfe8-49f38ab50ea6"
   },
   "outputs": [
    {
     "name": "stdout",
     "output_type": "stream",
     "text": [
      "Classes...\n",
      "X=[0.89337759 0.65864154], Predicted=[0]\n",
      "X=[0.29097707 0.12978982], Predicted=[1]\n",
      "X=[0.78082614 0.75391697], Predicted=[0]\n"
     ]
    }
   ],
   "source": [
    "# make a prediction for classes\n",
    "ynew = (model.predict(Xnew) > 0.5).astype(\"int32\")\n",
    "# show the inputs and predicted outputs\n",
    "print('Classes...')\n",
    "for i in range(len(Xnew)):\n",
    "\tprint(\"X=%s, Predicted=%s\" % (Xnew[i], ynew[i]))"
   ]
  },
  {
   "cell_type": "markdown",
   "metadata": {
    "id": "frB6orWOnnh0"
   },
   "source": [
    "## Regression"
   ]
  },
  {
   "cell_type": "code",
   "execution_count": 14,
   "metadata": {
    "colab": {
     "base_uri": "https://localhost:8080/"
    },
    "id": "kF2k5YaKleoW",
    "outputId": "55d02831-02d5-4e12-8f6f-7f9b2e40c4fb"
   },
   "outputs": [
    {
     "name": "stdout",
     "output_type": "stream",
     "text": [
      "Model: \"sequential_4\"\n",
      "_________________________________________________________________\n",
      "Layer (type)                 Output Shape              Param #   \n",
      "=================================================================\n",
      "dense_9 (Dense)              (None, 4)                 12        \n",
      "_________________________________________________________________\n",
      "dense_10 (Dense)             (None, 4)                 20        \n",
      "_________________________________________________________________\n",
      "dense_11 (Dense)             (None, 1)                 5         \n",
      "=================================================================\n",
      "Total params: 37\n",
      "Trainable params: 37\n",
      "Non-trainable params: 0\n",
      "_________________________________________________________________\n"
     ]
    },
    {
     "data": {
      "text/plain": [
       "<tensorflow.python.keras.callbacks.History at 0x7f5438164a00>"
      ]
     },
     "execution_count": 14,
     "metadata": {},
     "output_type": "execute_result"
    }
   ],
   "source": [
    "# example of training a final regression model\n",
    "from keras.models import Sequential\n",
    "from keras.layers import Dense\n",
    "from sklearn.datasets import make_regression\n",
    "from sklearn.preprocessing import MinMaxScaler\n",
    "# generate regression dataset\n",
    "X, y = make_regression(n_samples=100, n_features=2, noise=0.1, random_state=1)\n",
    "scalerX, scalerY = MinMaxScaler(), MinMaxScaler()\n",
    "scalerX.fit(X)\n",
    "scalerY.fit(y.reshape(100,1))   # (100,) -> (100,1)\n",
    "X = scalerX.transform(X)\n",
    "y = scalerY.transform(y.reshape(100,1))\n",
    "\n",
    "# define and fit the final model\n",
    "model = Sequential()\n",
    "model.add(Dense(4, input_dim=2, activation='relu'))\n",
    "model.add(Dense(4, activation='relu'))\n",
    "model.add(Dense(1, activation='linear'))\n",
    "model.summary()\n",
    "model.compile(loss='mse', optimizer='adam')\n",
    "model.fit(X, y, epochs=1000, verbose=0)"
   ]
  },
  {
   "cell_type": "code",
   "execution_count": 15,
   "metadata": {
    "colab": {
     "base_uri": "https://localhost:8080/"
    },
    "id": "2Wf-ubgjo5Bk",
    "outputId": "2335643f-3180-46b1-b594-484520f606be"
   },
   "outputs": [
    {
     "name": "stdout",
     "output_type": "stream",
     "text": [
      "X=[0.53391506 0.51649323], Predicted=[0.5043237]\n",
      "X=[0.89258469 0.31736135], Predicted=[0.44262034]\n",
      "X=[0.35611851 0.42405769], Predicted=[0.32899955]\n"
     ]
    }
   ],
   "source": [
    "# new instances to predict\n",
    "Xnew, a = make_regression(n_samples=3, n_features=2, noise=0.1, random_state=7)\n",
    "Xnew = scalerX.transform(Xnew)\n",
    "# make a prediction\n",
    "ynew = model.predict(Xnew)\n",
    "# show the inputs and predicted outputs\n",
    "for i in range(len(Xnew)):\n",
    "\tprint(\"X=%s, Predicted=%s\" % (Xnew[i], ynew[i]))"
   ]
  },
  {
   "cell_type": "code",
   "execution_count": 16,
   "metadata": {
    "colab": {
     "base_uri": "https://localhost:8080/"
    },
    "id": "d87OcZ8rJLHU",
    "outputId": "673ac563-5fde-4496-80df-17bd5ae63e33"
   },
   "outputs": [
    {
     "data": {
      "text/plain": [
       "array([[ 36.144573],\n",
       "       [ 14.448471],\n",
       "       [-25.502796]], dtype=float32)"
      ]
     },
     "execution_count": 16,
     "metadata": {},
     "output_type": "execute_result"
    }
   ],
   "source": [
    "scalerY.inverse_transform(ynew)"
   ]
  },
  {
   "cell_type": "code",
   "execution_count": 17,
   "metadata": {
    "colab": {
     "base_uri": "https://localhost:8080/"
    },
    "id": "1VE5mQyBJYs9",
    "outputId": "b3dc45d7-05e9-4ffa-819f-24c043dcf9f8"
   },
   "outputs": [
    {
     "data": {
      "text/plain": [
       "array([[0.5043237 ],\n",
       "       [0.44262034],\n",
       "       [0.32899955]], dtype=float32)"
      ]
     },
     "execution_count": 17,
     "metadata": {},
     "output_type": "execute_result"
    }
   ],
   "source": [
    "scalerY.transform(scalerY.inverse_transform(ynew))"
   ]
  },
  {
   "cell_type": "markdown",
   "metadata": {},
   "source": [
    "# 함수형 API\n",
    "\n",
    "**Author:** [fchollet](https://twitter.com/fchollet)<br>\n",
    "**Date created:** 2019/03/01<br>\n",
    "**Last modified:** 2020/04/12<br>\n",
    "**Description:** Complete guide to the functional API."
   ]
  },
  {
   "cell_type": "code",
   "execution_count": 18,
   "metadata": {
    "id": "Jo8YOAx6kSBK"
   },
   "outputs": [],
   "source": [
    "import numpy as np\n",
    "import tensorflow as tf\n",
    "from tensorflow import keras\n",
    "from tensorflow.keras import layers\n",
    "from tensorflow.keras.models import Sequential\n",
    "from tensorflow.keras.layers import Dense"
   ]
  },
  {
   "cell_type": "markdown",
   "metadata": {
    "id": "qfoLwIC6kVwn"
   },
   "source": [
    "## 입력과 완전연결(Dense) 계층\n",
    "\n",
    "---"
   ]
  },
  {
   "cell_type": "code",
   "execution_count": 19,
   "metadata": {
    "id": "GBYTyf3vkcb8"
   },
   "outputs": [],
   "source": [
    "inputs = keras.Input(shape=(784,))   # 784-dimensional vector. The batch size is always omitted \n",
    "                                     # since only the shape of each sample is specified.\n",
    "img_inputs = keras.Input(shape=(32, 32, 3))"
   ]
  },
  {
   "cell_type": "code",
   "execution_count": 20,
   "metadata": {
    "colab": {
     "base_uri": "https://localhost:8080/"
    },
    "id": "mSvpQu9sk-wT",
    "outputId": "13a72187-8c97-4f4f-bb4c-4ec61713c141"
   },
   "outputs": [
    {
     "data": {
      "text/plain": [
       "(TensorShape([None, 784]),\n",
       " TensorShape([None, 32, 32, 3]),\n",
       " tf.float32,\n",
       " tf.float32)"
      ]
     },
     "execution_count": 20,
     "metadata": {},
     "output_type": "execute_result"
    }
   ],
   "source": [
    "inputs.shape, img_inputs.shape, inputs.dtype, img_inputs.dtype"
   ]
  },
  {
   "cell_type": "code",
   "execution_count": 21,
   "metadata": {
    "id": "CtaeIhEtlB6o"
   },
   "outputs": [],
   "source": [
    "inputs = keras.Input(shape=(784,))\n",
    "x = layers.Dense(64, activation=\"relu\")(inputs)\n",
    "x = layers.Dense(64, activation=\"relu\")(x)\n",
    "outputs = layers.Dense(10)(x)"
   ]
  },
  {
   "cell_type": "code",
   "execution_count": 22,
   "metadata": {
    "colab": {
     "base_uri": "https://localhost:8080/"
    },
    "id": "KFt-YNs8o2ZT",
    "outputId": "3e7e2638-a1b4-4fb9-bf45-2f47d5e614c7"
   },
   "outputs": [
    {
     "name": "stdout",
     "output_type": "stream",
     "text": [
      "Model: \"functional_1\"\n",
      "_________________________________________________________________\n",
      "Layer (type)                 Output Shape              Param #   \n",
      "=================================================================\n",
      "input_3 (InputLayer)         [(None, 784)]             0         \n",
      "_________________________________________________________________\n",
      "dense_12 (Dense)             (None, 64)                50240     \n",
      "_________________________________________________________________\n",
      "dense_13 (Dense)             (None, 64)                4160      \n",
      "_________________________________________________________________\n",
      "dense_14 (Dense)             (None, 10)                650       \n",
      "=================================================================\n",
      "Total params: 55,050\n",
      "Trainable params: 55,050\n",
      "Non-trainable params: 0\n",
      "_________________________________________________________________\n"
     ]
    }
   ],
   "source": [
    "model = keras.Model(inputs, outputs)\n",
    "model.summary()"
   ]
  },
  {
   "cell_type": "markdown",
   "metadata": {
    "id": "L0seNgQwpFzo"
   },
   "source": [
    "## 모델 정의\n",
    "---"
   ]
  },
  {
   "cell_type": "code",
   "execution_count": 23,
   "metadata": {
    "colab": {
     "base_uri": "https://localhost:8080/"
    },
    "id": "R8H1hkYkl7mT",
    "outputId": "0f4ba9fa-5934-4b9a-b515-b87059fd96c3"
   },
   "outputs": [
    {
     "name": "stdout",
     "output_type": "stream",
     "text": [
      "Model: \"mnist_model\"\n",
      "_________________________________________________________________\n",
      "Layer (type)                 Output Shape              Param #   \n",
      "=================================================================\n",
      "input_3 (InputLayer)         [(None, 784)]             0         \n",
      "_________________________________________________________________\n",
      "dense_12 (Dense)             (None, 64)                50240     \n",
      "_________________________________________________________________\n",
      "dense_13 (Dense)             (None, 64)                4160      \n",
      "_________________________________________________________________\n",
      "dense_14 (Dense)             (None, 10)                650       \n",
      "=================================================================\n",
      "Total params: 55,050\n",
      "Trainable params: 55,050\n",
      "Non-trainable params: 0\n",
      "_________________________________________________________________\n"
     ]
    }
   ],
   "source": [
    "# create a Model by specifying its inputs and outputs in the graph of layers\n",
    "model = keras.Model(inputs=inputs, outputs=outputs, name=\"mnist_model\")\n",
    "model.summary()"
   ]
  },
  {
   "cell_type": "code",
   "execution_count": 24,
   "metadata": {
    "id": "P2zxPJq0l-8I"
   },
   "outputs": [],
   "source": [
    "# no of parameters to train\n",
    "# 784 * 64 + 64 = 50240\n",
    "# 64 * 64 + 64 = 4160\n",
    "# 64 * 10 + 10 = 650"
   ]
  },
  {
   "cell_type": "code",
   "execution_count": 25,
   "metadata": {
    "colab": {
     "base_uri": "https://localhost:8080/",
     "height": 369
    },
    "id": "Bf_cEz_CnLHp",
    "outputId": "325645a6-a02c-4d4f-deb2-b702c1a090f7"
   },
   "outputs": [
    {
     "data": {
      "image/png": "[encoded data removed]",
      "text/plain": [
       "<IPython.core.display.Image object>"
      ]
     },
     "execution_count": 25,
     "metadata": {},
     "output_type": "execute_result"
    }
   ],
   "source": [
    "# plot the model\n",
    "keras.utils.plot_model(model, \"my_first_model.png\")"
   ]
  },
  {
   "cell_type": "code",
   "execution_count": 26,
   "metadata": {
    "colab": {
     "base_uri": "https://localhost:8080/",
     "height": 422
    },
    "id": "w4AYC09OnOQe",
    "outputId": "f9ecc9ac-5ee7-4889-9256-67e512d4011e"
   },
   "outputs": [
    {
     "data": {
      "image/png": "[encoded data removed]",
      "text/plain": [
       "<IPython.core.display.Image object>"
      ]
     },
     "execution_count": 26,
     "metadata": {},
     "output_type": "execute_result"
    }
   ],
   "source": [
    "# optionally, display the input and output shapes of each layer in the plotted graph:\n",
    "\n",
    "keras.utils.plot_model(model, \"my_first_model_with_shape_info.png\", show_shapes=True)"
   ]
  },
  {
   "cell_type": "markdown",
   "metadata": {
    "id": "e0BC5F6snZkq"
   },
   "source": [
    "## 훈련, 평가, 및 추론\n",
    "---\n",
    "- try to use Sequential() model, with MNIST dataset"
   ]
  },
  {
   "cell_type": "code",
   "execution_count": 27,
   "metadata": {
    "colab": {
     "base_uri": "https://localhost:8080/"
    },
    "id": "3iGRGZ7Zn1Bh",
    "outputId": "bbbfb261-4f22-4b03-81f3-50e291f33299"
   },
   "outputs": [
    {
     "name": "stdout",
     "output_type": "stream",
     "text": [
      "(60000, 28, 28) (10000, 28, 28) (60000, 28, 28) (10000, 28, 28)\n"
     ]
    }
   ],
   "source": [
    "(x_train, y_train), (x_test, y_test) = keras.datasets.mnist.load_data()\n",
    "print(x_train.shape, x_test.shape, x_train.shape, x_test.shape)"
   ]
  },
  {
   "cell_type": "code",
   "execution_count": 28,
   "metadata": {
    "colab": {
     "base_uri": "https://localhost:8080/"
    },
    "id": "Fp5z5nddoA05",
    "outputId": "4efe2dd1-83a9-48a1-d25d-fa9fc44a2ba0"
   },
   "outputs": [
    {
     "name": "stdout",
     "output_type": "stream",
     "text": [
      "Epoch 1/2\n",
      "480/480 [==============================] - 1s 2ms/step - loss: 0.3807 - accuracy: 0.8920 - val_loss: 0.2151 - val_accuracy: 0.9362\n",
      "Epoch 2/2\n",
      "480/480 [==============================] - 1s 2ms/step - loss: 0.1769 - accuracy: 0.9479 - val_loss: 0.1487 - val_accuracy: 0.9580\n",
      "313/313 - 0s - loss: 0.1404 - accuracy: 0.9582\n",
      "Test loss: 0.1403622180223465\n",
      "Test accuracy: 0.9581999778747559\n"
     ]
    }
   ],
   "source": [
    "x_train = x_train.reshape(60000, 784).astype(\"float32\") / 255\n",
    "x_test = x_test.reshape(10000, 784).astype(\"float32\") / 255\n",
    "\n",
    "model.compile(\n",
    "    loss=keras.losses.SparseCategoricalCrossentropy(from_logits=True),\n",
    "    optimizer=keras.optimizers.RMSprop(),\n",
    "    metrics=[\"accuracy\"],\n",
    ")\n",
    "history = model.fit(x_train, y_train, batch_size=100, epochs=2, validation_split=0.2)\n",
    "\n",
    "test_scores = model.evaluate(x_test, y_test, verbose=2)\n",
    "print(\"Test loss:\", test_scores[0])\n",
    "print(\"Test accuracy:\", test_scores[1])"
   ]
  },
  {
   "cell_type": "markdown",
   "metadata": {
    "id": "UhCW3xvMV00X"
   },
   "source": [
    "- we can see that size(train)=60000*0.8=48000 (480 steps/epoch)\n",
    "- and size(val) = 60000*0.2=12000 "
   ]
  },
  {
   "cell_type": "code",
   "execution_count": 29,
   "metadata": {
    "colab": {
     "base_uri": "https://localhost:8080/"
    },
    "id": "ssbpYuZsVmkL",
    "outputId": "2d232079-912f-4315-c22e-5f9180deaa54"
   },
   "outputs": [
    {
     "data": {
      "text/plain": [
       "dict_keys(['loss', 'accuracy', 'val_loss', 'val_accuracy'])"
      ]
     },
     "execution_count": 29,
     "metadata": {},
     "output_type": "execute_result"
    }
   ],
   "source": [
    "history.history.keys()"
   ]
  },
  {
   "cell_type": "markdown",
   "metadata": {
    "id": "FKsMOgQ_pM1p"
   },
   "source": [
    "## 모델 저장\n",
    "---"
   ]
  },
  {
   "cell_type": "markdown",
   "metadata": {
    "id": "wRRjkHOfZ-Lu"
   },
   "source": [
    "- There are two different types of saving models\n",
    "  - Tensorflow SavedModel (recommended)\n",
    "  - previous keras H5 (simplified version)\n",
    "  - for more information: see https://www.tensorflow.org/guide/keras/save_and_serialize?hl=ko"
   ]
  },
  {
   "cell_type": "code",
   "execution_count": 30,
   "metadata": {
    "colab": {
     "base_uri": "https://localhost:8080/"
    },
    "id": "ycFQqbRko8iS",
    "outputId": "17bca7f0-7113-4ac4-ac3f-4c308718b05d"
   },
   "outputs": [
    {
     "name": "stdout",
     "output_type": "stream",
     "text": [
      "WARNING:tensorflow:From /usr/local/lib/python3.8/dist-packages/tensorflow/python/training/tracking/tracking.py:111: Model.state_updates (from tensorflow.python.keras.engine.training) is deprecated and will be removed in a future version.\n",
      "Instructions for updating:\n",
      "This property should not be used in TensorFlow 2.0, as updates are applied automatically.\n",
      "WARNING:tensorflow:From /usr/local/lib/python3.8/dist-packages/tensorflow/python/training/tracking/tracking.py:111: Layer.updates (from tensorflow.python.keras.engine.base_layer) is deprecated and will be removed in a future version.\n",
      "Instructions for updating:\n",
      "This property should not be used in TensorFlow 2.0, as updates are applied automatically.\n",
      "INFO:tensorflow:Assets written to: path_to_my_model/assets\n"
     ]
    }
   ],
   "source": [
    "# method 1: savedmodel type\n",
    "model.save(\"path_to_my_model\")\n",
    "del model\n",
    "# Recreate the exact same model purely from the file:\n",
    "model = keras.models.load_model(\"path_to_my_model\")"
   ]
  },
  {
   "cell_type": "code",
   "execution_count": 31,
   "metadata": {
    "id": "lNli9A3IcFwj"
   },
   "outputs": [],
   "source": [
    "# method 2: h5 type\n",
    "model.save(\"my_model.h5\")\n",
    "del model\n",
    "model = keras.models.load_model(\"my_model.h5\")"
   ]
  },
  {
   "cell_type": "markdown",
   "metadata": {
    "id": "4PS3t_2uph5Y"
   },
   "source": [
    "## 다중 모델 정의\n",
    "- a single graph of layers can be used to generate multiple models"
   ]
  },
  {
   "cell_type": "code",
   "execution_count": 32,
   "metadata": {
    "colab": {
     "base_uri": "https://localhost:8080/"
    },
    "id": "FJQLpJCGpj7V",
    "outputId": "3b48c19b-3272-413c-8aa5-d263a711b736"
   },
   "outputs": [
    {
     "name": "stdout",
     "output_type": "stream",
     "text": [
      "Model: \"encoder\"\n",
      "_________________________________________________________________\n",
      "Layer (type)                 Output Shape              Param #   \n",
      "=================================================================\n",
      "img (InputLayer)             [(None, 28, 28, 1)]       0         \n",
      "_________________________________________________________________\n",
      "conv2d (Conv2D)              (None, 26, 26, 16)        160       \n",
      "_________________________________________________________________\n",
      "conv2d_1 (Conv2D)            (None, 24, 24, 32)        4640      \n",
      "_________________________________________________________________\n",
      "max_pooling2d (MaxPooling2D) (None, 8, 8, 32)          0         \n",
      "_________________________________________________________________\n",
      "conv2d_2 (Conv2D)            (None, 6, 6, 32)          9248      \n",
      "_________________________________________________________________\n",
      "conv2d_3 (Conv2D)            (None, 4, 4, 16)          4624      \n",
      "_________________________________________________________________\n",
      "global_max_pooling2d (Global (None, 16)                0         \n",
      "=================================================================\n",
      "Total params: 18,672\n",
      "Trainable params: 18,672\n",
      "Non-trainable params: 0\n",
      "_________________________________________________________________\n",
      "Model: \"autoencoder\"\n",
      "_________________________________________________________________\n",
      "Layer (type)                 Output Shape              Param #   \n",
      "=================================================================\n",
      "img (InputLayer)             [(None, 28, 28, 1)]       0         \n",
      "_________________________________________________________________\n",
      "conv2d (Conv2D)              (None, 26, 26, 16)        160       \n",
      "_________________________________________________________________\n",
      "conv2d_1 (Conv2D)            (None, 24, 24, 32)        4640      \n",
      "_________________________________________________________________\n",
      "max_pooling2d (MaxPooling2D) (None, 8, 8, 32)          0         \n",
      "_________________________________________________________________\n",
      "conv2d_2 (Conv2D)            (None, 6, 6, 32)          9248      \n",
      "_________________________________________________________________\n",
      "conv2d_3 (Conv2D)            (None, 4, 4, 16)          4624      \n",
      "_________________________________________________________________\n",
      "global_max_pooling2d (Global (None, 16)                0         \n",
      "_________________________________________________________________\n",
      "reshape (Reshape)            (None, 4, 4, 1)           0         \n",
      "_________________________________________________________________\n",
      "conv2d_transpose (Conv2DTran (None, 6, 6, 16)          160       \n",
      "_________________________________________________________________\n",
      "conv2d_transpose_1 (Conv2DTr (None, 8, 8, 32)          4640      \n",
      "_________________________________________________________________\n",
      "up_sampling2d (UpSampling2D) (None, 24, 24, 32)        0         \n",
      "_________________________________________________________________\n",
      "conv2d_transpose_2 (Conv2DTr (None, 26, 26, 16)        4624      \n",
      "_________________________________________________________________\n",
      "conv2d_transpose_3 (Conv2DTr (None, 28, 28, 1)         145       \n",
      "=================================================================\n",
      "Total params: 28,241\n",
      "Trainable params: 28,241\n",
      "Non-trainable params: 0\n",
      "_________________________________________________________________\n"
     ]
    }
   ],
   "source": [
    "encoder_input = keras.Input(shape=(28, 28, 1), name=\"img\")\n",
    "x = layers.Conv2D(16, 3, activation=\"relu\")(encoder_input)\n",
    "x = layers.Conv2D(32, 3, activation=\"relu\")(x)\n",
    "x = layers.MaxPooling2D(3)(x)\n",
    "x = layers.Conv2D(32, 3, activation=\"relu\")(x)\n",
    "x = layers.Conv2D(16, 3, activation=\"relu\")(x)\n",
    "encoder_output = layers.GlobalMaxPooling2D()(x) \n",
    "            # (batch_size, rows, columns, channels)->(batch_size, channels)\n",
    "\n",
    "encoder = keras.Model(encoder_input, encoder_output, name=\"encoder\")\n",
    "encoder.summary()\n",
    "\n",
    "x = layers.Reshape((4, 4, 1))(encoder_output)\n",
    "x = layers.Conv2DTranspose(16, 3, activation=\"relu\")(x)\n",
    "x = layers.Conv2DTranspose(32, 3, activation=\"relu\")(x)\n",
    "x = layers.UpSampling2D(3)(x)\n",
    "x = layers.Conv2DTranspose(16, 3, activation=\"relu\")(x)\n",
    "decoder_output = layers.Conv2DTranspose(1, 3, activation=\"relu\")(x)\n",
    "\n",
    "autoencoder = keras.Model(encoder_input, decoder_output, name=\"autoencoder\")\n",
    "autoencoder.summary()"
   ]
  },
  {
   "cell_type": "markdown",
   "metadata": {
    "id": "Cr6sG4ILsVyv"
   },
   "source": [
    "### more information about de-convolution\n",
    "\n",
    "--- \n",
    "\n",
    "- Convolutions\n",
    "  - Convolutions\n",
    "  - Dilated Convolutions (a.k.s Astrous Convolutions)\n",
    "  - Transposed Convolutions (a.k.a. deconvolutions or fractionally strided convolutions)\n",
    "  - Separable Convolutions\n",
    "  - from https://towardsdatascience.com/types-of-convolutions-in-deep-learning-717013397f4d"
   ]
  },
  {
   "cell_type": "markdown",
   "metadata": {
    "id": "xr_pHeIStpiA"
   },
   "source": [
    "- Difference between UpSample2D and Conv2DTranspose\n",
    "\n",
    "  - UpSampling2D is just a simple scaling up of the image by using nearest neighbour or bilinear upsampling, so nothing smart. Advantage is it's cheap.\n",
    "  - Conv2DTranspose is a convolution operation whose kernel is learnt (just like normal conv2d operation) while training your model. Using Conv2DTranspose will also upsample its input but the key difference is the model should learn what is the best upsampling for the job.\n",
    "- transposed convolution\n",
    "![image.png](data:image/png;base64,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)"
   ]
  },
  {
   "cell_type": "markdown",
   "metadata": {
    "id": "1hIkUtcQt2e5"
   },
   "source": [
    "## 모든 모델은 계층처럼 호출 가능\n",
    "---"
   ]
  },
  {
   "cell_type": "code",
   "execution_count": 33,
   "metadata": {
    "colab": {
     "base_uri": "https://localhost:8080/"
    },
    "id": "gqeJn4dTuyKu",
    "outputId": "ca56458a-fa31-4547-f70a-d7f04ebb5178"
   },
   "outputs": [
    {
     "name": "stdout",
     "output_type": "stream",
     "text": [
      "Model: \"encoder\"\n",
      "_________________________________________________________________\n",
      "Layer (type)                 Output Shape              Param #   \n",
      "=================================================================\n",
      "original_img (InputLayer)    [(None, 28, 28, 1)]       0         \n",
      "_________________________________________________________________\n",
      "conv2d_4 (Conv2D)            (None, 26, 26, 16)        160       \n",
      "_________________________________________________________________\n",
      "conv2d_5 (Conv2D)            (None, 24, 24, 32)        4640      \n",
      "_________________________________________________________________\n",
      "max_pooling2d_1 (MaxPooling2 (None, 8, 8, 32)          0         \n",
      "_________________________________________________________________\n",
      "conv2d_6 (Conv2D)            (None, 6, 6, 32)          9248      \n",
      "_________________________________________________________________\n",
      "conv2d_7 (Conv2D)            (None, 4, 4, 16)          4624      \n",
      "_________________________________________________________________\n",
      "global_max_pooling2d_1 (Glob (None, 16)                0         \n",
      "=================================================================\n",
      "Total params: 18,672\n",
      "Trainable params: 18,672\n",
      "Non-trainable params: 0\n",
      "_________________________________________________________________\n",
      "Model: \"decoder\"\n",
      "_________________________________________________________________\n",
      "Layer (type)                 Output Shape              Param #   \n",
      "=================================================================\n",
      "encoded_img (InputLayer)     [(None, 16)]              0         \n",
      "_________________________________________________________________\n",
      "reshape_1 (Reshape)          (None, 4, 4, 1)           0         \n",
      "_________________________________________________________________\n",
      "conv2d_transpose_4 (Conv2DTr (None, 6, 6, 16)          160       \n",
      "_________________________________________________________________\n",
      "conv2d_transpose_5 (Conv2DTr (None, 8, 8, 32)          4640      \n",
      "_________________________________________________________________\n",
      "up_sampling2d_1 (UpSampling2 (None, 24, 24, 32)        0         \n",
      "_________________________________________________________________\n",
      "conv2d_transpose_6 (Conv2DTr (None, 26, 26, 16)        4624      \n",
      "_________________________________________________________________\n",
      "conv2d_transpose_7 (Conv2DTr (None, 28, 28, 1)         145       \n",
      "=================================================================\n",
      "Total params: 9,569\n",
      "Trainable params: 9,569\n",
      "Non-trainable params: 0\n",
      "_________________________________________________________________\n",
      "Model: \"autoencoder\"\n",
      "_________________________________________________________________\n",
      "Layer (type)                 Output Shape              Param #   \n",
      "=================================================================\n",
      "img (InputLayer)             [(None, 28, 28, 1)]       0         \n",
      "_________________________________________________________________\n",
      "encoder (Functional)         (None, 16)                18672     \n",
      "_________________________________________________________________\n",
      "decoder (Functional)         (None, 28, 28, 1)         9569      \n",
      "=================================================================\n",
      "Total params: 28,241\n",
      "Trainable params: 28,241\n",
      "Non-trainable params: 0\n",
      "_________________________________________________________________\n"
     ]
    }
   ],
   "source": [
    "encoder_input = keras.Input(shape=(28, 28, 1), name=\"original_img\")\n",
    "x = layers.Conv2D(16, 3, activation=\"relu\")(encoder_input)\n",
    "x = layers.Conv2D(32, 3, activation=\"relu\")(x)\n",
    "x = layers.MaxPooling2D(3)(x)\n",
    "x = layers.Conv2D(32, 3, activation=\"relu\")(x)\n",
    "x = layers.Conv2D(16, 3, activation=\"relu\")(x)\n",
    "encoder_output = layers.GlobalMaxPooling2D()(x)  # pool size equals to the size of the input \n",
    "\n",
    "encoder = keras.Model(encoder_input, encoder_output, name=\"encoder\")\n",
    "encoder.summary()\n",
    "\n",
    "decoder_input = keras.Input(shape=(16,), name=\"encoded_img\")\n",
    "x = layers.Reshape((4, 4, 1))(decoder_input)\n",
    "x = layers.Conv2DTranspose(16, 3, activation=\"relu\")(x)\n",
    "x = layers.Conv2DTranspose(32, 3, activation=\"relu\")(x)\n",
    "x = layers.UpSampling2D(3)(x)\n",
    "x = layers.Conv2DTranspose(16, 3, activation=\"relu\")(x)\n",
    "decoder_output = layers.Conv2DTranspose(1, 3, activation=\"relu\")(x)\n",
    "\n",
    "decoder = keras.Model(decoder_input, decoder_output, name=\"decoder\")\n",
    "decoder.summary()\n",
    "\n",
    "autoencoder_input = keras.Input(shape=(28, 28, 1), name=\"img\")\n",
    "encoded_img = encoder(autoencoder_input)\n",
    "decoded_img = decoder(encoded_img)\n",
    "autoencoder = keras.Model(autoencoder_input, decoded_img, name=\"autoencoder\")\n",
    "autoencoder.summary()"
   ]
  },
  {
   "cell_type": "markdown",
   "metadata": {},
   "source": [
    "### 다중 입출력이 있는 복잡한 모델\n",
    "\n",
    "함수형 API 는 `순차형` API 가 처리할 수 없는 다중 입력 및 출력을 처리하기 쉽다.\n",
    "\n",
    "예를 들면, 고객 불만 사항을 우선순위를 매겨 올바른 부서에 전달하는 시스템을 구축할 때 모델은 3개의 입력을 가질 수 있다:\n",
    "\n",
    "- 게시글의 제목 (텍스트 입력)\n",
    "- 게시글의 내용 (텍스트 입력)\n",
    "- 고객이 붙인 태그 (범주형 입력)\n",
    "\n",
    "모델은 2개의 출력을 가진다:\n",
    "\n",
    "- 0과 1 사이의 우선순위 점수 (단일 시그모이드 출력)\n",
    "- 사항을 전달할 부서 (소프트맥스 출력)"
   ]
  },
  {
   "cell_type": "code",
   "execution_count": 46,
   "metadata": {},
   "outputs": [],
   "source": [
    "num_tags = 12  # Number of unique issue tags\n",
    "num_words = 10000  # Size of vocabulary obtained when preprocessing text data\n",
    "num_departments = 4  # Number of departments for predictions\n",
    "\n",
    "title_input = keras.Input(\n",
    "    shape=(None,), name=\"title\"\n",
    ")  # Variable-length sequence of ints\n",
    "body_input = keras.Input(shape=(None,), name=\"body\")  # Variable-length sequence of ints\n",
    "tags_input = keras.Input(\n",
    "    shape=(num_tags,), name=\"tags\"\n",
    ")  # Binary vectors of size `num_tags`\n",
    "\n",
    "# Embed each word in the title into a 64-dimensional vector\n",
    "title_features = layers.Embedding(num_words, 64)(title_input)\n",
    "# Embed each word in the text into a 64-dimensional vector\n",
    "body_features = layers.Embedding(num_words, 64)(body_input)\n",
    "\n",
    "# Reduce sequence of embedded words in the title into a single 128-dimensional vector\n",
    "title_features = layers.LSTM(128)(title_features)\n",
    "# Reduce sequence of embedded words in the body into a single 32-dimensional vector\n",
    "body_features = layers.LSTM(32)(body_features)\n",
    "\n",
    "# Merge all available features into a single large vector via concatenation\n",
    "x = layers.concatenate([title_features, body_features, tags_input])\n",
    "\n",
    "# Stick a logistic regression for priority prediction on top of the features\n",
    "priority_pred = layers.Dense(1, name=\"priority\")(x)\n",
    "# Stick a department classifier on top of the features\n",
    "department_pred = layers.Dense(num_departments, name=\"department\")(x)\n",
    "\n",
    "# Instantiate an end-to-end model predicting both priority and department\n",
    "model = keras.Model(\n",
    "    inputs=[title_input, body_input, tags_input],\n",
    "    outputs=[priority_pred, department_pred],\n",
    ")"
   ]
  },
  {
   "cell_type": "code",
   "execution_count": 47,
   "metadata": {},
   "outputs": [
    {
     "data": {
      "image/png": "[encoded data removed]",
      "text/plain": [
       "<IPython.core.display.Image object>"
      ]
     },
     "execution_count": 47,
     "metadata": {},
     "output_type": "execute_result"
    }
   ],
   "source": [
    "keras.utils.plot_model(model, \"multi_input_and_output_model.png\", show_shapes=True)"
   ]
  },
  {
   "cell_type": "markdown",
   "metadata": {},
   "source": [
    "모델을 컴파일할 때 각 출력에 다른 손실함수를 적용할 수 있다."
   ]
  },
  {
   "cell_type": "code",
   "execution_count": 48,
   "metadata": {},
   "outputs": [],
   "source": [
    "model.compile(\n",
    "    optimizer=keras.optimizers.RMSprop(1e-3),\n",
    "    loss=[\n",
    "        keras.losses.BinaryCrossentropy(from_logits=True),\n",
    "        keras.losses.CategoricalCrossentropy(from_logits=True),\n",
    "    ],\n",
    "    loss_weights=[1.0, 0.2],\n",
    ")"
   ]
  },
  {
   "cell_type": "markdown",
   "metadata": {},
   "source": [
    "출력 계층은 다른 이름을 가질 수 있다."
   ]
  },
  {
   "cell_type": "code",
   "execution_count": 49,
   "metadata": {},
   "outputs": [],
   "source": [
    "model.compile(\n",
    "    optimizer=keras.optimizers.RMSprop(1e-3),\n",
    "    loss={\n",
    "        \"priority\": keras.losses.BinaryCrossentropy(from_logits=True),\n",
    "        \"department\": keras.losses.CategoricalCrossentropy(from_logits=True),\n",
    "    },\n",
    "    loss_weights=[1.0, 0.2],\n",
    ")"
   ]
  },
  {
   "cell_type": "code",
   "execution_count": 50,
   "metadata": {},
   "outputs": [
    {
     "name": "stdout",
     "output_type": "stream",
     "text": [
      "Epoch 1/2\n",
      "40/40 [==============================] - 0s 10ms/step - loss: 1.2996 - priority_loss: 0.7002 - department_loss: 2.9973\n",
      "Epoch 2/2\n",
      "40/40 [==============================] - 0s 10ms/step - loss: 1.3095 - priority_loss: 0.6994 - department_loss: 3.0501\n"
     ]
    },
    {
     "data": {
      "text/plain": [
       "<tensorflow.python.keras.callbacks.History at 0x7f559c2d5580>"
      ]
     },
     "execution_count": 50,
     "metadata": {},
     "output_type": "execute_result"
    }
   ],
   "source": [
    "# Dummy input data\n",
    "title_data = np.random.randint(num_words, size=(1280, 10))\n",
    "body_data = np.random.randint(num_words, size=(1280, 100))\n",
    "tags_data = np.random.randint(2, size=(1280, num_tags)).astype(\"float32\")\n",
    "\n",
    "# Dummy target data\n",
    "priority_targets = np.random.random(size=(1280, 1))\n",
    "dept_targets = np.random.randint(2, size=(1280, num_departments))\n",
    "\n",
    "model.fit(\n",
    "    {\"title\": title_data, \"body\": body_data, \"tags\": tags_data},\n",
    "    {\"priority\": priority_targets, \"department\": dept_targets},\n",
    "    epochs=2,\n",
    "    batch_size=32,\n",
    ")"
   ]
  },
  {
   "cell_type": "markdown",
   "metadata": {},
   "source": [
    "# 서브클래싱 API\n",
    "\n",
    "**Author:** [fchollet](https://twitter.com/fchollet)<br>\n",
    "**Date created:** 2019/03/01<br>\n",
    "**Last modified:** 2020/04/13<br>\n",
    "**Description:** Complete guide to writing `Layer` and `Model` objects from scratch."
   ]
  },
  {
   "cell_type": "code",
   "execution_count": 51,
   "metadata": {},
   "outputs": [],
   "source": [
    "import tensorflow as tf\n",
    "from tensorflow import keras"
   ]
  },
  {
   "cell_type": "markdown",
   "metadata": {},
   "source": [
    "## `Layer` 클래스: 상태(가중치)와 연산 조합\n",
    "\n",
    "케라스 `Layer` 클래스는 상태(계층의 \"가중치\")와 입력에서 출력으로의 변환(\"call\", 계층의 전방향 연산)을 포함한다.\n",
    "다음 완전연결계층은 상태: 변수 `w`와 `b`를 가진다."
   ]
  },
  {
   "cell_type": "code",
   "execution_count": 52,
   "metadata": {},
   "outputs": [],
   "source": [
    "class Linear(keras.layers.Layer):\n",
    "    def __init__(self, units=32, input_dim=32):\n",
    "        super(Linear, self).__init__()\n",
    "        w_init = tf.random_normal_initializer()\n",
    "        self.w = tf.Variable(\n",
    "            initial_value=w_init(shape=(input_dim, units), dtype=\"float32\"),\n",
    "            trainable=True,\n",
    "        )\n",
    "        b_init = tf.zeros_initializer()\n",
    "        self.b = tf.Variable(\n",
    "            initial_value=b_init(shape=(units,), dtype=\"float32\"), trainable=True\n",
    "        )\n",
    "\n",
    "    def call(self, inputs):\n",
    "        return tf.matmul(inputs, self.w) + self.b"
   ]
  },
  {
   "cell_type": "code",
   "execution_count": 53,
   "metadata": {},
   "outputs": [
    {
     "name": "stdout",
     "output_type": "stream",
     "text": [
      "tf.Tensor(\n",
      "[[ 0.07581503 -0.02209497  0.02312595 -0.09028635]\n",
      " [ 0.07581503 -0.02209497  0.02312595 -0.09028635]], shape=(2, 4), dtype=float32)\n"
     ]
    }
   ],
   "source": [
    "x = tf.ones((2, 2))\n",
    "linear_layer = Linear(4, 2)\n",
    "y = linear_layer(x)\n",
    "print(y)"
   ]
  },
  {
   "cell_type": "code",
   "execution_count": 54,
   "metadata": {},
   "outputs": [],
   "source": [
    "assert linear_layer.weights == [linear_layer.w, linear_layer.b]"
   ]
  },
  {
   "cell_type": "markdown",
   "metadata": {},
   "source": [
    "## `Model` 클래스\n",
    "\n",
    "보통 내부 연산 블록을 정의할 때 `Layer` 클래스를 사용하고 외부 모델을 정의할 때 `Model` 클래스를 사용한다."
   ]
  },
  {
   "cell_type": "code",
   "execution_count": 55,
   "metadata": {},
   "outputs": [],
   "source": [
    "class WideAndDeepModel(keras.Model):\n",
    "    def __init__(self, units=30, activation=\"relu\", **kwargs):\n",
    "        super().__init__(**kwargs) #표준 매개변수 처리\n",
    "        self.hidden1 = keras.layers.Dense(units, activation=activation)\n",
    "        self.hidden2 = keras.layers.Dense(units, activation=activation)\n",
    "        self.main_output = keras.layers.Dense(1)\n",
    "        self.aux_output = keras.layers.Dense(1)\n",
    "        \n",
    "    def call(self, inputs):\n",
    "        input_A, input_B = inputs\n",
    "        hidden1 = self.hidden1(input_B)\n",
    "        hidden2 = self.hidden2(hidden1)\n",
    "        concat = keras.layers.concatenate([input_A, hidden2])\n",
    "        main_output = self.main_output(concat)\n",
    "        aux_output = self.aux_output(hidden2)\n",
    "        return main_output, aux_output\n",
    "    \n",
    "model = WideAndDeepModel()"
   ]
  },
  {
   "cell_type": "code",
   "execution_count": 56,
   "metadata": {},
   "outputs": [
    {
     "data": {
      "image/png": "[encoded data removed]",
      "text/plain": [
       "<IPython.core.display.Image object>"
      ]
     },
     "execution_count": 56,
     "metadata": {},
     "output_type": "execute_result"
    }
   ],
   "source": [
    "keras.utils.plot_model(model, \"wide_and_deep_model.png\", show_shapes=True)"
   ]
  },
  {
   "cell_type": "code",
   "execution_count": 59,
   "metadata": {
    "scrolled": true
   },
   "outputs": [
    {
     "name": "stdout",
     "output_type": "stream",
     "text": [
      "(<tf.Tensor: shape=(2, 1), dtype=float32, numpy=\n",
      "array([[-0.5757799],\n",
      "       [-0.5757799]], dtype=float32)>, <tf.Tensor: shape=(2, 1), dtype=float32, numpy=\n",
      "array([[-0.09716519],\n",
      "       [-0.09716519]], dtype=float32)>)\n"
     ]
    }
   ],
   "source": [
    "x = tf.ones((2, 2, 2))\n",
    "y = model(x)\n",
    "print(y)"
   ]
  },
  {
   "cell_type": "markdown",
   "metadata": {
    "id": "d9jUpMOnqD-A"
   },
   "source": [
    "## Backend operation\n",
    "- keras is a model-level library, so does not have low-level operations, such as tensor products, convolutions, so on.\n",
    "- It uses Backend library for low-level functions."
   ]
  },
  {
   "cell_type": "code",
   "execution_count": null,
   "metadata": {
    "colab": {
     "base_uri": "https://localhost:8080/"
    },
    "id": "Syb_hYKgqWS0",
    "outputId": "4b75dddf-b6d0-4ef4-e313-d5ead7b00e67"
   },
   "outputs": [
    {
     "name": "stdout",
     "output_type": "stream",
     "text": [
      "{\n",
      "    \"epsilon\": 1e-07, \n",
      "    \"floatx\": \"float32\", \n",
      "    \"image_data_format\": \"channels_last\", \n",
      "    \"backend\": \"tensorflow\"\n",
      "}\n"
     ]
    }
   ],
   "source": [
    "!more $HOME/.keras/keras.json   # backend (for low level functions) is tensorflow\n",
    "                                # among Tensorflow, Theano, CNTK"
   ]
  },
  {
   "cell_type": "code",
   "execution_count": 34,
   "metadata": {
    "colab": {
     "base_uri": "https://localhost:8080/"
    },
    "id": "Z8j1tCm1qcts",
    "outputId": "03ebb7b7-5945-437f-c330-4bc53a3475cf"
   },
   "outputs": [
    {
     "data": {
      "text/plain": [
       "<tf.Tensor: shape=(2, 2), dtype=float32, numpy=\n",
       "array([[-2., 14.],\n",
       "       [-7.,  3.]], dtype=float32)>"
      ]
     },
     "execution_count": 34,
     "metadata": {},
     "output_type": "execute_result"
    }
   ],
   "source": [
    "from tensorflow.keras import backend as K\n",
    "a = K.constant([[-2,14],[-7,3]], dtype=tf.float32, shape=[2,2])\n",
    "a"
   ]
  },
  {
   "cell_type": "code",
   "execution_count": 35,
   "metadata": {
    "colab": {
     "base_uri": "https://localhost:8080/"
    },
    "id": "tQegpfqbvClF",
    "outputId": "5ade8929-1b74-4044-b677-f7b8154abd17"
   },
   "outputs": [
    {
     "data": {
      "text/plain": [
       "array([[3.62588441, 2.21753268],\n",
       "       [1.4010376 , 1.97610141]])"
      ]
     },
     "execution_count": 35,
     "metadata": {},
     "output_type": "execute_result"
    }
   ],
   "source": [
    "np.random.normal(2, size=(2,2))"
   ]
  },
  {
   "cell_type": "code",
   "execution_count": 36,
   "metadata": {
    "colab": {
     "base_uri": "https://localhost:8080/"
    },
    "id": "JhvPRWugtJPU",
    "outputId": "3f19bbba-e4ae-4c85-8db3-2ec60f31c257"
   },
   "outputs": [
    {
     "data": {
      "text/plain": [
       "(numpy.ndarray,\n",
       " tensorflow.python.ops.resource_variable_ops.ResourceVariable,\n",
       " tensorflow.python.ops.resource_variable_ops.ResourceVariable,\n",
       " tensorflow.python.ops.resource_variable_ops.ResourceVariable)"
      ]
     },
     "execution_count": 36,
     "metadata": {},
     "output_type": "execute_result"
    }
   ],
   "source": [
    "val = np.random.normal((1, 10, 100))  # mean = 2, 2, 2 ( 3 samples)\n",
    "var = K.variable(value=val)\n",
    "\n",
    "var_0 = K.zeros(shape=(2, 2, 2))\n",
    "var_1 = K.ones(shape=(2, 2, 2))\n",
    "type(val), type(var), type(var_0), type(var_1)"
   ]
  },
  {
   "cell_type": "code",
   "execution_count": 37,
   "metadata": {
    "colab": {
     "base_uri": "https://localhost:8080/"
    },
    "id": "o4fjHYJ4uQFU",
    "outputId": "d6449b3a-02d9-4cb3-e4cb-94fcecb48f4d"
   },
   "outputs": [
    {
     "name": "stdout",
     "output_type": "stream",
     "text": [
      "<tf.Variable 'Variable:0' shape=(2, 2) dtype=float32, numpy=\n",
      "array([[0.346789  , 0.6621629 ],\n",
      "       [0.31104958, 0.6457087 ]], dtype=float32)> \n",
      " <tf.Variable 'Variable:0' shape=(2, 2) dtype=float32, numpy=\n",
      "array([[-0.34421808,  0.08714696],\n",
      "       [ 0.6082787 ,  0.98639464]], dtype=float32)>\n"
     ]
    }
   ],
   "source": [
    "# Initializing Tensors with Random Numbers (same as tf.Variable)\n",
    "b = K.random_uniform_variable(shape=(2,2), low=0, high=1) # Uniform distribution\n",
    "c = K.random_normal_variable(shape=(2,2), mean=0, scale=1) # Gaussian distribution\n",
    "print(b, '\\n', c)"
   ]
  },
  {
   "cell_type": "code",
   "execution_count": 38,
   "metadata": {
    "colab": {
     "base_uri": "https://localhost:8080/"
    },
    "id": "-KLSHvxGyFqE",
    "outputId": "66870a0c-d1f7-4fac-9a9b-e80d50449d10"
   },
   "outputs": [
    {
     "data": {
      "text/plain": [
       "(<tf.Variable 'Variable:0' shape=(2, 2) dtype=float32, numpy=\n",
       " array([[ 0.98667544,  1.3482274 ],\n",
       "        [-0.8441225 ,  0.06912381]], dtype=float32)>,\n",
       " <tf.Variable 'Variable:0' shape=(2, 2) dtype=float32, numpy=\n",
       " array([[0.6663405 , 1.2770151 ],\n",
       "        [0.7131987 , 0.71695757]], dtype=float32)>)"
      ]
     },
     "execution_count": 38,
     "metadata": {},
     "output_type": "execute_result"
    }
   ],
   "source": [
    "var1 = K.variable(tf.random.normal(shape=(2,2)))\n",
    "var2 = tf.Variable(tf.random.normal(shape=(2,2)))\n",
    "var1, var2"
   ]
  },
  {
   "cell_type": "code",
   "execution_count": 39,
   "metadata": {
    "colab": {
     "base_uri": "https://localhost:8080/"
    },
    "id": "ZGAYeJEky09U",
    "outputId": "f3d415fd-4016-452b-df74-9044c3f9aac0"
   },
   "outputs": [
    {
     "data": {
      "text/plain": [
       "(<tf.Tensor: shape=(2, 2), dtype=float32, numpy=\n",
       " array([[-2., 14.],\n",
       "        [-7.,  3.]], dtype=float32)>,\n",
       " <tf.Variable 'Variable:0' shape=(2, 2) dtype=float32, numpy=\n",
       " array([[0.346789  , 0.6621629 ],\n",
       "        [0.31104958, 0.6457087 ]], dtype=float32)>,\n",
       " <tf.Variable 'Variable:0' shape=(2, 2) dtype=float32, numpy=\n",
       " array([[-0.34421808,  0.08714696],\n",
       "        [ 0.6082787 ,  0.98639464]], dtype=float32)>)"
      ]
     },
     "execution_count": 39,
     "metadata": {},
     "output_type": "execute_result"
    }
   ],
   "source": [
    "a, b, c"
   ]
  },
  {
   "cell_type": "code",
   "execution_count": 40,
   "metadata": {
    "colab": {
     "base_uri": "https://localhost:8080/"
    },
    "id": "2ixchPNuwnz-",
    "outputId": "5e63efab-1ee3-4192-ea40-803733066974"
   },
   "outputs": [
    {
     "data": {
      "text/plain": [
       "<tf.Tensor: shape=(2, 2), dtype=float32, numpy=\n",
       "array([[-0.34164715,  1.8822204 ],\n",
       "       [ 4.5690002 ,  3.6048927 ]], dtype=float32)>"
      ]
     },
     "execution_count": 40,
     "metadata": {},
     "output_type": "execute_result"
    }
   ],
   "source": [
    "# Tensor Arithmetic\n",
    "b + c * K.abs(a)"
   ]
  },
  {
   "cell_type": "code",
   "execution_count": 41,
   "metadata": {
    "colab": {
     "base_uri": "https://localhost:8080/"
    },
    "id": "Z3ooBwL20aZJ",
    "outputId": "c248ea35-2cb5-4277-d221-e7f353160ea4"
   },
   "outputs": [
    {
     "data": {
      "text/plain": [
       "<tf.Tensor: shape=(2, 2), dtype=float32, numpy=\n",
       "array([[ 8.576703  ,  8.417823  ],\n",
       "       [-0.44103444, -0.24022114]], dtype=float32)>"
      ]
     },
     "execution_count": 41,
     "metadata": {},
     "output_type": "execute_result"
    }
   ],
   "source": [
    "K.dot(a, K.transpose(b))"
   ]
  },
  {
   "cell_type": "code",
   "execution_count": 42,
   "metadata": {
    "colab": {
     "base_uri": "https://localhost:8080/"
    },
    "id": "ABMAprRM0b0E",
    "outputId": "c4571d90-ab9f-4da0-ed75-66db4b4bdbee"
   },
   "outputs": [
    {
     "data": {
      "text/plain": [
       "<tf.Tensor: shape=(2,), dtype=float32, numpy=array([1.0089519 , 0.95675826], dtype=float32)>"
      ]
     },
     "execution_count": 42,
     "metadata": {},
     "output_type": "execute_result"
    }
   ],
   "source": [
    "K.sum(b, axis=1)"
   ]
  },
  {
   "cell_type": "code",
   "execution_count": 43,
   "metadata": {
    "colab": {
     "base_uri": "https://localhost:8080/"
    },
    "id": "sekHlKdA0dX-",
    "outputId": "7ad49bd0-66f7-4cec-caf6-77def645e9a2"
   },
   "outputs": [
    {
     "data": {
      "text/plain": [
       "<tf.Tensor: shape=(2, 2), dtype=float32, numpy=\n",
       "array([[0.42180356, 0.5781964 ],\n",
       "       [0.41710743, 0.58289254]], dtype=float32)>"
      ]
     },
     "execution_count": 43,
     "metadata": {},
     "output_type": "execute_result"
    }
   ],
   "source": [
    "K.softmax(b)"
   ]
  },
  {
   "cell_type": "code",
   "execution_count": 44,
   "metadata": {
    "colab": {
     "base_uri": "https://localhost:8080/"
    },
    "id": "BCXfLhKm0edW",
    "outputId": "3737e2ae-cdf4-4a85-8469-ad262fcc4f86"
   },
   "outputs": [
    {
     "data": {
      "text/plain": [
       "<tf.Tensor: shape=(2, 4), dtype=float32, numpy=\n",
       "array([[ 0.346789  ,  0.6621629 , -0.34421808,  0.08714696],\n",
       "       [ 0.31104958,  0.6457087 ,  0.6082787 ,  0.98639464]],\n",
       "      dtype=float32)>"
      ]
     },
     "execution_count": 44,
     "metadata": {},
     "output_type": "execute_result"
    }
   ],
   "source": [
    "K.concatenate([b, c], axis=-1)"
   ]
  },
  {
   "cell_type": "code",
   "execution_count": 45,
   "metadata": {
    "colab": {
     "base_uri": "https://localhost:8080/"
    },
    "id": "3mMpzmqN2Wo5",
    "outputId": "3a2a0689-8fdb-4168-dd4e-27717db1afb5"
   },
   "outputs": [
    {
     "data": {
      "text/plain": [
       "<tf.Tensor: shape=(2,), dtype=float32, numpy=array([-28., -21.], dtype=float32)>"
      ]
     },
     "execution_count": 45,
     "metadata": {},
     "output_type": "execute_result"
    }
   ],
   "source": [
    "K.prod(a, axis=1)"
   ]
  },
  {
   "cell_type": "code",
   "execution_count": null,
   "metadata": {
    "id": "yajyyaRM1FMl"
   },
   "outputs": [],
   "source": [
    "# K.shape(), K.ndim(), K.dtype(), K.eval(), K.xeros(), K.ones(),\n",
    "# K.eye(), K.zeros_like(), K.ones_like(), K.cast(), K.update(),\n",
    "# K.update_add(), K.update_sub(), K.dot(), K.batch_dot(), K.transpose(),\n",
    "# K.{max(),min(), sum()}, K.cumsum(), K.cumprod(), K.std(), K.mean(), \n",
    "# any, all, argmax, argmin, square, abs, sqrt, exp, log, round, sign, pow,\n",
    "# clip, equal, not_equal, greater, reshape, resize_images, ..."
   ]
  },
  {
   "cell_type": "markdown",
   "metadata": {
    "id": "kvlwZ0JqzZtF"
   },
   "source": [
    "- For detailed information, please refer to https://keras.io/ko/backend/"
   ]
  },
  {
   "cell_type": "code",
   "execution_count": null,
   "metadata": {
    "id": "lzagXxP-LjPs"
   },
   "outputs": [],
   "source": []
  }
 ],
 "metadata": {
  "accelerator": "GPU",
  "colab": {
   "authorship_tag": "ABX9TyN6VUuQgWMSopUj+IZrp8Sy",
   "collapsed_sections": [],
   "include_colab_link": true,
   "name": "lab_05_keras_rev1.ipynb",
   "provenance": [],
   "toc_visible": true
  },
  "kernelspec": {
   "display_name": "Python 3",
   "language": "python",
   "name": "python3"
  },
  "language_info": {
   "codemirror_mode": {
    "name": "ipython",
    "version": 3
   },
   "file_extension": ".py",
   "mimetype": "text/x-python",
   "name": "python",
   "nbconvert_exporter": "python",
   "pygments_lexer": "ipython3",
   "version": "3.8.5"
  }
 },
 "nbformat": 4,
 "nbformat_minor": 1
}
